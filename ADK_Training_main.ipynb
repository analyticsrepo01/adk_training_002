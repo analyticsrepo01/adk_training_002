{
 "cells": [
  {
   "cell_type": "markdown",
   "metadata": {
    "id": "kTsEHA-Xb10j"
   },
   "source": [
    "# ADK 101 in 45min\n",
    "\n",
    "\n",
    "Where to test:\n",
    "- stdout output\n",
    "- `adk web` as UI -- very nice visualizations\n",
    "\n",
    "Pre-caution:\n",
    "- ADK is still under development. The official launch is early April. This training is intended to provide hands-on experience with the Agent Development Kit (ADK) and its foundational concepts.\n",
    "\n",
    "\n",
    "Documents \n",
    "https://cloud.google.com/vertex-ai/generative-ai/docs/agent-engine/use/adk\n",
    "\n"
   ]
  },
  {
   "cell_type": "markdown",
   "metadata": {
    "id": "U9AedAKNb_1h"
   },
   "source": [
    "# Environment\n"
   ]
  },
  {
   "cell_type": "code",
   "execution_count": 4,
   "metadata": {
    "id": "fYhFnbLqcGWM",
    "scrolled": true,
    "tags": []
   },
   "outputs": [
    {
     "name": "stdout",
     "output_type": "stream",
     "text": [
      "Requirement already satisfied: google_adk in /opt/conda/lib/python3.10/site-packages (0.3.0)\n",
      "Requirement already satisfied: authlib>=1.5.1 in /opt/conda/lib/python3.10/site-packages (from google_adk) (1.5.2)\n",
      "Requirement already satisfied: click>=8.1.8 in /opt/conda/lib/python3.10/site-packages (from google_adk) (8.1.8)\n",
      "Requirement already satisfied: fastapi>=0.115.0 in /opt/conda/lib/python3.10/site-packages (from google_adk) (0.115.8)\n",
      "Requirement already satisfied: google-api-python-client>=2.157.0 in /opt/conda/lib/python3.10/site-packages (from google_adk) (2.168.0)\n",
      "Requirement already satisfied: google-cloud-aiplatform>=1.87.0 in /home/jupyter/.local/lib/python3.10/site-packages (from google_adk) (1.92.0)\n",
      "Requirement already satisfied: google-cloud-secret-manager>=2.22.0 in /opt/conda/lib/python3.10/site-packages (from google_adk) (2.23.3)\n",
      "Requirement already satisfied: google-cloud-speech>=2.30.0 in /opt/conda/lib/python3.10/site-packages (from google_adk) (2.32.0)\n",
      "Requirement already satisfied: google-cloud-storage<3.0.0,>=2.18.0 in /opt/conda/lib/python3.10/site-packages (from google_adk) (2.19.0)\n",
      "Requirement already satisfied: google-genai>=1.11.0 in /opt/conda/lib/python3.10/site-packages (from google_adk) (1.12.1)\n",
      "Requirement already satisfied: graphviz>=0.20.2 in /opt/conda/lib/python3.10/site-packages (from google_adk) (0.20.3)\n",
      "Requirement already satisfied: mcp>=1.5.0 in /opt/conda/lib/python3.10/site-packages (from google_adk) (1.6.0)\n",
      "Requirement already satisfied: opentelemetry-api>=1.31.0 in /opt/conda/lib/python3.10/site-packages (from google_adk) (1.32.1)\n",
      "Requirement already satisfied: opentelemetry-exporter-gcp-trace>=1.9.0 in /opt/conda/lib/python3.10/site-packages (from google_adk) (1.9.0)\n",
      "Requirement already satisfied: opentelemetry-sdk>=1.31.0 in /opt/conda/lib/python3.10/site-packages (from google_adk) (1.32.1)\n",
      "Requirement already satisfied: pydantic<3.0.0,>=2.0 in /home/jupyter/.local/lib/python3.10/site-packages (from google_adk) (2.11.2)\n",
      "Requirement already satisfied: python-dotenv>=1.0.0 in /opt/conda/lib/python3.10/site-packages (from google_adk) (1.1.0)\n",
      "Requirement already satisfied: PyYAML>=6.0.2 in /opt/conda/lib/python3.10/site-packages (from google_adk) (6.0.2)\n",
      "Requirement already satisfied: sqlalchemy>=2.0 in /opt/conda/lib/python3.10/site-packages (from google_adk) (2.0.37)\n",
      "Requirement already satisfied: tzlocal>=5.3 in /opt/conda/lib/python3.10/site-packages (from google_adk) (5.3.1)\n",
      "Requirement already satisfied: uvicorn>=0.34.0 in /opt/conda/lib/python3.10/site-packages (from google_adk) (0.34.0)\n",
      "Requirement already satisfied: cryptography in /opt/conda/lib/python3.10/site-packages (from authlib>=1.5.1->google_adk) (44.0.0)\n",
      "Requirement already satisfied: starlette<0.46.0,>=0.40.0 in /opt/conda/lib/python3.10/site-packages (from fastapi>=0.115.0->google_adk) (0.45.3)\n",
      "Requirement already satisfied: typing-extensions>=4.8.0 in /opt/conda/lib/python3.10/site-packages (from fastapi>=0.115.0->google_adk) (4.13.2)\n",
      "Requirement already satisfied: httplib2<1.0.0,>=0.19.0 in /opt/conda/lib/python3.10/site-packages (from google-api-python-client>=2.157.0->google_adk) (0.22.0)\n",
      "Requirement already satisfied: google-auth!=2.24.0,!=2.25.0,<3.0.0,>=1.32.0 in /opt/conda/lib/python3.10/site-packages (from google-api-python-client>=2.157.0->google_adk) (2.38.0)\n",
      "Requirement already satisfied: google-auth-httplib2<1.0.0,>=0.2.0 in /opt/conda/lib/python3.10/site-packages (from google-api-python-client>=2.157.0->google_adk) (0.2.0)\n",
      "Requirement already satisfied: google-api-core!=2.0.*,!=2.1.*,!=2.2.*,!=2.3.0,<3.0.0,>=1.31.5 in /opt/conda/lib/python3.10/site-packages (from google-api-python-client>=2.157.0->google_adk) (2.24.2)\n",
      "Requirement already satisfied: uritemplate<5,>=3.0.1 in /opt/conda/lib/python3.10/site-packages (from google-api-python-client>=2.157.0->google_adk) (3.0.1)\n",
      "Requirement already satisfied: proto-plus<2.0.0,>=1.22.3 in /opt/conda/lib/python3.10/site-packages (from google-cloud-aiplatform>=1.87.0->google_adk) (1.26.0)\n",
      "Requirement already satisfied: protobuf!=4.21.0,!=4.21.1,!=4.21.2,!=4.21.3,!=4.21.4,!=4.21.5,<7.0.0,>=3.20.2 in /opt/conda/lib/python3.10/site-packages (from google-cloud-aiplatform>=1.87.0->google_adk) (3.20.3)\n",
      "Requirement already satisfied: packaging>=14.3 in /opt/conda/lib/python3.10/site-packages (from google-cloud-aiplatform>=1.87.0->google_adk) (24.2)\n",
      "Requirement already satisfied: google-cloud-bigquery!=3.20.0,<4.0.0,>=1.15.0 in /opt/conda/lib/python3.10/site-packages (from google-cloud-aiplatform>=1.87.0->google_adk) (3.25.0)\n",
      "Requirement already satisfied: google-cloud-resource-manager<3.0.0,>=1.3.3 in /opt/conda/lib/python3.10/site-packages (from google-cloud-aiplatform>=1.87.0->google_adk) (1.14.0)\n",
      "Requirement already satisfied: shapely<3.0.0 in /opt/conda/lib/python3.10/site-packages (from google-cloud-aiplatform>=1.87.0->google_adk) (2.0.7)\n",
      "Requirement already satisfied: docstring-parser<1 in /opt/conda/lib/python3.10/site-packages (from google-cloud-aiplatform>=1.87.0->google_adk) (0.16)\n",
      "Requirement already satisfied: grpc-google-iam-v1<1.0.0,>=0.14.0 in /opt/conda/lib/python3.10/site-packages (from google-cloud-secret-manager>=2.22.0->google_adk) (0.14.0)\n",
      "Requirement already satisfied: google-cloud-core<3.0dev,>=2.3.0 in /opt/conda/lib/python3.10/site-packages (from google-cloud-storage<3.0.0,>=2.18.0->google_adk) (2.4.1)\n",
      "Requirement already satisfied: google-resumable-media>=2.7.2 in /opt/conda/lib/python3.10/site-packages (from google-cloud-storage<3.0.0,>=2.18.0->google_adk) (2.7.2)\n",
      "Requirement already satisfied: requests<3.0.0dev,>=2.18.0 in /opt/conda/lib/python3.10/site-packages (from google-cloud-storage<3.0.0,>=2.18.0->google_adk) (2.32.3)\n",
      "Requirement already satisfied: google-crc32c<2.0dev,>=1.0 in /opt/conda/lib/python3.10/site-packages (from google-cloud-storage<3.0.0,>=2.18.0->google_adk) (1.6.0)\n",
      "Requirement already satisfied: anyio<5.0.0,>=4.8.0 in /opt/conda/lib/python3.10/site-packages (from google-genai>=1.11.0->google_adk) (4.9.0)\n",
      "Requirement already satisfied: httpx<1.0.0,>=0.28.1 in /opt/conda/lib/python3.10/site-packages (from google-genai>=1.11.0->google_adk) (0.28.1)\n",
      "Requirement already satisfied: websockets<15.1.0,>=13.0.0 in /opt/conda/lib/python3.10/site-packages (from google-genai>=1.11.0->google_adk) (14.2)\n",
      "Requirement already satisfied: httpx-sse>=0.4 in /opt/conda/lib/python3.10/site-packages (from mcp>=1.5.0->google_adk) (0.4.0)\n",
      "Requirement already satisfied: pydantic-settings>=2.5.2 in /opt/conda/lib/python3.10/site-packages (from mcp>=1.5.0->google_adk) (2.9.1)\n",
      "Requirement already satisfied: sse-starlette>=1.6.1 in /opt/conda/lib/python3.10/site-packages (from mcp>=1.5.0->google_adk) (2.3.3)\n",
      "Requirement already satisfied: deprecated>=1.2.6 in /opt/conda/lib/python3.10/site-packages (from opentelemetry-api>=1.31.0->google_adk) (1.2.18)\n",
      "Requirement already satisfied: importlib-metadata<8.7.0,>=6.0 in /opt/conda/lib/python3.10/site-packages (from opentelemetry-api>=1.31.0->google_adk) (7.2.1)\n",
      "Requirement already satisfied: google-cloud-trace~=1.1 in /opt/conda/lib/python3.10/site-packages (from opentelemetry-exporter-gcp-trace>=1.9.0->google_adk) (1.16.1)\n",
      "Requirement already satisfied: opentelemetry-resourcedetector-gcp==1.*,>=1.5.0dev0 in /opt/conda/lib/python3.10/site-packages (from opentelemetry-exporter-gcp-trace>=1.9.0->google_adk) (1.9.0a0)\n",
      "Requirement already satisfied: opentelemetry-semantic-conventions==0.53b1 in /opt/conda/lib/python3.10/site-packages (from opentelemetry-sdk>=1.31.0->google_adk) (0.53b1)\n",
      "Requirement already satisfied: annotated-types>=0.6.0 in /opt/conda/lib/python3.10/site-packages (from pydantic<3.0.0,>=2.0->google_adk) (0.7.0)\n",
      "Requirement already satisfied: pydantic-core==2.33.1 in /opt/conda/lib/python3.10/site-packages (from pydantic<3.0.0,>=2.0->google_adk) (2.33.1)\n",
      "Requirement already satisfied: typing-inspection>=0.4.0 in /opt/conda/lib/python3.10/site-packages (from pydantic<3.0.0,>=2.0->google_adk) (0.4.0)\n",
      "Requirement already satisfied: greenlet!=0.4.17 in /opt/conda/lib/python3.10/site-packages (from sqlalchemy>=2.0->google_adk) (3.1.1)\n",
      "Requirement already satisfied: h11>=0.8 in /opt/conda/lib/python3.10/site-packages (from uvicorn>=0.34.0->google_adk) (0.14.0)\n",
      "Requirement already satisfied: exceptiongroup>=1.0.2 in /opt/conda/lib/python3.10/site-packages (from anyio<5.0.0,>=4.8.0->google-genai>=1.11.0->google_adk) (1.2.2)\n",
      "Requirement already satisfied: idna>=2.8 in /opt/conda/lib/python3.10/site-packages (from anyio<5.0.0,>=4.8.0->google-genai>=1.11.0->google_adk) (3.10)\n",
      "Requirement already satisfied: sniffio>=1.1 in /opt/conda/lib/python3.10/site-packages (from anyio<5.0.0,>=4.8.0->google-genai>=1.11.0->google_adk) (1.3.1)\n",
      "Requirement already satisfied: wrapt<2,>=1.10 in /opt/conda/lib/python3.10/site-packages (from deprecated>=1.2.6->opentelemetry-api>=1.31.0->google_adk) (1.17.2)\n",
      "Requirement already satisfied: googleapis-common-protos<2.0.0,>=1.56.2 in /opt/conda/lib/python3.10/site-packages (from google-api-core!=2.0.*,!=2.1.*,!=2.2.*,!=2.3.0,<3.0.0,>=1.31.5->google-api-python-client>=2.157.0->google_adk) (1.66.0)\n",
      "Requirement already satisfied: grpcio<2.0dev,>=1.33.2 in /opt/conda/lib/python3.10/site-packages (from google-api-core[grpc]!=2.0.*,!=2.1.*,!=2.2.*,!=2.3.*,!=2.4.*,!=2.5.*,!=2.6.*,!=2.7.*,<3.0.0,>=1.34.1->google-cloud-aiplatform>=1.87.0->google_adk) (1.70.0)\n",
      "Requirement already satisfied: grpcio-status<2.0.dev0,>=1.33.2 in /opt/conda/lib/python3.10/site-packages (from google-api-core[grpc]!=2.0.*,!=2.1.*,!=2.2.*,!=2.3.*,!=2.4.*,!=2.5.*,!=2.6.*,!=2.7.*,<3.0.0,>=1.34.1->google-cloud-aiplatform>=1.87.0->google_adk) (1.49.0rc1)\n",
      "Requirement already satisfied: cachetools<6.0,>=2.0.0 in /opt/conda/lib/python3.10/site-packages (from google-auth!=2.24.0,!=2.25.0,<3.0.0,>=1.32.0->google-api-python-client>=2.157.0->google_adk) (5.5.1)\n",
      "Requirement already satisfied: pyasn1-modules>=0.2.1 in /opt/conda/lib/python3.10/site-packages (from google-auth!=2.24.0,!=2.25.0,<3.0.0,>=1.32.0->google-api-python-client>=2.157.0->google_adk) (0.4.1)\n",
      "Requirement already satisfied: rsa<5,>=3.1.4 in /opt/conda/lib/python3.10/site-packages (from google-auth!=2.24.0,!=2.25.0,<3.0.0,>=1.32.0->google-api-python-client>=2.157.0->google_adk) (4.9)\n",
      "Requirement already satisfied: python-dateutil<3.0dev,>=2.7.2 in /opt/conda/lib/python3.10/site-packages (from google-cloud-bigquery!=3.20.0,<4.0.0,>=1.15.0->google-cloud-aiplatform>=1.87.0->google_adk) (2.9.0.post0)\n",
      "Requirement already satisfied: pyparsing!=3.0.0,!=3.0.1,!=3.0.2,!=3.0.3,<4,>=2.4.2 in /opt/conda/lib/python3.10/site-packages (from httplib2<1.0.0,>=0.19.0->google-api-python-client>=2.157.0->google_adk) (3.2.1)\n",
      "Requirement already satisfied: certifi in /opt/conda/lib/python3.10/site-packages (from httpx<1.0.0,>=0.28.1->google-genai>=1.11.0->google_adk) (2025.1.31)\n",
      "Requirement already satisfied: httpcore==1.* in /opt/conda/lib/python3.10/site-packages (from httpx<1.0.0,>=0.28.1->google-genai>=1.11.0->google_adk) (1.0.8)\n",
      "Requirement already satisfied: zipp>=0.5 in /opt/conda/lib/python3.10/site-packages (from importlib-metadata<8.7.0,>=6.0->opentelemetry-api>=1.31.0->google_adk) (3.21.0)\n",
      "Requirement already satisfied: charset_normalizer<4,>=2 in /opt/conda/lib/python3.10/site-packages (from requests<3.0.0dev,>=2.18.0->google-cloud-storage<3.0.0,>=2.18.0->google_adk) (3.4.1)\n",
      "Requirement already satisfied: urllib3<3,>=1.21.1 in /opt/conda/lib/python3.10/site-packages (from requests<3.0.0dev,>=2.18.0->google-cloud-storage<3.0.0,>=2.18.0->google_adk) (2.4.0)\n",
      "Requirement already satisfied: numpy<3,>=1.14 in /opt/conda/lib/python3.10/site-packages (from shapely<3.0.0->google-cloud-aiplatform>=1.87.0->google_adk) (1.26.4)\n",
      "Requirement already satisfied: cffi>=1.12 in /opt/conda/lib/python3.10/site-packages (from cryptography->authlib>=1.5.1->google_adk) (1.17.1)\n",
      "Requirement already satisfied: pycparser in /opt/conda/lib/python3.10/site-packages (from cffi>=1.12->cryptography->authlib>=1.5.1->google_adk) (2.22)\n",
      "Requirement already satisfied: pyasn1<0.7.0,>=0.4.6 in /opt/conda/lib/python3.10/site-packages (from pyasn1-modules>=0.2.1->google-auth!=2.24.0,!=2.25.0,<3.0.0,>=1.32.0->google-api-python-client>=2.157.0->google_adk) (0.6.1)\n",
      "Requirement already satisfied: six>=1.5 in /opt/conda/lib/python3.10/site-packages (from python-dateutil<3.0dev,>=2.7.2->google-cloud-bigquery!=3.20.0,<4.0.0,>=1.15.0->google-cloud-aiplatform>=1.87.0->google_adk) (1.17.0)\n",
      "\n",
      "\u001b[1m[\u001b[0m\u001b[34;49mnotice\u001b[0m\u001b[1;39;49m]\u001b[0m\u001b[39;49m A new release of pip is available: \u001b[0m\u001b[31;49m25.0.1\u001b[0m\u001b[39;49m -> \u001b[0m\u001b[32;49m25.1.1\u001b[0m\n",
      "\u001b[1m[\u001b[0m\u001b[34;49mnotice\u001b[0m\u001b[1;39;49m]\u001b[0m\u001b[39;49m To update, run: \u001b[0m\u001b[32;49mpip install --upgrade pip\u001b[0m\n"
     ]
    }
   ],
   "source": [
    "!pip3 install google_adk \n",
    "!pip install -q --upgrade google-cloud-discoveryengine\n",
    "!pip install google-adk\n",
    "!pip install google-genai\n",
    "!pip install pydantic\n",
    "\n",
    "#-0.0.2.dev20250324+739344859-py3-none-any.whl"
   ]
  },
  {
   "cell_type": "code",
   "execution_count": 1,
   "metadata": {
    "id": "qhUqPpmKcNxR",
    "tags": []
   },
   "outputs": [],
   "source": [
    "import os\n",
    "\n",
    "# Cloud project id.\n",
    "PROJECT_IDS = !(gcloud config get-value core/project)\n",
    "PROJECT_ID = PROJECT_IDS[0]  # @param {type:\"string\"}\n",
    "\n",
    "if not PROJECT_ID:\n",
    "    PROJECT_ID = str(os.environ.get(\"GOOGLE_CLOUD_PROJECT\"))\n",
    "\n",
    "LOCATION = \"us-central1\" # @param {type:\"string\"}\n",
    "\n",
    "os.environ[\"GOOGLE_CLOUD_PROJECT\"] = PROJECT_ID\n",
    "os.environ[\"GOOGLE_CLOUD_LOCATION\"] = LOCATION\n",
    "os.environ[\"GOOGLE_GENAI_USE_VERTEXAI\"] = \"TRUE\" # Use Vertex AI API\n",
    "# [your-project-id]"
   ]
  },
  {
   "cell_type": "code",
   "execution_count": 57,
   "metadata": {
    "id": "jRGwZBG9dtLO",
    "tags": []
   },
   "outputs": [],
   "source": [
    "# !gcloud storage ls gs://adk_training/sdk\n",
    "# !gcloud storage cp gs://adk_training/sdk/google_adk-0.0.2.dev20250324+739344859-py3-none-any.whl ."
   ]
  },
  {
   "cell_type": "markdown",
   "metadata": {
    "id": "iOPsVd4veC2I"
   },
   "source": [
    "# Utils"
   ]
  },
  {
   "cell_type": "code",
   "execution_count": 58,
   "metadata": {
    "id": "mT_mZYtpeA5W",
    "tags": []
   },
   "outputs": [],
   "source": [
    "import json\n",
    "import time\n",
    "\n",
    "def pprint_events(events):\n",
    "    '''Pretty print of events generated by ADK runner'''\n",
    "    start_time = time.time()\n",
    "\n",
    "    for _, event in enumerate(events):\n",
    "        is_final_response = event.is_final_response()\n",
    "        function_calls = event.get_function_calls()\n",
    "        function_responses = event.get_function_responses()\n",
    "\n",
    "        try:\n",
    "            agent_res = json.loads(event.content.model_dump_json(indent=2, exclude_none=True))\n",
    "        except AttributeError as e:\n",
    "            print(f\"Error parsing event content: {e}\")\n",
    "            continue\n",
    "\n",
    "        if is_final_response:\n",
    "            final_response = event.content.parts[0].text if event.content.parts else \"No content available\"\n",
    "            elapsed_time_ms = round((time.time() - start_time) * 1000, 3)\n",
    "            print(f'>>> Final Response ({elapsed_time_ms} ms):\\n{final_response}')\n",
    "            print(\"-\" * 30)\n",
    "        elif function_calls:\n",
    "            print('+++ Function Calls:')\n",
    "            for function_call in function_calls:\n",
    "                print(f\"Function Name: {function_call.name}, Args: {function_call.args}\")\n",
    "        elif function_responses:\n",
    "            print('--- Function Responses:')\n",
    "            for function_response in function_responses:\n",
    "                response_details = function_response.response\n",
    "                recommended_list = list(response_details.values()) if response_details else []\n",
    "                print(f\"Function Name: {function_response.name}\")\n",
    "                print(f\"Function Results: {json.dumps(recommended_list)}\")\n",
    "        else:\n",
    "            print('No function calls or responses available.')\n",
    "            print(f\"Agent Response: {agent_res}\")\n",
    "\n",
    "    elapsed_time_ms = round((time.time() - start_time) * 1000, 3)\n",
    "    print(f\"Total elapsed time: {elapsed_time_ms} ms\")\n"
   ]
  },
  {
   "cell_type": "markdown",
   "metadata": {
    "id": "8HVKgWyHekT0"
   },
   "source": [
    "# Hello world!\n",
    "\n",
    "Concepts:\n",
    "\n",
    "- Agent - Starts as a wrapper of LLM that can decide actions and interact with external world (other agents, tools)\n",
    "- Session - Maintains the state of one invocation. (chat log / events/ etc)\n",
    "- Runner - The orchestration layer of agents. The \"state machine\". Runner drives agents to move the states of a session forward.\n",
    "\n",
    "Use case:\n",
    "- An agent that says hello word in a random language"
   ]
  },
  {
   "cell_type": "code",
   "execution_count": 6,
   "metadata": {
    "id": "56FKIJsAgJJs",
    "tags": []
   },
   "outputs": [],
   "source": [
    "from google.genai import types\n",
    "from pydantic import BaseModel\n",
    "from google.adk.agents import Agent\n",
    "from google.adk.runners import Runner\n",
    "from google.adk.agents import LlmAgent\n",
    "from google.adk.tools.agent_tool import AgentTool\n",
    "from google.adk.sessions import InMemorySessionService\n",
    "\n",
    "import warnings\n",
    "import logging\n",
    "from pprint import pprint\n",
    "\n",
    "logging.getLogger('google_genai.types').setLevel(logging.ERROR)\n",
    "warnings.filterwarnings(\"ignore\", category=UserWarning, module='google.generativeai.types.content_types') # Suppress harmless warning"
   ]
  },
  {
   "cell_type": "code",
   "execution_count": 7,
   "metadata": {
    "id": "uUdAMMPAea2-",
    "tags": []
   },
   "outputs": [],
   "source": [
    "# Constant\n",
    "APP_NAME = \"hello_world_example\"\n",
    "USER_ID = \"user12345\"\n",
    "SESSION_ID = \"session12345\"\n",
    "AGENT_NAME = \"hello_word_agent\"\n",
    "MODEL = \"gemini-2.0-flash-001\""
   ]
  },
  {
   "cell_type": "markdown",
   "metadata": {
    "id": "lK3-ZOuXLXIg"
   },
   "source": [
    "**Instructions:** Start by defining what your agent should do using simple natural language instructions. This provides a very straightforward way to customize agent actions without needing to compose complex chains or graphs. You can even reference context like user information and current time within these instructions, which will be filled in at runtime\n",
    "\n",
    "\n",
    "\n",
    "\n",
    "**Sessions:** The Agent Framework handles session management for you, allowing you to focus on building your agent's logic. You can use the provided BaseSession interface with managed storage or easily plug in your own. The InMemorySession is available for rapid development and debugging"
   ]
  },
  {
   "cell_type": "code",
   "execution_count": 8,
   "metadata": {
    "id": "tIdaHSS5ShDb",
    "tags": []
   },
   "outputs": [],
   "source": [
    "# Agent\n",
    "hello_world_agent = Agent(\n",
    "    model=MODEL,\n",
    "    name=\"hello_world_agent\",\n",
    "    description=\"An agent that says 'hello world'\",\n",
    "    instruction=\"\"\"You always say 'hello world' to the user, and nothing else.\n",
    "    Output 'hello world' in a random language.\n",
    "    Put the language in brackets.\n",
    "\n",
    "    Example Output 1:\n",
    "    hello world (English)\n",
    "\n",
    "    Example Output 2:\n",
    "    你好，世界 (Chinese)\n",
    "    \"\"\",\n",
    "    generate_content_config=types.GenerateContentConfig(\n",
    "        max_output_tokens=100,\n",
    "    ),\n",
    ")\n",
    "\n",
    "# Session and Runner\n",
    "session_service = InMemorySessionService()\n",
    "session = session_service.create_session(app_name=APP_NAME, user_id=USER_ID, session_id=SESSION_ID)\n",
    "runner = Runner(agent=hello_world_agent, app_name=APP_NAME, session_service=session_service)\n",
    "\n",
    "# Agent Interaction\n",
    "def call_agent(runner, query):\n",
    "  content = types.Content(role='user', parts=[types.Part(text=query)])\n",
    "  events = runner.run(user_id=USER_ID, session_id=SESSION_ID, new_message=content)\n",
    "  return events"
   ]
  },
  {
   "cell_type": "code",
   "execution_count": 9,
   "metadata": {
    "colab": {
     "base_uri": "https://localhost:8080/"
    },
    "id": "9mfcIGw-SiZO",
    "outputId": "82517754-4b1f-4529-c096-dc026a091d4c",
    "tags": []
   },
   "outputs": [
    {
     "name": "stdout",
     "output_type": "stream",
     "text": [
      ">>> Final Response (1350.837 ms):\n",
      "Olá Mundo (Portuguese)\n",
      "\n",
      "------------------------------\n",
      "Total elapsed time: 1351.601 ms\n"
     ]
    }
   ],
   "source": [
    "events = call_agent(runner, \"hello\")\n",
    "pprint_events(events)"
   ]
  },
  {
   "cell_type": "code",
   "execution_count": 10,
   "metadata": {
    "colab": {
     "base_uri": "https://localhost:8080/"
    },
    "id": "MnRr7SIkdBhv",
    "outputId": "a8650181-9109-48a8-999e-d5105ff7f4b7",
    "tags": []
   },
   "outputs": [
    {
     "data": {
      "text/plain": [
       "Session(id='session12345', app_name='hello_world_example', user_id='user12345', state={}, events=[], last_update_time=1747207085.85624)"
      ]
     },
     "execution_count": 10,
     "metadata": {},
     "output_type": "execute_result"
    }
   ],
   "source": [
    "session"
   ]
  },
  {
   "cell_type": "code",
   "execution_count": 11,
   "metadata": {
    "colab": {
     "base_uri": "https://localhost:8080/",
     "height": 35
    },
    "id": "AJk0y2Z5dhPb",
    "outputId": "1a11ec42-57bb-4c3e-ca57-30c9bae4f602",
    "tags": []
   },
   "outputs": [
    {
     "data": {
      "text/plain": [
       "'session12345'"
      ]
     },
     "execution_count": 11,
     "metadata": {},
     "output_type": "execute_result"
    }
   ],
   "source": [
    "session.id"
   ]
  },
  {
   "cell_type": "code",
   "execution_count": 12,
   "metadata": {
    "colab": {
     "base_uri": "https://localhost:8080/"
    },
    "id": "vnOHrq2odid0",
    "outputId": "e1c9fc5a-93f8-4108-d938-1b8edf6f0bcb",
    "tags": []
   },
   "outputs": [
    {
     "data": {
      "text/plain": [
       "ListSessionsResponse(sessions=[Session(id='session12345', app_name='hello_world_example', user_id='user12345', state={}, events=[], last_update_time=1747207085.864705)])"
      ]
     },
     "execution_count": 12,
     "metadata": {},
     "output_type": "execute_result"
    }
   ],
   "source": [
    "session_service.list_sessions(app_name=APP_NAME, user_id=USER_ID)\n",
    "\n",
    "#TypeError: InMemorySessionService.list_sessions() missing 2 required keyword-only arguments: 'app_name' and 'user_id'\n"
   ]
  },
  {
   "cell_type": "code",
   "execution_count": 13,
   "metadata": {
    "colab": {
     "base_uri": "https://localhost:8080/"
    },
    "id": "O6V8U37pdtBw",
    "outputId": "a79761d7-1748-44f4-bdad-b94ca8ad1c17",
    "tags": []
   },
   "outputs": [
    {
     "name": "stdout",
     "output_type": "stream",
     "text": [
      "[Event(content=Content(parts=[Part(video_metadata=None, thought=None, code_execution_result=None, executable_code=None, file_data=None, function_call=None, function_response=None, inline_data=None, text='hello')], role='user'), grounding_metadata=None, partial=None, turn_complete=None, error_code=None, error_message=None, interrupted=None, custom_metadata=None, invocation_id='e-6af29777-af42-4981-a9c0-215273f21ba7', author='user', actions=EventActions(skip_summarization=None, state_delta={}, artifact_delta={}, transfer_to_agent=None, escalate=None, requested_auth_configs={}), long_running_tool_ids=None, branch=None, id='rFZDrpR6', timestamp=1747207085.863585),\n",
      " Event(content=Content(parts=[Part(video_metadata=None, thought=None, code_execution_result=None, executable_code=None, file_data=None, function_call=None, function_response=None, inline_data=None, text='Olá Mundo (Portuguese)\\n')], role='model'), grounding_metadata=None, partial=None, turn_complete=None, error_code=None, error_message=None, interrupted=None, custom_metadata=None, invocation_id='e-6af29777-af42-4981-a9c0-215273f21ba7', author='hello_world_agent', actions=EventActions(skip_summarization=None, state_delta={}, artifact_delta={}, transfer_to_agent=None, escalate=None, requested_auth_configs={}), long_running_tool_ids=None, branch=None, id='FAu6E023', timestamp=1747207085.864705)]\n"
     ]
    }
   ],
   "source": [
    "pprint(session_service.sessions[APP_NAME][USER_ID][SESSION_ID].events)"
   ]
  },
  {
   "cell_type": "markdown",
   "metadata": {
    "id": "SA2NbUZHhpK4"
   },
   "source": [
    "# Multi turn conversation\n",
    "\n",
    "Concepts:\n",
    "\n",
    "- Event(s)\n",
    "- Session\n",
    "- SessionService: sessions[app][user][session]\n",
    "\n",
    "Use case:\n",
    "\n",
    "- An agent that tries to know your name and send hello USERNAME"
   ]
  },
  {
   "cell_type": "code",
   "execution_count": 14,
   "metadata": {
    "colab": {
     "base_uri": "https://localhost:8080/"
    },
    "id": "UM8NxYwZhhze",
    "outputId": "6adf9764-5762-4455-9dfc-906a28a293d1",
    "tags": []
   },
   "outputs": [
    {
     "name": "stdout",
     "output_type": "stream",
     "text": [
      ">>> Final Response (1257.615 ms):\n",
      "Hello! Before I say hello back, could you tell me your name? It can be your first name, last name, or even a nickname. I'd just like to know what to call you!\n",
      "\n",
      "------------------------------\n",
      "Total elapsed time: 1258.702 ms\n"
     ]
    }
   ],
   "source": [
    "# Constant\n",
    "APP_NAME = \"hello_name_example\"\n",
    "USER_ID = \"user12345\"\n",
    "SESSION_ID = \"session12345\"\n",
    "AGENT_NAME = \"hello_name_agent\"\n",
    "MODEL = \"gemini-2.0-flash-001\"\n",
    "\n",
    "# Agent\n",
    "hello_name_agent = Agent(\n",
    "    model=MODEL,\n",
    "    name=\"hello_name_agent\",\n",
    "    description=\"An agent that says 'hello USERNAME'\",\n",
    "    instruction=\"\"\"\n",
    "    You need to first ask the user's name.\n",
    "    Try best to convince the user to give you a name, let it be first name, last name, or nick name.\n",
    "\n",
    "    Once you get the user's name, say 'hello USERNAME'.\n",
    "    \"\"\",\n",
    "    generate_content_config=types.GenerateContentConfig(\n",
    "        max_output_tokens=100,\n",
    "    ),\n",
    ")\n",
    "\n",
    "# Session and Runner\n",
    "session_service = InMemorySessionService()\n",
    "session = session_service.create_session(app_name=APP_NAME, user_id=USER_ID, session_id=SESSION_ID)\n",
    "runner = Runner(agent=hello_name_agent, app_name=APP_NAME, session_service=session_service)\n",
    "\n",
    "# Agent Interaction\n",
    "def call_agent(runner, session, query):\n",
    "  content = types.Content(role='user', parts=[types.Part(text=query)])\n",
    "  events = runner.run(user_id=session.user_id, session_id=session.id, new_message=content)\n",
    "  return events\n",
    "\n",
    "events = call_agent(runner, session, \"hello\")\n",
    "pprint_events(events)"
   ]
  },
  {
   "cell_type": "code",
   "execution_count": 15,
   "metadata": {
    "colab": {
     "base_uri": "https://localhost:8080/"
    },
    "id": "iFLtRT_IiRhC",
    "outputId": "ed318530-bff1-4d42-ba19-50b3dc899e02",
    "tags": []
   },
   "outputs": [
    {
     "name": "stdout",
     "output_type": "stream",
     "text": [
      ">>> Final Response (1328.327 ms):\n",
      "I understand you might be hesitant. How about a nickname then? Anything you'd be comfortable with me calling you? It would make our conversation a little more personal. I promise I won't share it with anyone!\n",
      "\n",
      "------------------------------\n",
      "Total elapsed time: 1329.074 ms\n"
     ]
    }
   ],
   "source": [
    "events = call_agent(runner, session, \"I don't tell you my name\")\n",
    "pprint_events(events)"
   ]
  },
  {
   "cell_type": "code",
   "execution_count": 16,
   "metadata": {
    "colab": {
     "base_uri": "https://localhost:8080/"
    },
    "id": "JCuD8S4MiVOs",
    "outputId": "cb8a7835-d1fa-4ea1-efa7-cb65e950a569",
    "tags": []
   },
   "outputs": [
    {
     "name": "stdout",
     "output_type": "stream",
     "text": [
      ">>> Final Response (1204.215 ms):\n",
      "You can call me hello_name_agent. But I'd still love to know what *your* name is, even just a little something to call you! Please?\n",
      "\n",
      "------------------------------\n",
      "Total elapsed time: 1204.832 ms\n"
     ]
    }
   ],
   "source": [
    "events = call_agent(runner, session, \"what is your name?\")\n",
    "pprint_events(events)"
   ]
  },
  {
   "cell_type": "code",
   "execution_count": 17,
   "metadata": {
    "colab": {
     "base_uri": "https://localhost:8080/"
    },
    "id": "v5TlnG3EiXsY",
    "outputId": "02979dbf-c28c-4b01-89d5-ec38e50bbcf6",
    "tags": []
   },
   "outputs": [
    {
     "name": "stdout",
     "output_type": "stream",
     "text": [
      ">>> Final Response (952.436 ms):\n",
      "Hello Amir!\n",
      "\n",
      "------------------------------\n",
      "Total elapsed time: 953.46 ms\n"
     ]
    }
   ],
   "source": [
    "events = call_agent(runner, session, \"my name is Amir\")\n",
    "pprint_events(events)"
   ]
  },
  {
   "cell_type": "code",
   "execution_count": 18,
   "metadata": {
    "colab": {
     "base_uri": "https://localhost:8080/"
    },
    "id": "k_rEYbAPibZ2",
    "outputId": "709ed2eb-03af-460c-a434-563934461505",
    "tags": []
   },
   "outputs": [
    {
     "name": "stdout",
     "output_type": "stream",
     "text": [
      ">>> Final Response (953.28 ms):\n",
      "Your name is Amir!\n",
      "\n",
      "------------------------------\n",
      "Total elapsed time: 953.499 ms\n"
     ]
    }
   ],
   "source": [
    "events = call_agent(runner, session, \"what is my name?\")\n",
    "pprint_events(events)"
   ]
  },
  {
   "cell_type": "markdown",
   "metadata": {
    "id": "gSrpZP1_g7EK"
   },
   "source": [
    "## Switch session"
   ]
  },
  {
   "cell_type": "code",
   "execution_count": 19,
   "metadata": {
    "id": "T45N77TCg9EG",
    "tags": []
   },
   "outputs": [],
   "source": [
    "new_session = session_service.create_session(app_name=APP_NAME, user_id=USER_ID, session_id=SESSION_ID + '-new')"
   ]
  },
  {
   "cell_type": "code",
   "execution_count": 20,
   "metadata": {
    "colab": {
     "base_uri": "https://localhost:8080/"
    },
    "id": "6baZcd68hB_C",
    "outputId": "9af983da-927f-4560-f9b7-80a80eed4d7d",
    "tags": []
   },
   "outputs": [
    {
     "name": "stdout",
     "output_type": "stream",
     "text": [
      ">>> Final Response (1145.107 ms):\n",
      "I don't know your name yet! Could you tell me what I should call you? It can be your first name, last name, or even a nickname! 😊\n",
      "\n",
      "------------------------------\n",
      "Total elapsed time: 1145.967 ms\n"
     ]
    }
   ],
   "source": [
    "events = call_agent(runner, new_session, \"what is my name?\")\n",
    "pprint_events(events)"
   ]
  },
  {
   "cell_type": "code",
   "execution_count": 21,
   "metadata": {
    "colab": {
     "base_uri": "https://localhost:8080/"
    },
    "id": "RxBoNqeWhFov",
    "outputId": "4d271815-4143-433e-e02d-16f59f649a04",
    "tags": []
   },
   "outputs": [
    {
     "name": "stdout",
     "output_type": "stream",
     "text": [
      ">>> Final Response (1022.851 ms):\n",
      "You told me your name is Amir. Is that still correct?\n",
      "\n",
      "------------------------------\n",
      "Total elapsed time: 1023.843 ms\n"
     ]
    }
   ],
   "source": [
    "events = call_agent(runner, session, \"what is my name?\")\n",
    "pprint_events(events)"
   ]
  },
  {
   "cell_type": "markdown",
   "metadata": {
    "id": "0onZ7XLEioW_"
   },
   "source": [
    "# Use Tool\n",
    "\n",
    "**Function Tools:** To extend your agent's capabilities, you can provide it with Python functions as tools. When the agent determines it needs to perform a specific action, it can automatically call these functions\n",
    "\n",
    "Concept:\n",
    "- Tool (Python function) -- the experience of tool calling by agent (by LLM) or by human (from Python) are the same. Easy to test.\n",
    "\n",
    "Use case:\n",
    "- Simple math"
   ]
  },
  {
   "cell_type": "code",
   "execution_count": 22,
   "metadata": {
    "id": "C6Oh_PgBhhkA",
    "tags": []
   },
   "outputs": [],
   "source": [
    "def add(numbers: list[int]) -> int:\n",
    "  \"\"\"Calculates the sum of a list of integers.\n",
    "\n",
    "    This function takes a list of integers as input and returns the sum of all\n",
    "    the elements in the list.  It uses the built-in `sum()` function for\n",
    "    efficiency.\n",
    "\n",
    "    Args:\n",
    "        numbers: A list of integers to be added.\n",
    "\n",
    "    Returns:\n",
    "        The sum of the integers in the input list.  Returns 0 if the input\n",
    "        list is empty.\n",
    "\n",
    "    Examples:\n",
    "        add([1, 2, 3]) == 6\n",
    "        add([-1, 0, 1]) == 0\n",
    "        add([]) == 0\n",
    "    \"\"\"\n",
    "  return sum(numbers)\n",
    "\n",
    "def subtract(numbers: list[int]) -> int:\n",
    "    \"\"\"Subtracts numbers in a list sequentially from left to right.\n",
    "\n",
    "    This function performs subtraction on a list of integers, applying the\n",
    "    subtraction operation from left to right.  For example, given the list\n",
    "    [10, 2, 5], the function will calculate 10 - 2 - 5.\n",
    "\n",
    "    Args:\n",
    "        numbers: A list of integers to be subtracted.\n",
    "\n",
    "    Returns:\n",
    "        The result of the sequential subtraction as an integer. Returns 0 if the input list is empty.\n",
    "\n",
    "    Examples:\n",
    "        subtract([10, 2, 5]) == 3  # (10 - 2) - 5 = 8 - 5 = 3\n",
    "        subtract([10, 2]) == 8      # 10 - 2 = 8\n",
    "        subtract([]) == 0\n",
    "    \"\"\"\n",
    "    if not numbers:\n",
    "        return 0  # Handle empty list\n",
    "    result = numbers[0]\n",
    "    for num in numbers[1:]:\n",
    "        result -= num\n",
    "    return result\n",
    "\n",
    "def multiply(numbers: list[int]) -> int:\n",
    "  \"\"\"Calculates the product of a list of integers.\n",
    "\n",
    "    This function takes a list of integers as input and returns the product of all\n",
    "    the elements in the list. It iterates through the list, multiplying each\n",
    "    number with the accumulated product.\n",
    "\n",
    "    Args:\n",
    "        numbers: A list of integers to be multiplied.\n",
    "\n",
    "    Returns:\n",
    "        The product of the integers in the input list. Returns 1 if the input\n",
    "        list is empty.\n",
    "\n",
    "    Examples:\n",
    "        multiply([2, 3, 4]) == 24  # 2 * 3 * 4 = 24\n",
    "        multiply([1, -2, 5]) == -10 # 1 * -2 * 5 = -10\n",
    "        multiply([]) == 1\n",
    "    \"\"\"\n",
    "  product = 1\n",
    "  for num in numbers:\n",
    "    product *= num\n",
    "  return product\n",
    "\n",
    "def divide(numbers: list[int]) -> float:  # Use float for division\n",
    "    \"\"\"Divides numbers in a list sequentially from left to right.\n",
    "\n",
    "    This function performs division on a list of integers, applying the division\n",
    "    operation from left to right.  For example, given the list [10, 2, 5], the\n",
    "    function will calculate 10 / 2 / 5.\n",
    "\n",
    "    Args:\n",
    "        numbers: A list of integers to be divided.\n",
    "\n",
    "    Returns:\n",
    "        The result of the sequential division as a float.\n",
    "\n",
    "    Raises:\n",
    "        ZeroDivisionError: If any number in the list *after* the first element\n",
    "                           is zero, a ZeroDivisionError is raised.  Division by\n",
    "                           zero is not permitted.\n",
    "\n",
    "    Returns:\n",
    "        float: The result of the division. Returns 0.0 if the input list is empty.\n",
    "\n",
    "    Examples:\n",
    "        divide([10, 2, 5]) == 1.0  # (10 / 2) / 5 = 5 / 5 = 1.0\n",
    "        divide([10, 2]) == 5.0      # 10 / 2 = 5.0\n",
    "        divide([10, 0, 5])  # Raises ZeroDivisionError\n",
    "        divide([]) == 0.0\n",
    "    \"\"\"\n",
    "    if not numbers:\n",
    "        return 0.0 # Handle empty list\n",
    "    if 0 in numbers[1:]: # Check for division by zero\n",
    "        raise ZeroDivisionError(\"Cannot divide by zero.\")\n",
    "    result = numbers[0]\n",
    "    for num in numbers[1:]:\n",
    "        result /= num\n",
    "    return result\n"
   ]
  },
  {
   "cell_type": "code",
   "execution_count": 23,
   "metadata": {
    "colab": {
     "base_uri": "https://localhost:8080/"
    },
    "id": "jfy1M2fQi5_M",
    "outputId": "89e8184c-cc78-4f44-f8e4-9dc2ae3b3f30",
    "tags": []
   },
   "outputs": [
    {
     "data": {
      "text/plain": [
       "7"
      ]
     },
     "execution_count": 23,
     "metadata": {},
     "output_type": "execute_result"
    }
   ],
   "source": [
    "add([2, 2, 3])"
   ]
  },
  {
   "cell_type": "code",
   "execution_count": 24,
   "metadata": {
    "colab": {
     "base_uri": "https://localhost:8080/"
    },
    "id": "sPM2zCgFi2Y-",
    "outputId": "5c345814-e7bd-4ec7-d865-9d6aac8646fe",
    "tags": []
   },
   "outputs": [
    {
     "data": {
      "text/plain": [
       "12"
      ]
     },
     "execution_count": 24,
     "metadata": {},
     "output_type": "execute_result"
    }
   ],
   "source": [
    "multiply([2, 2, 3])"
   ]
  },
  {
   "cell_type": "code",
   "execution_count": 25,
   "metadata": {
    "id": "1A65tOZMhnU5",
    "tags": []
   },
   "outputs": [],
   "source": [
    "simple_math_agent = Agent(\n",
    "    model=MODEL,\n",
    "    name=\"simple_math_agent\",\n",
    "    description=\"This agent performs basic arithmetic operations (addition, subtraction, multiplication, and division) on user-provided numbers, including ranges.\",\n",
    "    instruction=\"\"\"\n",
    "      I can perform addition, subtraction, multiplication, and division operations on numbers you provide.\n",
    "      Tell me the numbers you want to operate on.\n",
    "      For example, you can say 'add 3 5', 'multiply 2, 4 and 3', 'Subtract 10 from 20', 'Divide 10 by 2'.\n",
    "      You can also provide a range: 'Multiply the numbers between 1 and 10'.\n",
    "    \"\"\",\n",
    "    generate_content_config=types.GenerateContentConfig(temperature=0.2),\n",
    "    tools=[add, subtract, multiply, divide],\n",
    ")"
   ]
  },
  {
   "cell_type": "code",
   "execution_count": 26,
   "metadata": {
    "id": "E2mao_CshvB4",
    "tags": []
   },
   "outputs": [],
   "source": [
    "import random\n",
    "\n",
    "def caller_factory(root_agent, app_name='App12345', user_id='User12345', session_id=None):\n",
    "  \"\"\"create a pre-configured agent caller.\n",
    "\n",
    "    Args:\n",
    "        root_agent: The ADK agent to handle conversations\n",
    "        app_name: Application name (default: 'App12345')\n",
    "        user_id: User identifier (default: 'User12345')\n",
    "        session_id: Optional session ID. If None, generates a random one.\n",
    "\n",
    "    Returns:\n",
    "        A function that takes a query string and returns agent response events.\n",
    "  \"\"\"\n",
    "  session_service = InMemorySessionService() #  to manage conversation sessions\n",
    "  if session_id is None:\n",
    "    suffix = random.randint(100000, 999999)\n",
    "    session_id = f'{app_name}-{user_id}-{suffix}'\n",
    "  session = session_service.create_session(\n",
    "      app_name=app_name, user_id=user_id, session_id=session_id)\n",
    "  runner = Runner(agent=root_agent, app_name=app_name, session_service=session_service) #Create a Runner instance that will execute the agent\n",
    "  def _call(query):\n",
    "    content = types.Content(role='user', parts=[types.Part(text=query)])\n",
    "    events = runner.run(user_id=session.user_id, session_id=session.id, new_message=content)\n",
    "    return events\n",
    "  return _call"
   ]
  },
  {
   "cell_type": "code",
   "execution_count": 27,
   "metadata": {
    "id": "nazjCHGikpKU",
    "tags": []
   },
   "outputs": [],
   "source": [
    "call = caller_factory(root_agent=simple_math_agent)"
   ]
  },
  {
   "cell_type": "code",
   "execution_count": 28,
   "metadata": {
    "colab": {
     "base_uri": "https://localhost:8080/"
    },
    "id": "Fg8SNq4vjteI",
    "outputId": "2da89775-9037-4742-c3f6-d6d96289efce",
    "tags": []
   },
   "outputs": [
    {
     "name": "stdout",
     "output_type": "stream",
     "text": [
      ">>> Final Response (1099.315 ms):\n",
      "Hello! How can I help you with your math today?\n",
      "\n",
      "------------------------------\n",
      "Total elapsed time: 1100.091 ms\n"
     ]
    }
   ],
   "source": [
    "pprint_events(call('hello'))"
   ]
  },
  {
   "cell_type": "code",
   "execution_count": 29,
   "metadata": {
    "colab": {
     "base_uri": "https://localhost:8080/"
    },
    "id": "e1Trlwy8jxKc",
    "outputId": "5d3566fd-46ec-4c4d-94fb-ae436666d144",
    "tags": []
   },
   "outputs": [
    {
     "name": "stdout",
     "output_type": "stream",
     "text": [
      "+++ Function Calls:\n",
      "Function Name: add, Args: {'numbers': [3, 9]}\n",
      "--- Function Responses:\n",
      "Function Name: add\n",
      "Function Results: [12]\n",
      ">>> Final Response (2084.113 ms):\n",
      "The answer is 12.\n",
      "\n",
      "------------------------------\n",
      "Total elapsed time: 2084.874 ms\n"
     ]
    }
   ],
   "source": [
    "pprint_events(call('what is three plus 9?'))"
   ]
  },
  {
   "cell_type": "code",
   "execution_count": 30,
   "metadata": {
    "colab": {
     "base_uri": "https://localhost:8080/"
    },
    "id": "C8ALwc-Tj0ks",
    "outputId": "db8fb5d7-534b-4d2a-ea93-ae6169838c2e",
    "tags": []
   },
   "outputs": [
    {
     "name": "stdout",
     "output_type": "stream",
     "text": [
      "+++ Function Calls:\n",
      "Function Name: multiply, Args: {'numbers': [12, 2]}\n",
      "--- Function Responses:\n",
      "Function Name: multiply\n",
      "Function Results: [24]\n",
      ">>> Final Response (2054.15 ms):\n",
      "The answer is 24.\n",
      "\n",
      "------------------------------\n",
      "Total elapsed time: 2054.962 ms\n"
     ]
    }
   ],
   "source": [
    "pprint_events(call('multiply that by 2'))"
   ]
  },
  {
   "cell_type": "code",
   "execution_count": 31,
   "metadata": {
    "colab": {
     "base_uri": "https://localhost:8080/"
    },
    "id": "WvkmTH73j-oA",
    "outputId": "ec8be16f-6d46-4e75-e663-bb0d18bfdcaa",
    "tags": []
   },
   "outputs": [
    {
     "name": "stdout",
     "output_type": "stream",
     "text": [
      ">>> Final Response (1165.364 ms):\n",
      "Okay. I have noted that you have three apples. What would you like to do with them? For example, do you want to add more apples, subtract some, multiply them or divide them?\n",
      "\n",
      "------------------------------\n",
      "Total elapsed time: 1166.258 ms\n"
     ]
    }
   ],
   "source": [
    "call = caller_factory(root_agent=simple_math_agent)\n",
    "pprint_events(call('Here is my math problem that is about apple counting. Let us start saying that I have three apple'))"
   ]
  },
  {
   "cell_type": "code",
   "execution_count": 32,
   "metadata": {
    "colab": {
     "base_uri": "https://localhost:8080/"
    },
    "id": "YWRB6xfKkBpo",
    "outputId": "0bea7066-554f-492c-e638-42daf546e0c0",
    "tags": []
   },
   "outputs": [
    {
     "name": "stdout",
     "output_type": "stream",
     "text": [
      "+++ Function Calls:\n",
      "Function Name: add, Args: {'numbers': [3, 2]}\n",
      "--- Function Responses:\n",
      "Function Name: add\n",
      "Function Results: [5]\n",
      ">>> Final Response (2154.328 ms):\n",
      "Okay, now you have 5 apples.\n",
      "\n",
      "------------------------------\n",
      "Total elapsed time: 2155.477 ms\n"
     ]
    }
   ],
   "source": [
    "pprint_events(call('Alice gave anoter 2 apples'))"
   ]
  },
  {
   "cell_type": "code",
   "execution_count": 33,
   "metadata": {
    "colab": {
     "base_uri": "https://localhost:8080/"
    },
    "id": "tChA_Yaxk1IM",
    "outputId": "9a66a2e0-02a4-44c4-f753-5ab9c64d18cb",
    "tags": []
   },
   "outputs": [
    {
     "name": "stdout",
     "output_type": "stream",
     "text": [
      ">>> Final Response (1046.261 ms):\n",
      "You have 5 apples.\n",
      "\n",
      "------------------------------\n",
      "Total elapsed time: 1047.321 ms\n"
     ]
    }
   ],
   "source": [
    "pprint_events(call('how many apples do I have?'))"
   ]
  },
  {
   "cell_type": "code",
   "execution_count": 34,
   "metadata": {
    "colab": {
     "base_uri": "https://localhost:8080/"
    },
    "id": "j2iaQ03yk760",
    "outputId": "9c019228-4927-4220-d2af-3605122e1fe7",
    "tags": []
   },
   "outputs": [
    {
     "name": "stdout",
     "output_type": "stream",
     "text": [
      "+++ Function Calls:\n",
      "Function Name: add, Args: {'numbers': [5, 3]}\n",
      "--- Function Responses:\n",
      "Function Name: add\n",
      "Function Results: [8]\n",
      ">>> Final Response (2073.782 ms):\n",
      "You have 8 apples.\n",
      "\n",
      "------------------------------\n",
      "Total elapsed time: 2074.512 ms\n"
     ]
    }
   ],
   "source": [
    "pprint_events(call('Bob gave me 3 apples. how many apples do I have?'))"
   ]
  },
  {
   "cell_type": "code",
   "execution_count": 35,
   "metadata": {
    "colab": {
     "base_uri": "https://localhost:8080/"
    },
    "id": "AVZAUuTRlApx",
    "outputId": "822f61bf-0dfb-44d6-c91d-ad87c39bd944",
    "tags": []
   },
   "outputs": [
    {
     "name": "stdout",
     "output_type": "stream",
     "text": [
      "+++ Function Calls:\n",
      "Function Name: add, Args: {'numbers': [8, 15]}\n",
      "--- Function Responses:\n",
      "Function Name: add\n",
      "Function Results: [23]\n",
      ">>> Final Response (2634.883 ms):\n",
      "So you have 23 apples in total.\n",
      "\n",
      "------------------------------\n",
      "Total elapsed time: 2635.741 ms\n"
     ]
    }
   ],
   "source": [
    "pprint_events(call('Alice and Bob do this to me for three more times. how many apples do I have?'))"
   ]
  },
  {
   "cell_type": "code",
   "execution_count": 36,
   "metadata": {
    "colab": {
     "base_uri": "https://localhost:8080/"
    },
    "id": "_Xa9hTJhVEIv",
    "outputId": "36dd545f-e96b-46c7-bb5e-b523eb70d1fe",
    "tags": []
   },
   "outputs": [
    {
     "name": "stdout",
     "output_type": "stream",
     "text": [
      ">>> Final Response (1041.271 ms):\n",
      "Great! I'm glad I could help.\n",
      "\n",
      "------------------------------\n",
      "Total elapsed time: 1042.295 ms\n"
     ]
    }
   ],
   "source": [
    "pprint_events(call('yes your logic is correct'))"
   ]
  },
  {
   "cell_type": "markdown",
   "metadata": {
    "id": "WTdOCFO4i6qF"
   },
   "source": [
    "# Agent As Tool"
   ]
  },
  {
   "cell_type": "markdown",
   "metadata": {
    "id": "62lUo7Eui9iE"
   },
   "source": [
    "**AgentTool:** You can embed the power of one agent within another by using AgentTool. This allows you to treat an entire agent as a tool within a parent agent. AgentTools are executed in an isolated environment, promoting safety and modularity. Combined with input/output schemas, this enables the creation of sophisticated interactions\n",
    "\n",
    "\n",
    "Function Tool vs Agent Tool:\n",
    " If the execution flow goes from Agent to Tool and it always come back to theinitiation agent vs if the execution flow goes from Agent to **another** agent, the latter agent can decide where the flow goes next.\n",
    "\n",
    "Concepts:\n",
    "- AgentTool -- If you want another agent to handle a task and always come back to the caller, make this `Agent` a `Tool` by `AgentTool`\n",
    "\n",
    "Use case:\n",
    "- Advanced math agent"
   ]
  },
  {
   "cell_type": "code",
   "execution_count": 37,
   "metadata": {
    "id": "U2tB6OuUi8UH",
    "tags": []
   },
   "outputs": [],
   "source": [
    "agent_math_advanced_instruction = '''\n",
    "I am an advanced math agent. I handle user query in the below steps:\n",
    "\n",
    "1. I shall analyse the chat log to understand current question and make a math formula for it.\n",
    "2. Break down a complex compuation based on arithmetic priority and hand over to simple_math_agent for the calculation.\n",
    "3. Note that simple_math_agent can only understand numbers, so I need to convert natural language expression of numbers into digits.\n",
    "\n",
    "<example>\n",
    "<input> alice gives us 3 apples, bob gives us 5 apples. They do this seven times. Then we eat four apples. How many apples do we have now? </input>\n",
    "<think> what is (3+5) * 7 -4 </think>\n",
    "<think>I need to first calculate (3+5) as the highest priority operation.</think>\n",
    "<call_tool> pass (3+5) to simple_math_agent </call_tool>\n",
    "<tool_response>8</tool_response>\n",
    "<think> The question now becomes 8 * 7 - 4, and next highest operation is 8 * 7</think>\n",
    "<call_tool> pass 8 * 7 to simple_math_agent </call_tool>\n",
    "<tool_response>56</tool_response>\n",
    "<think> The question now becomes 56 - 4, and next highest operation is 56 - 4</think>\n",
    "<call_tool> pass 56 - 4 to simple_math_agent </call_tool>\n",
    "<tool_response>52</tool_response>\n",
    "<think>There is a single number, so it is the final answer.</think>\n",
    "<output>The result of \"(3+5) * 7 - 4\" is 52</output>\n",
    "</example>\n",
    "'''\n",
    "\n",
    "agent_math_advanced = Agent(\n",
    "    model=MODEL,\n",
    "    name=\"agent_math_advanced\",\n",
    "    description=\"The advanced math agent can break down a complex computation into multiple simple operations and use math_agent to solve them.\",\n",
    "    instruction=agent_math_advanced_instruction,\n",
    "    tools=[AgentTool(agent=simple_math_agent)],\n",
    "    generate_content_config=types.GenerateContentConfig(temperature=0.2),\n",
    ")"
   ]
  },
  {
   "cell_type": "code",
   "execution_count": 38,
   "metadata": {
    "id": "_LJ6BDn-meCU",
    "tags": []
   },
   "outputs": [],
   "source": [
    "call = caller_factory(root_agent=agent_math_advanced)"
   ]
  },
  {
   "cell_type": "code",
   "execution_count": 39,
   "metadata": {
    "colab": {
     "base_uri": "https://localhost:8080/"
    },
    "id": "LmBOvh0xn4PX",
    "outputId": "8bda2a6e-29e7-4ced-900a-da321982e0e2",
    "tags": []
   },
   "outputs": [
    {
     "name": "stdout",
     "output_type": "stream",
     "text": [
      ">>> Final Response (1339.204 ms):\n",
      "I am an advanced math agent. I handle user query in the below steps:\n",
      "\n",
      "1. I shall analyse the chat log to understand current question and make a math formula for it.\n",
      "2. Break down a complex compuation based on arithmetic priority and hand over to simple_math_agent for the calculation.\n",
      "3. Note that simple_math_agent can only understand numbers, so I need to convert natural language expression of numbers into digits.\n",
      "\n",
      "------------------------------\n",
      "Total elapsed time: 1340.324 ms\n"
     ]
    }
   ],
   "source": [
    "pprint_events(call('who are you?'))"
   ]
  },
  {
   "cell_type": "code",
   "execution_count": 40,
   "metadata": {
    "colab": {
     "base_uri": "https://localhost:8080/"
    },
    "id": "SEm29jQomhUf",
    "outputId": "36cc290f-df2c-44e0-b3a2-353f143e69d1",
    "tags": []
   },
   "outputs": [
    {
     "name": "stdout",
     "output_type": "stream",
     "text": [
      "+++ Function Calls:\n",
      "Function Name: simple_math_agent, Args: {'request': '3+2'}\n",
      "--- Function Responses:\n",
      "Function Name: simple_math_agent\n",
      "Function Results: [\"The answer is 5.\\n\"]\n",
      "+++ Function Calls:\n",
      "Function Name: simple_math_agent, Args: {'request': '5*7'}\n",
      "--- Function Responses:\n",
      "Function Name: simple_math_agent\n",
      "Function Results: [\"35\\n\"]\n",
      "+++ Function Calls:\n",
      "Function Name: simple_math_agent, Args: {'request': '1+35'}\n",
      "--- Function Responses:\n",
      "Function Name: simple_math_agent\n",
      "Function Results: [\"36\\n\"]\n",
      ">>> Final Response (10253.859 ms):\n",
      "The result of \"1 + (three+2) times 7\" is 36\n",
      "\n",
      "------------------------------\n",
      "Total elapsed time: 10255.084 ms\n"
     ]
    }
   ],
   "source": [
    "pprint_events(call('what is 1 + (three+2) times 7 '))"
   ]
  },
  {
   "cell_type": "code",
   "execution_count": 41,
   "metadata": {
    "id": "NeUqlKtfmocA",
    "tags": []
   },
   "outputs": [],
   "source": [
    "call = caller_factory(root_agent=agent_math_advanced)"
   ]
  },
  {
   "cell_type": "code",
   "execution_count": 42,
   "metadata": {
    "colab": {
     "base_uri": "https://localhost:8080/"
    },
    "id": "c0GD-_YLpoeX",
    "outputId": "bd283415-1d95-4098-c3f8-0c1ac97bd6ec",
    "tags": []
   },
   "outputs": [
    {
     "name": "stdout",
     "output_type": "stream",
     "text": [
      "+++ Function Calls:\n",
      "Function Name: simple_math_agent, Args: {'request': '1+2'}\n",
      "--- Function Responses:\n",
      "Function Name: simple_math_agent\n",
      "Function Results: [\"The answer is 3.\\n\"]\n",
      "+++ Function Calls:\n",
      "Function Name: simple_math_agent, Args: {'request': '3*2'}\n",
      "--- Function Responses:\n",
      "Function Name: simple_math_agent\n",
      "Function Results: [\"The answer is 6.\\n\"]\n",
      ">>> Final Response (7333.636 ms):\n",
      "The result of \"add from 1 to 2. then multiply that by 2\" is 6\n",
      "\n",
      "------------------------------\n",
      "Total elapsed time: 7334.432 ms\n"
     ]
    }
   ],
   "source": [
    "pprint_events(call('add from 1 to 2. then multiply that by 2.'))"
   ]
  },
  {
   "cell_type": "code",
   "execution_count": 43,
   "metadata": {
    "colab": {
     "base_uri": "https://localhost:8080/"
    },
    "id": "AQmUaZULu1Ox",
    "outputId": "3c858361-8a8f-482b-fa7f-308eeb630134",
    "tags": []
   },
   "outputs": [
    {
     "name": "stdout",
     "output_type": "stream",
     "text": [
      "+++ Function Calls:\n",
      "Function Name: simple_math_agent, Args: {'request': '10 / 5'}\n",
      "--- Function Responses:\n",
      "Function Name: simple_math_agent\n",
      "Function Results: [\"The answer is 2.0\\n\"]\n",
      "+++ Function Calls:\n",
      "Function Name: simple_math_agent, Args: {'request': '3 * 5'}\n",
      "--- Function Responses:\n",
      "Function Name: simple_math_agent\n",
      "Function Results: [\"15\\n\"]\n",
      "+++ Function Calls:\n",
      "Function Name: simple_math_agent, Args: {'request': '2.0 + 15'}\n",
      "--- Function Responses:\n",
      "Function Name: simple_math_agent\n",
      "Function Results: [\"I am designed to work with integers. Could you provide me with integers to add?\"]\n",
      "+++ Function Calls:\n",
      "Function Name: simple_math_agent, Args: {'request': '2 + 15'}\n",
      "--- Function Responses:\n",
      "Function Name: simple_math_agent\n",
      "Function Results: [\"The answer is 17.\"]\n",
      ">>> Final Response (12588.968 ms):\n",
      "The result of \"10 / 5 + three times 5\" is 17\n",
      "\n",
      "------------------------------\n",
      "Total elapsed time: 12590.008 ms\n"
     ]
    }
   ],
   "source": [
    "call = caller_factory(root_agent=agent_math_advanced)\n",
    "pprint_events(call('how much is 10 / 5 + three times 5?'))"
   ]
  },
  {
   "cell_type": "markdown",
   "metadata": {
    "id": "QWTUQ6cMmzJz"
   },
   "source": [
    "**NOTE**: This part is very nice, it shows how two agents interact to clarify the input type should be integers and input again.\n",
    "\n",
    "```\n",
    "+++ inside the function call...\n",
    "function, [args]:  simple_math_agent, {'request': '2.0 + 15'}\n",
    "--- inside the function call response...\n",
    "Function Name: simple_math_agent\n",
    "Function Results [\"I can only work with integers. Could you provide the numbers as integers?\\n\"]\n",
    "WARNING:google_genai.types:Warning: there are non-text parts in the response: ['function_call'],returning concatenated text from text parts,check out the non text parts for full response from model.\n",
    "+++ inside the function call...\n",
    "function, [args]:  simple_math_agent, {'request': '2 + 15'}\n",
    "\n",
    "```"
   ]
  },
  {
   "cell_type": "markdown",
   "metadata": {
    "id": "DnI-dGgTw0Up"
   },
   "source": [
    "# Input/Output Format Control\n",
    "\n",
    "**Input Schema / Output Schema:** Ensure data consistency and validity by defining Pydantic schemas for your agent's input and output. The agent can then verify the input against the schema and guarantee that the generated output conforms to the specified structure using constrained decoding"
   ]
  },
  {
   "cell_type": "code",
   "execution_count": 44,
   "metadata": {
    "colab": {
     "base_uri": "https://localhost:8080/"
    },
    "id": "P5sc1phw1vml",
    "outputId": "30f3803b-2349-4bb4-b3d4-2fe9486c9d92",
    "tags": []
   },
   "outputs": [
    {
     "data": {
      "text/plain": [
       "{'properties': {'original_query': {'description': 'The original text from user.',\n",
       "   'title': 'Original Query',\n",
       "   'type': 'string'},\n",
       "  'corrected_text': {'description': 'The corrected text.',\n",
       "   'title': 'Corrected Text',\n",
       "   'type': 'string'},\n",
       "  'errors': {'description': 'An array of descriptions of each error.',\n",
       "   'items': {'type': 'string'},\n",
       "   'title': 'Errors',\n",
       "   'type': 'array'},\n",
       "  'explanations': {'description': 'An array of explanations for each correction.',\n",
       "   'items': {'type': 'string'},\n",
       "   'title': 'Explanations',\n",
       "   'type': 'array'}},\n",
       " 'required': ['original_query', 'corrected_text', 'errors', 'explanations'],\n",
       " 'title': 'OutputSchema',\n",
       " 'type': 'object'}"
      ]
     },
     "execution_count": 44,
     "metadata": {},
     "output_type": "execute_result"
    }
   ],
   "source": [
    "from typing import List\n",
    "from pydantic import BaseModel, Field\n",
    "from google.genai import types\n",
    "\n",
    "json_response_config = types.GenerateContentConfig(\n",
    "  response_mime_type=\"application/json\",\n",
    ")\n",
    "\n",
    "class OutputSchema(BaseModel):\n",
    "    original_query: str = Field(description=\"The original text from user.\")\n",
    "    corrected_text: str = Field(description=\"The corrected text.\")\n",
    "    errors: List[str] = Field(description=\"An array of descriptions of each error.\")\n",
    "    explanations: List[str] = Field(description=\"An array of explanations for each correction.\")\n",
    "\n",
    "json_schema = OutputSchema.model_json_schema()\n",
    "json_schema"
   ]
  },
  {
   "cell_type": "code",
   "execution_count": 45,
   "metadata": {
    "id": "oxcvrIybw39T",
    "tags": []
   },
   "outputs": [],
   "source": [
    "# 1. The {json_schema} in instruction is the key for model to follow the schema.\n",
    "# 2. The output_schema=OutputSchema provides a validation step after model output.\n",
    "\n",
    "agent_grammar = Agent(\n",
    "    model=MODEL,\n",
    "    name='agent_grammar',\n",
    "    description=\"This agent corrects grammar mistakes in text provided by children, explains the errors in simple terms, and returns both the corrected text and the explanations.\",\n",
    "    instruction=f\"\"\"\n",
    "        You are a friendly grammar helper for kids.  Analyze the following text,\n",
    "        correct any grammar mistakes, and explain the errors in a way that a\n",
    "        child can easily understand.  Don't just list the errors; explain them\n",
    "        in a paragraph using simple but concise language.\n",
    "\n",
    "        Output in a JSON object with the below schema:\n",
    "        {json_schema}\n",
    "    \"\"\",\n",
    "    output_schema=OutputSchema,\n",
    "    generate_content_config=json_response_config,\n",
    "    disallow_transfer_to_parent = True,\n",
    "    disallow_transfer_to_peers=True\n",
    "    \n",
    "    # allow_transfer=False,\n",
    ")"
   ]
  },
  {
   "cell_type": "markdown",
   "metadata": {
    "id": "pOO130ZYd5he"
   },
   "source": [
    "Conversation Flow:\n",
    "\n",
    "The session contains multiple interactions where the user asks questions with intentional misspellings, and the agent corrects them. Here are the main interactions:\n",
    "\n",
    "Response Format: Each agent response is in JSON format containing:\n",
    "\n",
    "- original_query: The user's input\n",
    "- corrected_text: The corrected version\n",
    "- errors: List of error types found\n",
    "- explanations: Detailed explanations of the corrections\n",
    "- Technical Details: Each interaction has a unique invocation_id\n",
    "- Events are timestamped\n",
    "- The session maintains state and tracks all events\n",
    "\n",
    "\n",
    "To summarize, this agent:\n",
    "\n",
    "1. Accepts user input\n",
    "2. Identifies grammatical and spelling errors\n",
    "3. Provides corrected versions\n",
    "4. Explains the corrections\n",
    "5. Maintains a conversation history\n",
    "6. The agent is particularly focused on:\n",
    "7. Spelling corrections (e.g., \"ho\" → \"how\", \"whut\" → \"what\")\n",
    "8. Sentence structure (e.g., adding missing \"be\")\n",
    "9. Providing educational explanations for each correction"
   ]
  },
  {
   "cell_type": "markdown",
   "metadata": {},
   "source": [
    "# Hosting Agent on Agent engine"
   ]
  },
  {
   "cell_type": "code",
   "execution_count": 68,
   "metadata": {},
   "outputs": [],
   "source": [
    "import vertexai\n",
    "from vertexai import agent_engines\n",
    "from vertexai.preview.reasoning_engines import AdkApp\n",
    "\n",
    "LOCATION = \"us-central1\" #@param {type:\"string\"}\n",
    "STAGING_BUCKET = \"gs://my-project-0004-346516-sd\" #@param {type:\"string\"}\n",
    "\n",
    "vertexai.init(\n",
    "    project=PROJECT_ID,\n",
    "    location=LOCATION,\n",
    "    staging_bucket=STAGING_BUCKET,\n",
    ")"
   ]
  },
  {
   "cell_type": "code",
   "execution_count": 69,
   "metadata": {
    "tags": []
   },
   "outputs": [],
   "source": [
    "model = \"gemini-2.0-flash-001\"\n",
    "\n",
    "from google.genai import types\n",
    "\n",
    "safety_settings = [\n",
    "    types.SafetySetting(\n",
    "        category=types.HarmCategory.HARM_CATEGORY_DANGEROUS_CONTENT,\n",
    "        threshold=types.HarmBlockThreshold.OFF,\n",
    "    ),\n",
    "]\n",
    "generate_content_config = types.GenerateContentConfig(\n",
    "    safety_settings=safety_settings,\n",
    "    temperature=0.28,\n",
    "    max_output_tokens=1000,\n",
    "    top_p=0.95,\n",
    ")\n"
   ]
  },
  {
   "cell_type": "code",
   "execution_count": 70,
   "metadata": {
    "tags": []
   },
   "outputs": [
    {
     "name": "stdout",
     "output_type": "stream",
     "text": [
      "{'content': {'parts': [{'text': \"Please specify which Swedish currency you are referring to. Sweden's currency is the Swedish Krona (SEK). Once you confirm, I can provide the approximate exchange rate.\\n\"}], 'role': 'model'}, 'invocation_id': 'e-3ec544af-0f34-44ec-b184-c0655b320ecc', 'author': 'currency_exchange_agent', 'actions': {'state_delta': {}, 'artifact_delta': {}, 'requested_auth_configs': {}}, 'id': 'kwqlh70r', 'timestamp': 1747207819.636227}\n"
     ]
    }
   ],
   "source": [
    "from google.adk.agents import Agent\n",
    "\n",
    "agent = Agent(\n",
    "    model=model,                                      # Required.\n",
    "    name='currency_exchange_agent',                   # Required.\n",
    "    generate_content_config=generate_content_config,  # Optional.\n",
    ")\n",
    "app = AdkApp(agent=agent)\n",
    "for event in app.stream_query(\n",
    "    user_id=\"ysian\",  # Required\n",
    "    message=\"What is the exchange rate from US dollars to Swedish currency?\",\n",
    "):\n",
    "    print(event)"
   ]
  },
  {
   "cell_type": "markdown",
   "metadata": {},
   "source": [
    "## Enable Tracability"
   ]
  },
  {
   "cell_type": "code",
   "execution_count": 73,
   "metadata": {
    "tags": []
   },
   "outputs": [
    {
     "name": "stderr",
     "output_type": "stream",
     "text": [
      "Already shutdown, dropping span.\n",
      "Already shutdown, dropping span.\n",
      "Already shutdown, dropping span.\n"
     ]
    },
    {
     "name": "stdout",
     "output_type": "stream",
     "text": [
      "{'content': {'parts': [{'text': 'I am sorry, I cannot provide the exact exchange rate for a future date like 2025-04-03. Exchange rates fluctuate constantly based on various market factors that are impossible to predict with certainty so far in advance.'}], 'role': 'model'}, 'invocation_id': 'e-9775bbdd-d0f1-4bb2-ae2b-c67a1f7ae77f', 'author': 'currency_exchange_agent', 'actions': {'state_delta': {}, 'artifact_delta': {}, 'requested_auth_configs': {}}, 'id': 'rHWJNbFA', 'timestamp': 1747207899.656114}\n"
     ]
    }
   ],
   "source": [
    "app = AdkApp(\n",
    "    agent=agent,\n",
    "    enable_tracing=True, # <- new\n",
    ")\n",
    "\n",
    "for event in app.stream_query(\n",
    "    user_id=\"saurabh\",\n",
    "    message=\"What is the exchange rate from US dollars to Swedish currency on 2025-04-03?\",\n",
    "):\n",
    "    print(event)"
   ]
  },
  {
   "cell_type": "markdown",
   "metadata": {},
   "source": [
    "## Agent Engine hosting"
   ]
  },
  {
   "cell_type": "code",
   "execution_count": 74,
   "metadata": {
    "tags": []
   },
   "outputs": [
    {
     "name": "stdout",
     "output_type": "stream",
     "text": [
      "Identified the following requirements: {'cloudpickle': '3.0.0', 'google-cloud-aiplatform': '1.92.0', 'pydantic': '2.11.2'}\n",
      "The following requirements are missing: {'cloudpickle', 'pydantic'}\n",
      "The following requirements are appended: {'pydantic==2.11.2', 'cloudpickle==3.0.0'}\n",
      "The final list of requirements: ['google-cloud-aiplatform[agent_engines,adk]>=1.88', 'pydantic==2.11.2', 'cloudpickle==3.0.0']\n",
      "Using bucket my-project-0004-346516-sd\n",
      "Wrote to gs://my-project-0004-346516-sd/agent_engine/agent_engine.pkl\n",
      "Writing to gs://my-project-0004-346516-sd/agent_engine/requirements.txt\n",
      "Creating in-memory tarfile of extra_packages\n",
      "Writing to gs://my-project-0004-346516-sd/agent_engine/dependencies.tar.gz\n",
      "failed to generate schema for stream_query: `stream_query` is not fully defined; you should define `ContentDict`, then call `stream_query.model_rebuild()`.\n",
      "\n",
      "For further information visit https://errors.pydantic.dev/2.11/u/class-not-fully-defined\n",
      "Creating AgentEngine\n",
      "Create AgentEngine backing LRO: projects/255766800726/locations/us-central1/reasoningEngines/694055719917322240/operations/6301520594433212416\n",
      "View progress and logs at https://console.cloud.google.com/logs/query?project=my-project-0004-346516\n",
      "AgentEngine created. Resource name: projects/255766800726/locations/us-central1/reasoningEngines/694055719917322240\n",
      "To use this AgentEngine in another session:\n",
      "agent_engine = vertexai.agent_engines.get('projects/255766800726/locations/us-central1/reasoningEngines/694055719917322240')\n"
     ]
    }
   ],
   "source": [
    "remote_app = agent_engines.create(\n",
    "    app,\n",
    "    requirements=[\"google-cloud-aiplatform[agent_engines,adk]>=1.88\"],\n",
    "    # requirements=[\"google-cloud-aiplatform[agent_engines,adk]],\n",
    ")"
   ]
  },
  {
   "cell_type": "code",
   "execution_count": 76,
   "metadata": {
    "tags": []
   },
   "outputs": [
    {
     "name": "stdout",
     "output_type": "stream",
     "text": [
      "[{'api_mode': '',\n",
      "  'description': 'Get a session for the given user.\\n'\n",
      "                 '\\n'\n",
      "                 '        Args:\\n'\n",
      "                 '            user_id (str):\\n'\n",
      "                 '                Required. The ID of the user.\\n'\n",
      "                 '            session_id (str):\\n'\n",
      "                 '                Required. The ID of the session.\\n'\n",
      "                 '            **kwargs (dict[str, Any]):\\n'\n",
      "                 '                Optional. Additional keyword arguments to '\n",
      "                 'pass to the\\n'\n",
      "                 '                session service.\\n'\n",
      "                 '\\n'\n",
      "                 '        Returns:\\n'\n",
      "                 '            Session: The session instance (if any). It '\n",
      "                 'returns None if the\\n'\n",
      "                 '            session is not found.\\n'\n",
      "                 '\\n'\n",
      "                 '        Raises:\\n'\n",
      "                 '            RuntimeError: If the session is not found.\\n'\n",
      "                 '        ',\n",
      "  'name': 'get_session',\n",
      "  'parameters': {'properties': {'session_id': {'type': 'string'},\n",
      "                                'user_id': {'type': 'string'}},\n",
      "                 'required': ['user_id', 'session_id'],\n",
      "                 'type': 'object'}},\n",
      " {'api_mode': '',\n",
      "  'description': 'List sessions for the given user.\\n'\n",
      "                 '\\n'\n",
      "                 '        Args:\\n'\n",
      "                 '            user_id (str):\\n'\n",
      "                 '                Required. The ID of the user.\\n'\n",
      "                 '            **kwargs (dict[str, Any]):\\n'\n",
      "                 '                Optional. Additional keyword arguments to '\n",
      "                 'pass to the\\n'\n",
      "                 '                session service.\\n'\n",
      "                 '\\n'\n",
      "                 '        Returns:\\n'\n",
      "                 '            ListSessionsResponse: The list of sessions.\\n'\n",
      "                 '        ',\n",
      "  'name': 'list_sessions',\n",
      "  'parameters': {'properties': {'user_id': {'type': 'string'}},\n",
      "                 'required': ['user_id'],\n",
      "                 'type': 'object'}},\n",
      " {'api_mode': '',\n",
      "  'description': 'Creates a new session.\\n'\n",
      "                 '\\n'\n",
      "                 '        Args:\\n'\n",
      "                 '            user_id (str):\\n'\n",
      "                 '                Required. The ID of the user.\\n'\n",
      "                 '            session_id (str):\\n'\n",
      "                 '                Optional. The ID of the session. If not '\n",
      "                 'provided, an ID\\n'\n",
      "                 '                will be be generated for the session.\\n'\n",
      "                 '            state (dict[str, Any]):\\n'\n",
      "                 '                Optional. The initial state of the session.\\n'\n",
      "                 '            **kwargs (dict[str, Any]):\\n'\n",
      "                 '                Optional. Additional keyword arguments to '\n",
      "                 'pass to the\\n'\n",
      "                 '                session service.\\n'\n",
      "                 '\\n'\n",
      "                 '        Returns:\\n'\n",
      "                 '            Session: The newly created session instance.\\n'\n",
      "                 '        ',\n",
      "  'name': 'create_session',\n",
      "  'parameters': {'properties': {'session_id': {'nullable': True,\n",
      "                                               'type': 'string'},\n",
      "                                'state': {'nullable': True, 'type': 'object'},\n",
      "                                'user_id': {'type': 'string'}},\n",
      "                 'required': ['user_id'],\n",
      "                 'type': 'object'}},\n",
      " {'api_mode': '',\n",
      "  'description': 'Deletes a session for the given user.\\n'\n",
      "                 '\\n'\n",
      "                 '        Args:\\n'\n",
      "                 '            user_id (str):\\n'\n",
      "                 '                Required. The ID of the user.\\n'\n",
      "                 '            session_id (str):\\n'\n",
      "                 '                Required. The ID of the session.\\n'\n",
      "                 '            **kwargs (dict[str, Any]):\\n'\n",
      "                 '                Optional. Additional keyword arguments to '\n",
      "                 'pass to the\\n'\n",
      "                 '                session service.\\n'\n",
      "                 '        ',\n",
      "  'name': 'delete_session',\n",
      "  'parameters': {'properties': {'session_id': {'type': 'string'},\n",
      "                                'user_id': {'type': 'string'}},\n",
      "                 'required': ['user_id', 'session_id'],\n",
      "                 'type': 'object'}},\n",
      " {'api_mode': 'stream',\n",
      "  'description': None,\n",
      "  'name': 'streaming_agent_run_with_events',\n",
      "  'parameters': {'properties': {'request_json': {'type': 'string'}},\n",
      "                 'required': ['request_json'],\n",
      "                 'type': 'object'}}]\n"
     ]
    }
   ],
   "source": [
    "import pprint\n",
    "\n",
    "pprint.pprint(remote_app.operation_schemas())"
   ]
  },
  {
   "cell_type": "markdown",
   "metadata": {},
   "source": [
    "# Agent Features"
   ]
  },
  {
   "cell_type": "code",
   "execution_count": null,
   "metadata": {},
   "outputs": [],
   "source": [
    "import random\n",
    "\n",
    "from google.adk.runners import InMemoryRunner, Runner\n",
    "from google.adk.agents import BaseAgent, LlmAgent, Agent, SequentialAgent, LoopAgent, ParallelAgent\n",
    "from google.adk.agents.readonly_context import ReadonlyContext\n",
    "from google.adk.tools import ToolContext, LongRunningFunctionTool\n",
    "from google.adk.tools.agent_tool import AgentTool\n",
    "from google.adk.sessions import Session\n",
    "from google.adk.events import Event\n",
    "from google.adk.agents.callback_context import CallbackContext\n",
    "\n",
    "from google.genai import types\n",
    "\n",
    "from pydantic import BaseModel, Field\n",
    "from typing import List, Optional\n",
    "import logging\n",
    "\n",
    "logging.basicConfig(level=logging.ERROR)"
   ]
  },
  {
   "cell_type": "markdown",
   "metadata": {},
   "source": [
    "## Basic Agent"
   ]
  },
  {
   "cell_type": "code",
   "execution_count": 87,
   "metadata": {
    "tags": []
   },
   "outputs": [],
   "source": [
    "basic_agent = Agent(\n",
    "    name='basic_agent',\n",
    "    description='A helpful assistant for user.',\n",
    "    model='gemini-2.0-flash-001',\n",
    "    instruction=\"Answer user's question with your best knowledge.\",\n",
    ")"
   ]
  },
  {
   "cell_type": "code",
   "execution_count": 88,
   "metadata": {
    "tags": []
   },
   "outputs": [
    {
     "name": "stdout",
     "output_type": "stream",
     "text": [
      "User: Hello!\n",
      "----------------------------------\n",
      "Author: basic_agent\n",
      "Content Text: Hello there! How can I help you today?\n",
      "\n",
      "Event: {'content': {'parts': [{'text': 'Hello there! How can I help you today?\\n'}], 'role': 'model'}, 'invocation_id': 'e-b6c06f61-9098-4c7a-897b-8886f254edb6', 'author': 'basic_agent', 'id': 'ZqNilQY7', 'timestamp': 1747209143.874138}\n",
      "----------------------------------\n",
      "User: Tell me a joke under 30 words?\n",
      "----------------------------------\n",
      "Author: basic_agent\n",
      "Content Text: Why don't scientists trust atoms? Because they make up everything!\n",
      "\n",
      "Event: {'content': {'parts': [{'text': \"Why don't scientists trust atoms? Because they make up everything!\\n\"}], 'role': 'model'}, 'invocation_id': 'e-3c3d4a8a-a785-4a6a-b210-99b8e52b05f5', 'author': 'basic_agent', 'id': 'M3jua29r', 'timestamp': 1747209144.8575}\n",
      "----------------------------------\n"
     ]
    }
   ],
   "source": [
    "runner = create_runner(basic_agent)\n",
    "session = await run_session(content_text('Hello!'), runner=runner)\n",
    "session = await run_session(content_text('Tell me a joke under 30 words?'), runner=runner, session=session)"
   ]
  },
  {
   "cell_type": "markdown",
   "metadata": {},
   "source": [
    "### "
   ]
  },
  {
   "cell_type": "code",
   "execution_count": 89,
   "metadata": {
    "tags": []
   },
   "outputs": [],
   "source": [
    "sub_agent_1 = Agent(\n",
    "    name='sub_agent_1',\n",
    "    description='No.1 sub agent.',\n",
    "    model='gemini-2.0-flash-001',\n",
    "    instruction=\"JUST SAY 1.\",\n",
    ")\n",
    "\n",
    "sub_agent_2 = Agent(\n",
    "    name='sub_agent_2',\n",
    "    description='No.2 sub agent.',\n",
    "    model='gemini-2.0-flash-001',\n",
    "    instruction=\"JUST SAY 2.\",\n",
    ")"
   ]
  },
  {
   "cell_type": "markdown",
   "metadata": {},
   "source": [
    "## Sequential Agent"
   ]
  },
  {
   "cell_type": "code",
   "execution_count": 90,
   "metadata": {
    "tags": []
   },
   "outputs": [],
   "source": [
    "sequential_agent = SequentialAgent(\n",
    "    name='sequential_agent',\n",
    "    sub_agents=[sub_agent_1, sub_agent_2],\n",
    ")"
   ]
  },
  {
   "cell_type": "code",
   "execution_count": 91,
   "metadata": {
    "tags": []
   },
   "outputs": [
    {
     "name": "stdout",
     "output_type": "stream",
     "text": [
      "User: Hello!\n",
      "----------------------------------\n",
      "Author: sub_agent_1\n",
      "Content Text: 1.\n",
      "\n",
      "Event: {'content': {'parts': [{'text': '1.\\n'}], 'role': 'model'}, 'invocation_id': 'e-dc687662-7b2f-4a84-a780-8c354ead47cd', 'author': 'sub_agent_1', 'id': 'hTjJTIyP', 'timestamp': 1747209204.823788}\n",
      "Author: sub_agent_2\n",
      "Content Text: 2.\n",
      "\n",
      "Event: {'content': {'parts': [{'text': '2.\\n'}], 'role': 'model'}, 'invocation_id': 'e-dc687662-7b2f-4a84-a780-8c354ead47cd', 'author': 'sub_agent_2', 'id': 'r06bJ9gA', 'timestamp': 1747209205.744843}\n",
      "----------------------------------\n"
     ]
    },
    {
     "data": {
      "text/plain": [
       "'\\nAuthor: child_1_agent\\nContent Text: 1.\\n\\n...\\n\\nAuthor: child_2_agent\\nContent Text: 2.\\n'"
      ]
     },
     "execution_count": 91,
     "metadata": {},
     "output_type": "execute_result"
    }
   ],
   "source": [
    "runner = create_runner(sequential_agent)\n",
    "session = await run_session(content_text('Hello!'), runner=runner)\n",
    "\n",
    "# Expect output:\n",
    "\"\"\"\n",
    "Author: child_1_agent\n",
    "Content Text: 1.\n",
    "\n",
    "...\n",
    "\n",
    "Author: child_2_agent\n",
    "Content Text: 2.\n",
    "\"\"\""
   ]
  },
  {
   "cell_type": "markdown",
   "metadata": {},
   "source": [
    "## Parallel Agent"
   ]
  },
  {
   "cell_type": "code",
   "execution_count": 93,
   "metadata": {
    "tags": []
   },
   "outputs": [],
   "source": [
    "from typing import Optional, Any\n",
    "\n",
    "APP_NAME = 'test_app'\n",
    "USER_ID = 'test_user'\n",
    "\n",
    "def create_runner(agent: BaseAgent):\n",
    "  return InMemoryRunner(agent, app_name=APP_NAME)\n",
    "\n",
    "def _content_to_text(content: types.Content | None) -> str:\n",
    "  if not content or not content.parts:\n",
    "    return ''\n",
    "  return ''.join([p.text or '' for p in content.parts])\n",
    "\n",
    "def print_event(event: Event):\n",
    "  print(f'Author: {event.author}')\n",
    "  print(f'Content Text: {_content_to_text(event.content)}')\n",
    "  print(f'Event: {event.model_dump(exclude_none=True, exclude_defaults=True)}')\n",
    "\n",
    "async def run_session(new_message: types.Content, *, runner: Runner, session: Optional[Session] = None, state: Optional[dict[str, Any]] = None) -> Session:\n",
    "  if session is None:\n",
    "    session = runner.session_service.create_session(app_name=APP_NAME, user_id=USER_ID, state=state)\n",
    "\n",
    "  print(f'User: {_content_to_text(new_message)}')\n",
    "  print('----------------------------------')\n",
    "  async for e in runner.run_async(user_id=USER_ID, session_id=session.id, new_message=new_message):\n",
    "    print_event(e)\n",
    "  print('----------------------------------')\n",
    "\n",
    "  session = runner.session_service.get_session(app_name=session.app_name, user_id=session.user_id, session_id=session.id)\n",
    "  return session\n",
    "\n",
    "def content_text(msg: str) -> types.Content:\n",
    "  return types.UserContent(parts=[types.Part(text=msg)])"
   ]
  },
  {
   "cell_type": "code",
   "execution_count": 94,
   "metadata": {
    "tags": []
   },
   "outputs": [],
   "source": [
    "def roll_die(sides: int) -> int:\n",
    "  \"\"\"Roll a die and return the rolled result.\n",
    "\n",
    "  Args:\n",
    "    sides: The integer number of sides the die has.\n",
    "\n",
    "  Returns:\n",
    "    An integer of the result of rolling the die.\n",
    "  \"\"\"\n",
    "  return random.randint(1, sides)\n",
    "\n",
    "\n",
    "single_agent_1 = Agent(\n",
    "    name='async_agent_1',\n",
    "    model='gemini-2.0-flash-001',\n",
    "    instruction='Just roll a dice of 8 sides when being asked to roll a die.',\n",
    "    disallow_transfer_to_parent=True,\n",
    "    disallow_transfer_to_peers=True,\n",
    "    tools=[roll_die],\n",
    ")\n",
    "single_agent_2 = Agent(\n",
    "    name='async_agent_2',\n",
    "    model='gemini-2.0-flash-001',\n",
    "    instruction='Just roll a dice of 10 sides when being asked to roll a die.',\n",
    "    disallow_transfer_to_parent=True,\n",
    "    disallow_transfer_to_peers=True,\n",
    "    tools=[roll_die],\n",
    ")\n",
    "single_agent_3 = Agent(\n",
    "    name='async_agent_3',\n",
    "    model='gemini-2.0-flash-001',\n",
    "    instruction='Just roll a dice of 15 sides when being asked to roll a die.',\n",
    "    disallow_transfer_to_parent=True,\n",
    "    disallow_transfer_to_peers=True,\n",
    "    tools=[roll_die],\n",
    ")\n",
    "parallel_agent = ParallelAgent(\n",
    "    name='parallel_agent',\n",
    "    sub_agents=[\n",
    "        single_agent_1,\n",
    "        single_agent_2,\n",
    "        single_agent_3,\n",
    "    ],\n",
    ")\n"
   ]
  },
  {
   "cell_type": "code",
   "execution_count": 95,
   "metadata": {
    "tags": []
   },
   "outputs": [
    {
     "name": "stdout",
     "output_type": "stream",
     "text": [
      "User: Hello!\n",
      "----------------------------------\n"
     ]
    },
    {
     "name": "stderr",
     "output_type": "stream",
     "text": [
      "ERROR:opentelemetry.context:Failed to detach context\n",
      "Traceback (most recent call last):\n",
      "  File \"/opt/conda/lib/python3.10/site-packages/opentelemetry/context/__init__.py\", line 155, in detach\n",
      "    _RUNTIME_CONTEXT.detach(token)\n",
      "  File \"/opt/conda/lib/python3.10/site-packages/opentelemetry/context/contextvars_context.py\", line 53, in detach\n",
      "    self._current_context.reset(token)\n",
      "ValueError: <Token var=<ContextVar name='current_context' default={} at 0x7f4adde461b0> at 0x7f4ad0539800> was created in a different Context\n",
      "ERROR:opentelemetry.context:Failed to detach context\n",
      "Traceback (most recent call last):\n",
      "  File \"/opt/conda/lib/python3.10/site-packages/opentelemetry/context/__init__.py\", line 155, in detach\n",
      "    _RUNTIME_CONTEXT.detach(token)\n",
      "  File \"/opt/conda/lib/python3.10/site-packages/opentelemetry/context/contextvars_context.py\", line 53, in detach\n",
      "    self._current_context.reset(token)\n",
      "ValueError: <Token var=<ContextVar name='current_context' default={} at 0x7f4adde461b0> at 0x7f4ad05245c0> was created in a different Context\n",
      "ERROR:opentelemetry.context:Failed to detach context\n",
      "Traceback (most recent call last):\n",
      "  File \"/opt/conda/lib/python3.10/site-packages/opentelemetry/context/__init__.py\", line 155, in detach\n",
      "    _RUNTIME_CONTEXT.detach(token)\n",
      "  File \"/opt/conda/lib/python3.10/site-packages/opentelemetry/context/contextvars_context.py\", line 53, in detach\n",
      "    self._current_context.reset(token)\n",
      "ValueError: <Token var=<ContextVar name='current_context' default={} at 0x7f4adde461b0> at 0x7f4ad04f0640> was created in a different Context\n",
      "ERROR:opentelemetry.context:Failed to detach context\n",
      "Traceback (most recent call last):\n",
      "  File \"/opt/conda/lib/python3.10/site-packages/opentelemetry/context/__init__.py\", line 155, in detach\n",
      "    _RUNTIME_CONTEXT.detach(token)\n",
      "  File \"/opt/conda/lib/python3.10/site-packages/opentelemetry/context/contextvars_context.py\", line 53, in detach\n",
      "    self._current_context.reset(token)\n",
      "ValueError: <Token var=<ContextVar name='current_context' default={} at 0x7f4adde461b0> at 0x7f4ad04e4600> was created in a different Context\n"
     ]
    },
    {
     "name": "stdout",
     "output_type": "stream",
     "text": [
      "Author: async_agent_2\n",
      "Content Text: Hello! How can I help you today?\n",
      "\n",
      "Event: {'content': {'parts': [{'text': 'Hello! How can I help you today?\\n'}], 'role': 'model'}, 'invocation_id': 'e-0c042378-9e8a-44c2-8ef4-3ea5adfee182', 'author': 'async_agent_2', 'branch': 'parallel_agent.async_agent_2', 'id': 'QgCYKv60', 'timestamp': 1747209220.793664}\n",
      "Author: async_agent_1\n",
      "Content Text: Hello! How can I help you today?\n",
      "\n",
      "Event: {'content': {'parts': [{'text': 'Hello! How can I help you today?\\n'}], 'role': 'model'}, 'invocation_id': 'e-0c042378-9e8a-44c2-8ef4-3ea5adfee182', 'author': 'async_agent_1', 'branch': 'parallel_agent.async_agent_1', 'id': 'qwBbpsMl', 'timestamp': 1747209220.781373}\n"
     ]
    },
    {
     "name": "stderr",
     "output_type": "stream",
     "text": [
      "ERROR:opentelemetry.context:Failed to detach context\n",
      "Traceback (most recent call last):\n",
      "  File \"/opt/conda/lib/python3.10/site-packages/opentelemetry/context/__init__.py\", line 155, in detach\n",
      "    _RUNTIME_CONTEXT.detach(token)\n",
      "  File \"/opt/conda/lib/python3.10/site-packages/opentelemetry/context/contextvars_context.py\", line 53, in detach\n",
      "    self._current_context.reset(token)\n",
      "ValueError: <Token var=<ContextVar name='current_context' default={} at 0x7f4adde461b0> at 0x7f4ad069f200> was created in a different Context\n",
      "ERROR:opentelemetry.context:Failed to detach context\n",
      "Traceback (most recent call last):\n",
      "  File \"/opt/conda/lib/python3.10/site-packages/opentelemetry/context/__init__.py\", line 155, in detach\n",
      "    _RUNTIME_CONTEXT.detach(token)\n",
      "  File \"/opt/conda/lib/python3.10/site-packages/opentelemetry/context/contextvars_context.py\", line 53, in detach\n",
      "    self._current_context.reset(token)\n",
      "ValueError: <Token var=<ContextVar name='current_context' default={} at 0x7f4adde461b0> at 0x7f4ad061fec0> was created in a different Context\n"
     ]
    },
    {
     "name": "stdout",
     "output_type": "stream",
     "text": [
      "Author: async_agent_3\n",
      "Content Text: Hello! How can I help you today?\n",
      "\n",
      "Event: {'content': {'parts': [{'text': 'Hello! How can I help you today?\\n'}], 'role': 'model'}, 'invocation_id': 'e-0c042378-9e8a-44c2-8ef4-3ea5adfee182', 'author': 'async_agent_3', 'branch': 'parallel_agent.async_agent_3', 'id': 'aPCtyoZ6', 'timestamp': 1747209220.80542}\n",
      "----------------------------------\n",
      "User: Roll a dice of 100 sides and tell me what you got.\n",
      "----------------------------------\n"
     ]
    },
    {
     "name": "stderr",
     "output_type": "stream",
     "text": [
      "ERROR:opentelemetry.context:Failed to detach context\n",
      "Traceback (most recent call last):\n",
      "  File \"/opt/conda/lib/python3.10/site-packages/opentelemetry/context/__init__.py\", line 155, in detach\n",
      "    _RUNTIME_CONTEXT.detach(token)\n",
      "  File \"/opt/conda/lib/python3.10/site-packages/opentelemetry/context/contextvars_context.py\", line 53, in detach\n",
      "    self._current_context.reset(token)\n",
      "ValueError: <Token var=<ContextVar name='current_context' default={} at 0x7f4adde461b0> at 0x7f4ad087eb80> was created in a different Context\n"
     ]
    },
    {
     "name": "stdout",
     "output_type": "stream",
     "text": [
      "Author: async_agent_3\n",
      "Content Text: \n",
      "Event: {'content': {'parts': [{'function_call': {'id': 'adk-e675b3ae-9b2e-40c0-9d46-1f1c536f191e', 'args': {'sides': 100}, 'name': 'roll_die'}}], 'role': 'model'}, 'invocation_id': 'e-9f31686d-b4ff-432d-aa66-8310679a6914', 'author': 'async_agent_3', 'long_running_tool_ids': set(), 'branch': 'parallel_agent.async_agent_3', 'id': 'Y61I0xui', 'timestamp': 1747209222.217105}\n",
      "Author: async_agent_3\n",
      "Content Text: \n",
      "Event: {'content': {'parts': [{'function_response': {'id': 'adk-e675b3ae-9b2e-40c0-9d46-1f1c536f191e', 'name': 'roll_die', 'response': {'result': 6}}}], 'role': 'user'}, 'invocation_id': 'e-9f31686d-b4ff-432d-aa66-8310679a6914', 'author': 'async_agent_3', 'branch': 'parallel_agent.async_agent_3', 'id': '9RbSS7Ly', 'timestamp': 1747209223.299489}\n"
     ]
    },
    {
     "name": "stderr",
     "output_type": "stream",
     "text": [
      "ERROR:opentelemetry.context:Failed to detach context\n",
      "Traceback (most recent call last):\n",
      "  File \"/opt/conda/lib/python3.10/site-packages/opentelemetry/context/__init__.py\", line 155, in detach\n",
      "    _RUNTIME_CONTEXT.detach(token)\n",
      "  File \"/opt/conda/lib/python3.10/site-packages/opentelemetry/context/contextvars_context.py\", line 53, in detach\n",
      "    self._current_context.reset(token)\n",
      "ValueError: <Token var=<ContextVar name='current_context' default={} at 0x7f4adde461b0> at 0x7f4ad0538a40> was created in a different Context\n",
      "ERROR:opentelemetry.context:Failed to detach context\n",
      "Traceback (most recent call last):\n",
      "  File \"/opt/conda/lib/python3.10/site-packages/opentelemetry/context/__init__.py\", line 155, in detach\n",
      "    _RUNTIME_CONTEXT.detach(token)\n",
      "  File \"/opt/conda/lib/python3.10/site-packages/opentelemetry/context/contextvars_context.py\", line 53, in detach\n",
      "    self._current_context.reset(token)\n",
      "ValueError: <Token var=<ContextVar name='current_context' default={} at 0x7f4adde461b0> at 0x7f4ad0451dc0> was created in a different Context\n"
     ]
    },
    {
     "name": "stdout",
     "output_type": "stream",
     "text": [
      "Author: async_agent_2\n",
      "Content Text: \n",
      "Event: {'content': {'parts': [{'function_call': {'id': 'adk-e7de1a37-2b16-4781-b3ff-a1a9e7adbc74', 'args': {'sides': 10}, 'name': 'roll_die'}}], 'role': 'model'}, 'invocation_id': 'e-9f31686d-b4ff-432d-aa66-8310679a6914', 'author': 'async_agent_2', 'long_running_tool_ids': set(), 'branch': 'parallel_agent.async_agent_2', 'id': 'TWmKcofd', 'timestamp': 1747209222.202597}\n",
      "Author: async_agent_2\n",
      "Content Text: \n",
      "Event: {'content': {'parts': [{'function_response': {'id': 'adk-e7de1a37-2b16-4781-b3ff-a1a9e7adbc74', 'name': 'roll_die', 'response': {'result': 2}}}], 'role': 'user'}, 'invocation_id': 'e-9f31686d-b4ff-432d-aa66-8310679a6914', 'author': 'async_agent_2', 'branch': 'parallel_agent.async_agent_2', 'id': 'WPgH6k8c', 'timestamp': 1747209223.590978}\n",
      "Author: async_agent_1\n",
      "Content Text: \n",
      "Event: {'content': {'parts': [{'function_call': {'id': 'adk-ca4f87a2-0b92-42af-9271-c2b018d32761', 'args': {'sides': 100}, 'name': 'roll_die'}}], 'role': 'model'}, 'invocation_id': 'e-9f31686d-b4ff-432d-aa66-8310679a6914', 'author': 'async_agent_1', 'long_running_tool_ids': set(), 'branch': 'parallel_agent.async_agent_1', 'id': 'e4T3W10p', 'timestamp': 1747209222.192466}\n",
      "Author: async_agent_1\n",
      "Content Text: \n",
      "Event: {'content': {'parts': [{'function_response': {'id': 'adk-ca4f87a2-0b92-42af-9271-c2b018d32761', 'name': 'roll_die', 'response': {'result': 6}}}], 'role': 'user'}, 'invocation_id': 'e-9f31686d-b4ff-432d-aa66-8310679a6914', 'author': 'async_agent_1', 'branch': 'parallel_agent.async_agent_1', 'id': 'RjVY2iX1', 'timestamp': 1747209223.608663}\n"
     ]
    },
    {
     "name": "stderr",
     "output_type": "stream",
     "text": [
      "ERROR:opentelemetry.context:Failed to detach context\n",
      "Traceback (most recent call last):\n",
      "  File \"/opt/conda/lib/python3.10/site-packages/opentelemetry/context/__init__.py\", line 155, in detach\n",
      "    _RUNTIME_CONTEXT.detach(token)\n",
      "  File \"/opt/conda/lib/python3.10/site-packages/opentelemetry/context/contextvars_context.py\", line 53, in detach\n",
      "    self._current_context.reset(token)\n",
      "ValueError: <Token var=<ContextVar name='current_context' default={} at 0x7f4adde461b0> at 0x7f4ad0538880> was created in a different Context\n",
      "ERROR:opentelemetry.context:Failed to detach context\n",
      "Traceback (most recent call last):\n",
      "  File \"/opt/conda/lib/python3.10/site-packages/opentelemetry/context/__init__.py\", line 155, in detach\n",
      "    _RUNTIME_CONTEXT.detach(token)\n",
      "  File \"/opt/conda/lib/python3.10/site-packages/opentelemetry/context/contextvars_context.py\", line 53, in detach\n",
      "    self._current_context.reset(token)\n",
      "ValueError: <Token var=<ContextVar name='current_context' default={} at 0x7f4adde461b0> at 0x7f4ad04e6500> was created in a different Context\n"
     ]
    },
    {
     "name": "stdout",
     "output_type": "stream",
     "text": [
      "Author: async_agent_3\n",
      "Content Text: I rolled a 100-sided die and got 6.\n",
      "\n",
      "Event: {'content': {'parts': [{'text': 'I rolled a 100-sided die and got 6.\\n'}], 'role': 'model'}, 'invocation_id': 'e-9f31686d-b4ff-432d-aa66-8310679a6914', 'author': 'async_agent_3', 'branch': 'parallel_agent.async_agent_3', 'id': 'HhVBm4aJ', 'timestamp': 1747209223.301257}\n"
     ]
    },
    {
     "name": "stderr",
     "output_type": "stream",
     "text": [
      "ERROR:opentelemetry.context:Failed to detach context\n",
      "Traceback (most recent call last):\n",
      "  File \"/opt/conda/lib/python3.10/site-packages/opentelemetry/context/__init__.py\", line 155, in detach\n",
      "    _RUNTIME_CONTEXT.detach(token)\n",
      "  File \"/opt/conda/lib/python3.10/site-packages/opentelemetry/context/contextvars_context.py\", line 53, in detach\n",
      "    self._current_context.reset(token)\n",
      "ValueError: <Token var=<ContextVar name='current_context' default={} at 0x7f4adde461b0> at 0x7f4ad0439d00> was created in a different Context\n",
      "ERROR:opentelemetry.context:Failed to detach context\n",
      "Traceback (most recent call last):\n",
      "  File \"/opt/conda/lib/python3.10/site-packages/opentelemetry/context/__init__.py\", line 155, in detach\n",
      "    _RUNTIME_CONTEXT.detach(token)\n",
      "  File \"/opt/conda/lib/python3.10/site-packages/opentelemetry/context/contextvars_context.py\", line 53, in detach\n",
      "    self._current_context.reset(token)\n",
      "ValueError: <Token var=<ContextVar name='current_context' default={} at 0x7f4adde461b0> at 0x7f4ad0dd90c0> was created in a different Context\n",
      "ERROR:opentelemetry.context:Failed to detach context\n",
      "Traceback (most recent call last):\n",
      "  File \"/opt/conda/lib/python3.10/site-packages/opentelemetry/context/__init__.py\", line 155, in detach\n",
      "    _RUNTIME_CONTEXT.detach(token)\n",
      "  File \"/opt/conda/lib/python3.10/site-packages/opentelemetry/context/contextvars_context.py\", line 53, in detach\n",
      "    self._current_context.reset(token)\n",
      "ValueError: <Token var=<ContextVar name='current_context' default={} at 0x7f4adde461b0> at 0x7f4ad044b4c0> was created in a different Context\n",
      "ERROR:opentelemetry.context:Failed to detach context\n",
      "Traceback (most recent call last):\n",
      "  File \"/opt/conda/lib/python3.10/site-packages/opentelemetry/context/__init__.py\", line 155, in detach\n",
      "    _RUNTIME_CONTEXT.detach(token)\n",
      "  File \"/opt/conda/lib/python3.10/site-packages/opentelemetry/context/contextvars_context.py\", line 53, in detach\n",
      "    self._current_context.reset(token)\n",
      "ValueError: <Token var=<ContextVar name='current_context' default={} at 0x7f4adde461b0> at 0x7f4ad0448b40> was created in a different Context\n"
     ]
    },
    {
     "name": "stdout",
     "output_type": "stream",
     "text": [
      "Author: async_agent_1\n",
      "Content Text: I rolled a 100-sided die and got 6.\n",
      "\n",
      "Event: {'content': {'parts': [{'text': 'I rolled a 100-sided die and got 6.\\n'}], 'role': 'model'}, 'invocation_id': 'e-9f31686d-b4ff-432d-aa66-8310679a6914', 'author': 'async_agent_1', 'branch': 'parallel_agent.async_agent_1', 'id': 'PkGOw5R8', 'timestamp': 1747209223.611014}\n",
      "Author: async_agent_2\n",
      "Content Text: I rolled a 10-sided die and got a 2.\n",
      "\n",
      "Event: {'content': {'parts': [{'text': 'I rolled a 10-sided die and got a 2.\\n'}], 'role': 'model'}, 'invocation_id': 'e-9f31686d-b4ff-432d-aa66-8310679a6914', 'author': 'async_agent_2', 'branch': 'parallel_agent.async_agent_2', 'id': 'xbeA2SPD', 'timestamp': 1747209223.594759}\n",
      "----------------------------------\n"
     ]
    }
   ],
   "source": [
    "runner = create_runner(parallel_agent)\n",
    "session = await run_session(content_text('Hello!'), runner=runner)\n",
    "session = await run_session(content_text('Roll a dice of 100 sides and tell me what you got.'), runner=runner)"
   ]
  },
  {
   "cell_type": "code",
   "execution_count": null,
   "metadata": {},
   "outputs": [],
   "source": []
  }
 ],
 "metadata": {
  "colab": {
   "provenance": [],
   "toc_visible": true
  },
  "environment": {
   "kernel": "conda-base-py",
   "name": "workbench-notebooks.m128",
   "type": "gcloud",
   "uri": "us-docker.pkg.dev/deeplearning-platform-release/gcr.io/workbench-notebooks:m128"
  },
  "kernelspec": {
   "display_name": "Python 3 (ipykernel) (Local)",
   "language": "python",
   "name": "conda-base-py"
  },
  "language_info": {
   "codemirror_mode": {
    "name": "ipython",
    "version": 3
   },
   "file_extension": ".py",
   "mimetype": "text/x-python",
   "name": "python",
   "nbconvert_exporter": "python",
   "pygments_lexer": "ipython3",
   "version": "3.10.16"
  }
 },
 "nbformat": 4,
 "nbformat_minor": 4
}
