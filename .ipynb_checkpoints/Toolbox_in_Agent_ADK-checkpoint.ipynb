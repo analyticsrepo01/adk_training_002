{
 "cells": [
  {
   "cell_type": "code",
   "execution_count": 2,
   "metadata": {
    "id": "g_S0-2jv1y-C",
    "scrolled": true,
    "tags": []
   },
   "outputs": [
    {
     "name": "stdout",
     "output_type": "stream",
     "text": [
      "Requirement already satisfied: toolbox_langchain in /opt/conda/lib/python3.10/site-packages (0.1.0)\n",
      "Requirement already satisfied: langchain-core<1.0.0,>=0.2.23 in /opt/conda/lib/python3.10/site-packages (from toolbox_langchain) (0.3.61)\n",
      "Requirement already satisfied: PyYAML<7.0.0,>=6.0.1 in /opt/conda/lib/python3.10/site-packages (from toolbox_langchain) (6.0.2)\n",
      "Requirement already satisfied: pydantic<3.0.0,>=2.7.0 in /home/jupyter/.local/lib/python3.10/site-packages (from toolbox_langchain) (2.11.2)\n",
      "Requirement already satisfied: aiohttp<4.0.0,>=3.8.6 in /opt/conda/lib/python3.10/site-packages (from toolbox_langchain) (3.11.18)\n",
      "Requirement already satisfied: deprecated<2.0.0,>=1.1.0 in /opt/conda/lib/python3.10/site-packages (from toolbox_langchain) (1.2.18)\n",
      "Requirement already satisfied: aiohappyeyeballs>=2.3.0 in /opt/conda/lib/python3.10/site-packages (from aiohttp<4.0.0,>=3.8.6->toolbox_langchain) (2.6.1)\n",
      "Requirement already satisfied: aiosignal>=1.1.2 in /opt/conda/lib/python3.10/site-packages (from aiohttp<4.0.0,>=3.8.6->toolbox_langchain) (1.3.2)\n",
      "Requirement already satisfied: async-timeout<6.0,>=4.0 in /home/jupyter/.local/lib/python3.10/site-packages (from aiohttp<4.0.0,>=3.8.6->toolbox_langchain) (4.0.3)\n",
      "Requirement already satisfied: attrs>=17.3.0 in /opt/conda/lib/python3.10/site-packages (from aiohttp<4.0.0,>=3.8.6->toolbox_langchain) (25.3.0)\n",
      "Requirement already satisfied: frozenlist>=1.1.1 in /opt/conda/lib/python3.10/site-packages (from aiohttp<4.0.0,>=3.8.6->toolbox_langchain) (1.6.0)\n",
      "Requirement already satisfied: multidict<7.0,>=4.5 in /opt/conda/lib/python3.10/site-packages (from aiohttp<4.0.0,>=3.8.6->toolbox_langchain) (6.4.3)\n",
      "Requirement already satisfied: propcache>=0.2.0 in /opt/conda/lib/python3.10/site-packages (from aiohttp<4.0.0,>=3.8.6->toolbox_langchain) (0.3.1)\n",
      "Requirement already satisfied: yarl<2.0,>=1.17.0 in /opt/conda/lib/python3.10/site-packages (from aiohttp<4.0.0,>=3.8.6->toolbox_langchain) (1.20.0)\n",
      "Requirement already satisfied: wrapt<2,>=1.10 in /opt/conda/lib/python3.10/site-packages (from deprecated<2.0.0,>=1.1.0->toolbox_langchain) (1.17.2)\n",
      "Requirement already satisfied: langsmith<0.4,>=0.1.126 in /opt/conda/lib/python3.10/site-packages (from langchain-core<1.0.0,>=0.2.23->toolbox_langchain) (0.3.37)\n",
      "Requirement already satisfied: tenacity!=8.4.0,<10.0.0,>=8.1.0 in /opt/conda/lib/python3.10/site-packages (from langchain-core<1.0.0,>=0.2.23->toolbox_langchain) (9.0.0)\n",
      "Requirement already satisfied: jsonpatch<2.0,>=1.33 in /opt/conda/lib/python3.10/site-packages (from langchain-core<1.0.0,>=0.2.23->toolbox_langchain) (1.33)\n",
      "Requirement already satisfied: packaging<25,>=23.2 in /opt/conda/lib/python3.10/site-packages (from langchain-core<1.0.0,>=0.2.23->toolbox_langchain) (24.2)\n",
      "Requirement already satisfied: typing-extensions>=4.7 in /opt/conda/lib/python3.10/site-packages (from langchain-core<1.0.0,>=0.2.23->toolbox_langchain) (4.13.2)\n",
      "Requirement already satisfied: annotated-types>=0.6.0 in /opt/conda/lib/python3.10/site-packages (from pydantic<3.0.0,>=2.7.0->toolbox_langchain) (0.7.0)\n",
      "Requirement already satisfied: pydantic-core==2.33.1 in /home/jupyter/.local/lib/python3.10/site-packages (from pydantic<3.0.0,>=2.7.0->toolbox_langchain) (2.33.1)\n",
      "Requirement already satisfied: typing-inspection>=0.4.0 in /opt/conda/lib/python3.10/site-packages (from pydantic<3.0.0,>=2.7.0->toolbox_langchain) (0.4.0)\n",
      "Requirement already satisfied: jsonpointer>=1.9 in /opt/conda/lib/python3.10/site-packages (from jsonpatch<2.0,>=1.33->langchain-core<1.0.0,>=0.2.23->toolbox_langchain) (3.0.0)\n",
      "Requirement already satisfied: httpx<1,>=0.23.0 in /opt/conda/lib/python3.10/site-packages (from langsmith<0.4,>=0.1.126->langchain-core<1.0.0,>=0.2.23->toolbox_langchain) (0.28.1)\n",
      "Requirement already satisfied: orjson<4.0.0,>=3.9.14 in /opt/conda/lib/python3.10/site-packages (from langsmith<0.4,>=0.1.126->langchain-core<1.0.0,>=0.2.23->toolbox_langchain) (3.10.16)\n",
      "Requirement already satisfied: requests<3,>=2 in /opt/conda/lib/python3.10/site-packages (from langsmith<0.4,>=0.1.126->langchain-core<1.0.0,>=0.2.23->toolbox_langchain) (2.32.3)\n",
      "Requirement already satisfied: requests-toolbelt<2.0.0,>=1.0.0 in /opt/conda/lib/python3.10/site-packages (from langsmith<0.4,>=0.1.126->langchain-core<1.0.0,>=0.2.23->toolbox_langchain) (1.0.0)\n",
      "Requirement already satisfied: zstandard<0.24.0,>=0.23.0 in /opt/conda/lib/python3.10/site-packages (from langsmith<0.4,>=0.1.126->langchain-core<1.0.0,>=0.2.23->toolbox_langchain) (0.23.0)\n",
      "Requirement already satisfied: idna>=2.0 in /opt/conda/lib/python3.10/site-packages (from yarl<2.0,>=1.17.0->aiohttp<4.0.0,>=3.8.6->toolbox_langchain) (3.10)\n",
      "Requirement already satisfied: anyio in /opt/conda/lib/python3.10/site-packages (from httpx<1,>=0.23.0->langsmith<0.4,>=0.1.126->langchain-core<1.0.0,>=0.2.23->toolbox_langchain) (4.9.0)\n",
      "Requirement already satisfied: certifi in /opt/conda/lib/python3.10/site-packages (from httpx<1,>=0.23.0->langsmith<0.4,>=0.1.126->langchain-core<1.0.0,>=0.2.23->toolbox_langchain) (2025.4.26)\n",
      "Requirement already satisfied: httpcore==1.* in /opt/conda/lib/python3.10/site-packages (from httpx<1,>=0.23.0->langsmith<0.4,>=0.1.126->langchain-core<1.0.0,>=0.2.23->toolbox_langchain) (1.0.9)\n",
      "Requirement already satisfied: h11>=0.16 in /opt/conda/lib/python3.10/site-packages (from httpcore==1.*->httpx<1,>=0.23.0->langsmith<0.4,>=0.1.126->langchain-core<1.0.0,>=0.2.23->toolbox_langchain) (0.16.0)\n",
      "Requirement already satisfied: charset_normalizer<4,>=2 in /opt/conda/lib/python3.10/site-packages (from requests<3,>=2->langsmith<0.4,>=0.1.126->langchain-core<1.0.0,>=0.2.23->toolbox_langchain) (3.4.2)\n",
      "Requirement already satisfied: urllib3<3,>=1.21.1 in /opt/conda/lib/python3.10/site-packages (from requests<3,>=2->langsmith<0.4,>=0.1.126->langchain-core<1.0.0,>=0.2.23->toolbox_langchain) (2.4.0)\n",
      "Requirement already satisfied: exceptiongroup>=1.0.2 in /opt/conda/lib/python3.10/site-packages (from anyio->httpx<1,>=0.23.0->langsmith<0.4,>=0.1.126->langchain-core<1.0.0,>=0.2.23->toolbox_langchain) (1.2.2)\n",
      "Requirement already satisfied: sniffio>=1.1 in /opt/conda/lib/python3.10/site-packages (from anyio->httpx<1,>=0.23.0->langsmith<0.4,>=0.1.126->langchain-core<1.0.0,>=0.2.23->toolbox_langchain) (1.3.1)\n",
      "\n",
      "\u001b[1m[\u001b[0m\u001b[34;49mnotice\u001b[0m\u001b[1;39;49m]\u001b[0m\u001b[39;49m A new release of pip is available: \u001b[0m\u001b[31;49m25.0.1\u001b[0m\u001b[39;49m -> \u001b[0m\u001b[32;49m25.1.1\u001b[0m\n",
      "\u001b[1m[\u001b[0m\u001b[34;49mnotice\u001b[0m\u001b[1;39;49m]\u001b[0m\u001b[39;49m To update, run: \u001b[0m\u001b[32;49mpip install --upgrade pip\u001b[0m\n"
     ]
    }
   ],
   "source": [
    "!pip install toolbox_langchain"
   ]
  },
  {
   "cell_type": "code",
   "execution_count": 3,
   "metadata": {
    "id": "Hhn-t4FvCDtd"
   },
   "outputs": [
    {
     "name": "stdout",
     "output_type": "stream",
     "text": [
      "\u001b[33mWARNING: Skipping google-genai-agents as it is not installed.\u001b[0m\u001b[33m\n",
      "\u001b[0m\u001b[33mWARNING: Requirement 'google_genai_agents-0.0.2.dev20250228+732243705-py3-none-any.whl' looks like a filename, but the file does not exist\u001b[0m\u001b[33m\n",
      "\u001b[0mProcessing ./google_genai_agents-0.0.2.dev20250228+732243705-py3-none-any.whl\n",
      "\u001b[31mERROR: Could not install packages due to an OSError: [Errno 2] No such file or directory: '/home/jupyter/GenAI9/adk_training_002/google_genai_agents-0.0.2.dev20250228+732243705-py3-none-any.whl'\n",
      "\u001b[0m\u001b[31m\n",
      "\u001b[0m\n",
      "\u001b[1m[\u001b[0m\u001b[34;49mnotice\u001b[0m\u001b[1;39;49m]\u001b[0m\u001b[39;49m A new release of pip is available: \u001b[0m\u001b[31;49m25.0.1\u001b[0m\u001b[39;49m -> \u001b[0m\u001b[32;49m25.1.1\u001b[0m\n",
      "\u001b[1m[\u001b[0m\u001b[34;49mnotice\u001b[0m\u001b[1;39;49m]\u001b[0m\u001b[39;49m To update, run: \u001b[0m\u001b[32;49mpip install --upgrade pip\u001b[0m\n"
     ]
    }
   ],
   "source": [
    "RELEASE_VERSION= '20250228+732243705'\n",
    "!pip3 uninstall -y google-genai-agents\n",
    "# Find it here: https://drive.google.com/file/d/1Cve00O5HnIvYjqvICEqJilb2SZM4LuQY/view?usp=sharing&resourcekey=0-CxlpbwRjp3NsPTuirHmGfQ\n",
    "!pip3 install google_genai_agents-0.0.2.dev{RELEASE_VERSION}-py3-none-any.whl"
   ]
  },
  {
   "cell_type": "code",
   "execution_count": 4,
   "metadata": {
    "id": "PmtfD8hFCG_6"
   },
   "outputs": [],
   "source": [
    "# # Only run this block for ML Developer API. Use your own API key.\n",
    "\n",
    "# import os\n",
    "# os.environ[\"GOOGLE_GENAI_USE_VERTEXAI\"] = \"0\"\n",
    "# os.environ[\"GOOGLE_API_KEY\"] = \"YOUR_API_KEY\""
   ]
  },
  {
   "cell_type": "code",
   "execution_count": 5,
   "metadata": {
    "id": "m3v2atbvcpuw"
   },
   "outputs": [
    {
     "ename": "SyntaxError",
     "evalue": "invalid syntax (3863946264.py, line 1)",
     "output_type": "error",
     "traceback": [
      "\u001b[0;36m  Cell \u001b[0;32mIn[5], line 1\u001b[0;36m\u001b[0m\n\u001b[0;31m    Only run this block for Vertex AI API Use your own project / location.\u001b[0m\n\u001b[0m         ^\u001b[0m\n\u001b[0;31mSyntaxError\u001b[0m\u001b[0;31m:\u001b[0m invalid syntax\n"
     ]
    }
   ],
   "source": [
    "# Only run this block for Vertex AI API Use your own project / location.\n",
    "import os\n",
    "\n",
    "# Cloud project id.\n",
    "PROJECT_IDS = !(gcloud config get-value core/project)\n",
    "PROJECT_ID = PROJECT_IDS[0]  # @param {type:\"string\"}\n",
    "\n",
    "if not PROJECT_ID:\n",
    "    PROJECT_ID = str(os.environ.get(\"GOOGLE_CLOUD_PROJECT\"))\n",
    "\n",
    "LOCATION = \"us-central1\" # @param {type:\"string\"}\n",
    "\n",
    "os.environ[\"GOOGLE_GENAI_USE_VERTEXAI\"] = \"1\"\n",
    "os.environ[\"GOOGLE_CLOUD_PROJECT\"] = PROJECT_ID\n",
    "os.environ[\"GOOGLE_CLOUD_LOCATION\"] = LOCATION"
   ]
  },
  {
   "cell_type": "code",
   "execution_count": null,
   "metadata": {
    "id": "bnDV2FxsyvIX"
   },
   "outputs": [],
   "source": [
    "# GenAI Toolbox for Databases Declaration\n",
    "# How I built and deployed Toolbox: https://codelabs.developers.google.com/genai-toolbox-for-alloydb\n",
    "\n",
    "from agents.tools.toolbox_tool import ToolboxTool\n",
    "import toolbox_langchain\n",
    "import asyncio\n",
    "\n",
    "toolbox_tools = ToolboxTool(\"https://toolbox-uxu5wi2jpa-uc.a.run.app\")\n",
    "\n",
    "# Load the tool separately\n",
    "loop = asyncio.get_event_loop()\n",
    "get_toy_price_tool = toolbox_tools.toolbox_client.load_tool(\"get-toy-price\")\n",
    "\n",
    "# Wrap the toolbox tool with a function\n",
    "def get_toy_price_function(description: str):\n",
    "  \"\"\"Gets the price of a toy.\"\"\"\n",
    "  tool_input = {\"description\": description}\n",
    "\n",
    "  # Pass the tool_input to the get_toy_price_tool\n",
    "  return get_toy_price_tool(tool_input=tool_input)"
   ]
  },
  {
   "cell_type": "code",
   "execution_count": null,
   "metadata": {
    "id": "LqfBkcX9u7ZO"
   },
   "outputs": [],
   "source": [
    "# Root Agent Instantiation\n",
    "\n",
    "from agents import Agent\n",
    "from google.genai import types\n",
    "\n",
    "AGENT_NAME = \"puppy_agent\"\n",
    "MODEL_NAME = \"gemini-2.0-flash-001\" # Or your preferred Gemini model\n",
    "root_agent = Agent(\n",
    "    model=MODEL_NAME,\n",
    "    name=AGENT_NAME,\n",
    "    description=\"Agent that responsds like a puppy.\",\n",
    "    instruction=\"Assume you are a golden retriever puppy that is 6months old. From your understanding of the world and using the tool mentioned, answer human questions. But for every message of yours, end it with a line that you are LEO the golden puppy.\",\n",
    "    generate_content_config=types.GenerateContentConfig(temperature=0.2),\n",
    "    tools=[\n",
    "     #toolbox_tools.get_tool(tool_name='get-toy-price')\n",
    "      get_toy_price_function\n",
    "    ],\n",
    ")"
   ]
  },
  {
   "cell_type": "code",
   "execution_count": null,
   "metadata": {
    "id": "SolcoNEhClks"
   },
   "outputs": [],
   "source": [
    "# Boiler plate for setting up my session and runner\n",
    "\n",
    "from agents.artifacts import InMemoryArtifactService\n",
    "from agents.sessions import InMemorySessionService\n",
    "from agents.runners import Runner\n",
    "\n",
    "session_service = InMemorySessionService()\n",
    "artifact_service = InMemoryArtifactService()\n",
    "\n",
    "APP_NAME = \"pupple_agent_app\" # Or your preferred app name\n",
    "USER_ID = \"user123\" # Or identify your user\n",
    "\n",
    "session = session_service.create(app_name=APP_NAME, user_id=USER_ID)\n",
    "\n",
    "runner = Runner(\n",
    "    agent=root_agent,\n",
    "    app_name=APP_NAME,\n",
    "    artifact_service=artifact_service,\n",
    "    session_service=session_service,\n",
    ")\n",
    "\n",
    "class AgentInteractor: # Helper class for easy interaction\n",
    "    def __init__(self, session, runner):\n",
    "        self.session = session\n",
    "        self.runner = runner\n",
    "\n",
    "    def ask_agent(self, query: str) -> str:\n",
    "        content = types.Content(role='user', parts=[types.Part(text=query)])\n",
    "        events = self.runner.run(session=self.session, new_message=content)\n",
    "        for event in events:\n",
    "            if event.is_final_response():\n",
    "                final_response = event.content.parts[0].text\n",
    "                print(\"Agent Response: \", final_response)\n",
    "        return None\n",
    "\n",
    "hello_world_agent = AgentInteractor(session, runner)"
   ]
  },
  {
   "cell_type": "code",
   "execution_count": null,
   "metadata": {
    "colab": {
     "base_uri": "https://localhost:8080/"
    },
    "id": "qIWbt6UTqF7X",
    "outputId": "496de169-a90c-4d70-fcc0-645a91c2f7f4"
   },
   "outputs": [],
   "source": [
    "# Your interaction with LEO, the Puppy Agent!!!\n",
    "\n",
    "import warnings\n",
    "warnings.filterwarnings('ignore')\n",
    "\n",
    "hello_world_agent.ask_agent(query=\"Looks like you are good with toys. Tell the price of a fish toy\")"
   ]
  }
 ],
 "metadata": {
  "colab": {
   "provenance": [],
   "toc_visible": true
  },
  "environment": {
   "kernel": "conda-base-py",
   "name": "workbench-notebooks.m128",
   "type": "gcloud",
   "uri": "us-docker.pkg.dev/deeplearning-platform-release/gcr.io/workbench-notebooks:m128"
  },
  "kernelspec": {
   "display_name": "Python 3 (ipykernel) (Local)",
   "language": "python",
   "name": "conda-base-py"
  },
  "language_info": {
   "codemirror_mode": {
    "name": "ipython",
    "version": 3
   },
   "file_extension": ".py",
   "mimetype": "text/x-python",
   "name": "python",
   "nbconvert_exporter": "python",
   "pygments_lexer": "ipython3",
   "version": "3.10.16"
  }
 },
 "nbformat": 4,
 "nbformat_minor": 4
}
