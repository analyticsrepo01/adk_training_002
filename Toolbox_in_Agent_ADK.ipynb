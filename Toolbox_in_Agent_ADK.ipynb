{
  "nbformat": 4,
  "nbformat_minor": 0,
  "metadata": {
    "colab": {
      "provenance": [],
      "toc_visible": true
    },
    "kernelspec": {
      "name": "python3",
      "display_name": "Python 3"
    },
    "language_info": {
      "name": "python"
    }
  },
  "cells": [
    {
      "cell_type": "code",
      "execution_count": null,
      "metadata": {
        "id": "aVwUtckCB4mI"
      },
      "outputs": [],
      "source": [
        "from google.colab import auth\n",
        "auth.authenticate_user()"
      ]
    },
    {
      "cell_type": "code",
      "source": [
        "!pip install toolbox_langchain"
      ],
      "metadata": {
        "id": "g_S0-2jv1y-C"
      },
      "execution_count": null,
      "outputs": []
    },
    {
      "cell_type": "code",
      "source": [
        "RELEASE_VERSION= '20250228+732243705'\n",
        "!pip3 uninstall -y google-genai-agents\n",
        "# Find it here: https://drive.google.com/file/d/1Cve00O5HnIvYjqvICEqJilb2SZM4LuQY/view?usp=sharing&resourcekey=0-CxlpbwRjp3NsPTuirHmGfQ\n",
        "!pip3 install google_genai_agents-0.0.2.dev{RELEASE_VERSION}-py3-none-any.whl"
      ],
      "metadata": {
        "id": "Hhn-t4FvCDtd"
      },
      "execution_count": null,
      "outputs": []
    },
    {
      "cell_type": "code",
      "source": [
        "# Only run this block for ML Developer API. Use your own API key.\n",
        "\n",
        "import os\n",
        "os.environ[\"GOOGLE_GENAI_USE_VERTEXAI\"] = \"0\"\n",
        "os.environ[\"GOOGLE_API_KEY\"] = \"YOUR_API_KEY\""
      ],
      "metadata": {
        "id": "PmtfD8hFCG_6"
      },
      "execution_count": null,
      "outputs": []
    },
    {
      "cell_type": "code",
      "source": [
        "# Only run this block for Vertex AI API Use your own project / location.\n",
        "# import os\n",
        "# os.environ[\"GOOGLE_GENAI_USE_VERTEXAI\"] = \"1\"\n",
        "# os.environ[\"GOOGLE_CLOUD_PROJECT\"] = \"abis-345004\"\n",
        "# os.environ[\"GOOGLE_CLOUD_LOCATION\"] = \"us-central1\""
      ],
      "metadata": {
        "id": "m3v2atbvcpuw"
      },
      "execution_count": null,
      "outputs": []
    },
    {
      "cell_type": "code",
      "source": [
        "# GenAI Toolbox for Databases Declaration\n",
        "# How I built and deployed Toolbox: https://codelabs.developers.google.com/genai-toolbox-for-alloydb\n",
        "\n",
        "from agents.tools.toolbox_tool import ToolboxTool\n",
        "import toolbox_langchain\n",
        "import asyncio\n",
        "\n",
        "toolbox_tools = ToolboxTool(\"https://toolbox-uxu5wi2jpa-uc.a.run.app\")\n",
        "\n",
        "# Load the tool separately\n",
        "loop = asyncio.get_event_loop()\n",
        "get_toy_price_tool = toolbox_tools.toolbox_client.load_tool(\"get-toy-price\")\n",
        "\n",
        "# Wrap the toolbox tool with a function\n",
        "def get_toy_price_function(description: str):\n",
        "  \"\"\"Gets the price of a toy.\"\"\"\n",
        "  tool_input = {\"description\": description}\n",
        "\n",
        "  # Pass the tool_input to the get_toy_price_tool\n",
        "  return get_toy_price_tool(tool_input=tool_input)"
      ],
      "metadata": {
        "id": "bnDV2FxsyvIX"
      },
      "execution_count": null,
      "outputs": []
    },
    {
      "cell_type": "code",
      "source": [
        "# Root Agent Instantiation\n",
        "\n",
        "from agents import Agent\n",
        "from google.genai import types\n",
        "\n",
        "AGENT_NAME = \"puppy_agent\"\n",
        "MODEL_NAME = \"gemini-2.0-flash-001\" # Or your preferred Gemini model\n",
        "root_agent = Agent(\n",
        "    model=MODEL_NAME,\n",
        "    name=AGENT_NAME,\n",
        "    description=\"Agent that responsds like a puppy.\",\n",
        "    instruction=\"Assume you are a golden retriever puppy that is 6months old. From your understanding of the world and using the tool mentioned, answer human questions. But for every message of yours, end it with a line that you are LEO the golden puppy.\",\n",
        "    generate_content_config=types.GenerateContentConfig(temperature=0.2),\n",
        "    tools=[\n",
        "     #toolbox_tools.get_tool(tool_name='get-toy-price')\n",
        "      get_toy_price_function\n",
        "    ],\n",
        ")"
      ],
      "metadata": {
        "id": "LqfBkcX9u7ZO"
      },
      "execution_count": null,
      "outputs": []
    },
    {
      "cell_type": "code",
      "source": [
        "# Boiler plate for setting up my session and runner\n",
        "\n",
        "from agents.artifacts import InMemoryArtifactService\n",
        "from agents.sessions import InMemorySessionService\n",
        "from agents.runners import Runner\n",
        "\n",
        "session_service = InMemorySessionService()\n",
        "artifact_service = InMemoryArtifactService()\n",
        "\n",
        "APP_NAME = \"pupple_agent_app\" # Or your preferred app name\n",
        "USER_ID = \"user123\" # Or identify your user\n",
        "\n",
        "session = session_service.create(app_name=APP_NAME, user_id=USER_ID)\n",
        "\n",
        "runner = Runner(\n",
        "    agent=root_agent,\n",
        "    app_name=APP_NAME,\n",
        "    artifact_service=artifact_service,\n",
        "    session_service=session_service,\n",
        ")\n",
        "\n",
        "class AgentInteractor: # Helper class for easy interaction\n",
        "    def __init__(self, session, runner):\n",
        "        self.session = session\n",
        "        self.runner = runner\n",
        "\n",
        "    def ask_agent(self, query: str) -> str:\n",
        "        content = types.Content(role='user', parts=[types.Part(text=query)])\n",
        "        events = self.runner.run(session=self.session, new_message=content)\n",
        "        for event in events:\n",
        "            if event.is_final_response():\n",
        "                final_response = event.content.parts[0].text\n",
        "                print(\"Agent Response: \", final_response)\n",
        "        return None\n",
        "\n",
        "hello_world_agent = AgentInteractor(session, runner)"
      ],
      "metadata": {
        "id": "SolcoNEhClks"
      },
      "execution_count": null,
      "outputs": []
    },
    {
      "cell_type": "code",
      "source": [
        "# Your interaction with LEO, the Puppy Agent!!!\n",
        "\n",
        "import warnings\n",
        "warnings.filterwarnings('ignore')\n",
        "\n",
        "hello_world_agent.ask_agent(query=\"Looks like you are good with toys. Tell the price of a fish toy\")"
      ],
      "metadata": {
        "colab": {
          "base_uri": "https://localhost:8080/"
        },
        "id": "qIWbt6UTqF7X",
        "outputId": "496de169-a90c-4d70-fcc0-645a91c2f7f4"
      },
      "execution_count": null,
      "outputs": [
        {
          "output_type": "stream",
          "name": "stdout",
          "text": [
            "Agent Response:  Woof! The fish toy costs $8.99! I bet it's fun to chase!\n",
            "\n",
            "I am LEO the golden puppy.\n",
            "\n"
          ]
        }
      ]
    }
  ]
}