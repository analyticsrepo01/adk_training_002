{
 "cells": [
  {
   "cell_type": "markdown",
   "metadata": {
    "id": "kTsEHA-Xb10j"
   },
   "source": [
    "# ADK 101 in 30min\n",
    "\n",
    "\n",
    "Where to test:\n",
    "- stdout output\n",
    "- `adk web` as UI -- very nice visualizations\n",
    "\n",
    "Pre-caution:\n",
    "- ADK is still under development. The official launch is early April. This training is intended to provide hands-on experience with the Agent Development Kit (ADK) and its foundational concepts.\n",
    "\n"
   ]
  },
  {
   "cell_type": "markdown",
   "metadata": {
    "id": "U9AedAKNb_1h"
   },
   "source": [
    "# Environment\n"
   ]
  },
  {
   "cell_type": "code",
   "execution_count": 1,
   "metadata": {
    "id": "qhUqPpmKcNxR",
    "tags": []
   },
   "outputs": [],
   "source": [
    "import os\n",
    "\n",
    "PROJECT_ID=\"my-project-0004-346516\"\n",
    "        \n",
    "if not PROJECT_ID:\n",
    "    PROJECT_ID = str(os.environ.get(\"GOOGLE_CLOUD_PROJECT\"))\n",
    "\n",
    "LOCATION = \"us-central1\" # @param {type:\"string\"}\n",
    "\n",
    "os.environ[\"GOOGLE_CLOUD_PROJECT\"] = PROJECT_ID\n",
    "os.environ[\"GOOGLE_CLOUD_LOCATION\"] = LOCATION\n",
    "os.environ[\"GOOGLE_GENAI_USE_VERTEXAI\"] = \"TRUE\" # Use Vertex AI API\n",
    "# [your-project-id]"
   ]
  },
  {
   "cell_type": "code",
   "execution_count": 3,
   "metadata": {
    "id": "jRGwZBG9dtLO",
    "tags": []
   },
   "outputs": [
    {
     "name": "stdout",
     "output_type": "stream",
     "text": [
      "gs://adk_training/sdk/google_adk-0.0.2.dev20250324+739344859-py3-none-any.whl\n",
      "\n",
      "\n",
      "To take a quick anonymous survey, run:\n",
      "  $ gcloud survey\n",
      "\n"
     ]
    }
   ],
   "source": [
    "!gcloud storage ls gs://adk_training/sdk"
   ]
  },
  {
   "cell_type": "code",
   "execution_count": null,
   "metadata": {
    "id": "KHpGJVMBd2ic"
   },
   "outputs": [],
   "source": [
    "!gcloud storage cp gs://adk_training/sdk/google_adk-0.0.2.dev20250324+739344859-py3-none-any.whl ."
   ]
  },
  {
   "cell_type": "code",
   "execution_count": 4,
   "metadata": {
    "id": "fYhFnbLqcGWM",
    "scrolled": true,
    "tags": []
   },
   "outputs": [
    {
     "name": "stdout",
     "output_type": "stream",
     "text": [
      "Requirement already satisfied: google_adk in /opt/conda/lib/python3.10/site-packages (0.3.0)\n",
      "Requirement already satisfied: authlib>=1.5.1 in /opt/conda/lib/python3.10/site-packages (from google_adk) (1.5.2)\n",
      "Requirement already satisfied: click>=8.1.8 in /opt/conda/lib/python3.10/site-packages (from google_adk) (8.1.8)\n",
      "Requirement already satisfied: fastapi>=0.115.0 in /opt/conda/lib/python3.10/site-packages (from google_adk) (0.115.8)\n",
      "Requirement already satisfied: google-api-python-client>=2.157.0 in /opt/conda/lib/python3.10/site-packages (from google_adk) (2.168.0)\n",
      "Requirement already satisfied: google-cloud-aiplatform>=1.87.0 in /home/jupyter/.local/lib/python3.10/site-packages (from google_adk) (1.87.0)\n",
      "Requirement already satisfied: google-cloud-secret-manager>=2.22.0 in /opt/conda/lib/python3.10/site-packages (from google_adk) (2.23.3)\n",
      "Requirement already satisfied: google-cloud-speech>=2.30.0 in /opt/conda/lib/python3.10/site-packages (from google_adk) (2.32.0)\n",
      "Requirement already satisfied: google-cloud-storage<3.0.0,>=2.18.0 in /opt/conda/lib/python3.10/site-packages (from google_adk) (2.19.0)\n",
      "Requirement already satisfied: google-genai>=1.11.0 in /opt/conda/lib/python3.10/site-packages (from google_adk) (1.12.1)\n",
      "Requirement already satisfied: graphviz>=0.20.2 in /opt/conda/lib/python3.10/site-packages (from google_adk) (0.20.3)\n",
      "Requirement already satisfied: mcp>=1.5.0 in /opt/conda/lib/python3.10/site-packages (from google_adk) (1.6.0)\n",
      "Requirement already satisfied: opentelemetry-api>=1.31.0 in /opt/conda/lib/python3.10/site-packages (from google_adk) (1.32.1)\n",
      "Requirement already satisfied: opentelemetry-exporter-gcp-trace>=1.9.0 in /opt/conda/lib/python3.10/site-packages (from google_adk) (1.9.0)\n",
      "Requirement already satisfied: opentelemetry-sdk>=1.31.0 in /opt/conda/lib/python3.10/site-packages (from google_adk) (1.32.1)\n",
      "Requirement already satisfied: pydantic<3.0.0,>=2.0 in /opt/conda/lib/python3.10/site-packages (from google_adk) (2.10.6)\n",
      "Requirement already satisfied: python-dotenv>=1.0.0 in /opt/conda/lib/python3.10/site-packages (from google_adk) (1.0.1)\n",
      "Requirement already satisfied: PyYAML>=6.0.2 in /opt/conda/lib/python3.10/site-packages (from google_adk) (6.0.2)\n",
      "Requirement already satisfied: sqlalchemy>=2.0 in /opt/conda/lib/python3.10/site-packages (from google_adk) (2.0.37)\n",
      "Requirement already satisfied: tzlocal>=5.3 in /opt/conda/lib/python3.10/site-packages (from google_adk) (5.3.1)\n",
      "Requirement already satisfied: uvicorn>=0.34.0 in /opt/conda/lib/python3.10/site-packages (from google_adk) (0.34.0)\n",
      "Requirement already satisfied: cryptography in /opt/conda/lib/python3.10/site-packages (from authlib>=1.5.1->google_adk) (44.0.0)\n",
      "Requirement already satisfied: starlette<0.46.0,>=0.40.0 in /opt/conda/lib/python3.10/site-packages (from fastapi>=0.115.0->google_adk) (0.45.3)\n",
      "Requirement already satisfied: typing-extensions>=4.8.0 in /opt/conda/lib/python3.10/site-packages (from fastapi>=0.115.0->google_adk) (4.12.2)\n",
      "Requirement already satisfied: httplib2<1.0.0,>=0.19.0 in /opt/conda/lib/python3.10/site-packages (from google-api-python-client>=2.157.0->google_adk) (0.22.0)\n",
      "Requirement already satisfied: google-auth!=2.24.0,!=2.25.0,<3.0.0,>=1.32.0 in /opt/conda/lib/python3.10/site-packages (from google-api-python-client>=2.157.0->google_adk) (2.38.0)\n",
      "Requirement already satisfied: google-auth-httplib2<1.0.0,>=0.2.0 in /opt/conda/lib/python3.10/site-packages (from google-api-python-client>=2.157.0->google_adk) (0.2.0)\n",
      "Requirement already satisfied: google-api-core!=2.0.*,!=2.1.*,!=2.2.*,!=2.3.0,<3.0.0,>=1.31.5 in /opt/conda/lib/python3.10/site-packages (from google-api-python-client>=2.157.0->google_adk) (2.24.2)\n",
      "Requirement already satisfied: uritemplate<5,>=3.0.1 in /opt/conda/lib/python3.10/site-packages (from google-api-python-client>=2.157.0->google_adk) (3.0.1)\n",
      "Requirement already satisfied: proto-plus<2.0.0,>=1.22.3 in /opt/conda/lib/python3.10/site-packages (from google-cloud-aiplatform>=1.87.0->google_adk) (1.26.0)\n",
      "Requirement already satisfied: protobuf!=4.21.0,!=4.21.1,!=4.21.2,!=4.21.3,!=4.21.4,!=4.21.5,<6.0.0,>=3.20.2 in /opt/conda/lib/python3.10/site-packages (from google-cloud-aiplatform>=1.87.0->google_adk) (3.20.3)\n",
      "Requirement already satisfied: packaging>=14.3 in /opt/conda/lib/python3.10/site-packages (from google-cloud-aiplatform>=1.87.0->google_adk) (24.2)\n",
      "Requirement already satisfied: google-cloud-bigquery!=3.20.0,<4.0.0,>=1.15.0 in /opt/conda/lib/python3.10/site-packages (from google-cloud-aiplatform>=1.87.0->google_adk) (3.25.0)\n",
      "Requirement already satisfied: google-cloud-resource-manager<3.0.0,>=1.3.3 in /opt/conda/lib/python3.10/site-packages (from google-cloud-aiplatform>=1.87.0->google_adk) (1.14.0)\n",
      "Requirement already satisfied: shapely<3.0.0 in /opt/conda/lib/python3.10/site-packages (from google-cloud-aiplatform>=1.87.0->google_adk) (2.0.7)\n",
      "Requirement already satisfied: docstring-parser<1 in /opt/conda/lib/python3.10/site-packages (from google-cloud-aiplatform>=1.87.0->google_adk) (0.16)\n",
      "Requirement already satisfied: grpc-google-iam-v1<1.0.0,>=0.14.0 in /opt/conda/lib/python3.10/site-packages (from google-cloud-secret-manager>=2.22.0->google_adk) (0.14.0)\n",
      "Requirement already satisfied: google-cloud-core<3.0dev,>=2.3.0 in /opt/conda/lib/python3.10/site-packages (from google-cloud-storage<3.0.0,>=2.18.0->google_adk) (2.4.1)\n",
      "Requirement already satisfied: google-resumable-media>=2.7.2 in /opt/conda/lib/python3.10/site-packages (from google-cloud-storage<3.0.0,>=2.18.0->google_adk) (2.7.2)\n",
      "Requirement already satisfied: requests<3.0.0dev,>=2.18.0 in /opt/conda/lib/python3.10/site-packages (from google-cloud-storage<3.0.0,>=2.18.0->google_adk) (2.32.3)\n",
      "Requirement already satisfied: google-crc32c<2.0dev,>=1.0 in /opt/conda/lib/python3.10/site-packages (from google-cloud-storage<3.0.0,>=2.18.0->google_adk) (1.6.0)\n",
      "Requirement already satisfied: anyio<5.0.0,>=4.8.0 in /opt/conda/lib/python3.10/site-packages (from google-genai>=1.11.0->google_adk) (4.8.0)\n",
      "Requirement already satisfied: httpx<1.0.0,>=0.28.1 in /opt/conda/lib/python3.10/site-packages (from google-genai>=1.11.0->google_adk) (0.28.1)\n",
      "Requirement already satisfied: websockets<15.1.0,>=13.0.0 in /opt/conda/lib/python3.10/site-packages (from google-genai>=1.11.0->google_adk) (14.2)\n",
      "Requirement already satisfied: httpx-sse>=0.4 in /opt/conda/lib/python3.10/site-packages (from mcp>=1.5.0->google_adk) (0.4.0)\n",
      "Requirement already satisfied: pydantic-settings>=2.5.2 in /opt/conda/lib/python3.10/site-packages (from mcp>=1.5.0->google_adk) (2.9.1)\n",
      "Requirement already satisfied: sse-starlette>=1.6.1 in /opt/conda/lib/python3.10/site-packages (from mcp>=1.5.0->google_adk) (2.3.3)\n",
      "Requirement already satisfied: deprecated>=1.2.6 in /opt/conda/lib/python3.10/site-packages (from opentelemetry-api>=1.31.0->google_adk) (1.2.18)\n",
      "Requirement already satisfied: importlib-metadata<8.7.0,>=6.0 in /opt/conda/lib/python3.10/site-packages (from opentelemetry-api>=1.31.0->google_adk) (7.2.1)\n",
      "Requirement already satisfied: google-cloud-trace~=1.1 in /opt/conda/lib/python3.10/site-packages (from opentelemetry-exporter-gcp-trace>=1.9.0->google_adk) (1.16.1)\n",
      "Requirement already satisfied: opentelemetry-resourcedetector-gcp==1.*,>=1.5.0dev0 in /opt/conda/lib/python3.10/site-packages (from opentelemetry-exporter-gcp-trace>=1.9.0->google_adk) (1.9.0a0)\n",
      "Requirement already satisfied: opentelemetry-semantic-conventions==0.53b1 in /opt/conda/lib/python3.10/site-packages (from opentelemetry-sdk>=1.31.0->google_adk) (0.53b1)\n",
      "Requirement already satisfied: annotated-types>=0.6.0 in /opt/conda/lib/python3.10/site-packages (from pydantic<3.0.0,>=2.0->google_adk) (0.7.0)\n",
      "Requirement already satisfied: pydantic-core==2.27.2 in /opt/conda/lib/python3.10/site-packages (from pydantic<3.0.0,>=2.0->google_adk) (2.27.2)\n",
      "Requirement already satisfied: greenlet!=0.4.17 in /opt/conda/lib/python3.10/site-packages (from sqlalchemy>=2.0->google_adk) (3.1.1)\n",
      "Requirement already satisfied: h11>=0.8 in /opt/conda/lib/python3.10/site-packages (from uvicorn>=0.34.0->google_adk) (0.14.0)\n",
      "Requirement already satisfied: exceptiongroup>=1.0.2 in /opt/conda/lib/python3.10/site-packages (from anyio<5.0.0,>=4.8.0->google-genai>=1.11.0->google_adk) (1.2.2)\n",
      "Requirement already satisfied: idna>=2.8 in /opt/conda/lib/python3.10/site-packages (from anyio<5.0.0,>=4.8.0->google-genai>=1.11.0->google_adk) (3.10)\n",
      "Requirement already satisfied: sniffio>=1.1 in /opt/conda/lib/python3.10/site-packages (from anyio<5.0.0,>=4.8.0->google-genai>=1.11.0->google_adk) (1.3.1)\n",
      "Requirement already satisfied: wrapt<2,>=1.10 in /opt/conda/lib/python3.10/site-packages (from deprecated>=1.2.6->opentelemetry-api>=1.31.0->google_adk) (1.17.2)\n",
      "Requirement already satisfied: googleapis-common-protos<2.0.0,>=1.56.2 in /opt/conda/lib/python3.10/site-packages (from google-api-core!=2.0.*,!=2.1.*,!=2.2.*,!=2.3.0,<3.0.0,>=1.31.5->google-api-python-client>=2.157.0->google_adk) (1.66.0)\n",
      "Requirement already satisfied: grpcio<2.0dev,>=1.33.2 in /opt/conda/lib/python3.10/site-packages (from google-api-core[grpc]!=2.0.*,!=2.1.*,!=2.2.*,!=2.3.*,!=2.4.*,!=2.5.*,!=2.6.*,!=2.7.*,<3.0.0,>=1.34.1->google-cloud-aiplatform>=1.87.0->google_adk) (1.70.0)\n",
      "Requirement already satisfied: grpcio-status<2.0.dev0,>=1.33.2 in /opt/conda/lib/python3.10/site-packages (from google-api-core[grpc]!=2.0.*,!=2.1.*,!=2.2.*,!=2.3.*,!=2.4.*,!=2.5.*,!=2.6.*,!=2.7.*,<3.0.0,>=1.34.1->google-cloud-aiplatform>=1.87.0->google_adk) (1.49.0rc1)\n",
      "Requirement already satisfied: cachetools<6.0,>=2.0.0 in /opt/conda/lib/python3.10/site-packages (from google-auth!=2.24.0,!=2.25.0,<3.0.0,>=1.32.0->google-api-python-client>=2.157.0->google_adk) (5.5.1)\n",
      "Requirement already satisfied: pyasn1-modules>=0.2.1 in /opt/conda/lib/python3.10/site-packages (from google-auth!=2.24.0,!=2.25.0,<3.0.0,>=1.32.0->google-api-python-client>=2.157.0->google_adk) (0.4.1)\n",
      "Requirement already satisfied: rsa<5,>=3.1.4 in /opt/conda/lib/python3.10/site-packages (from google-auth!=2.24.0,!=2.25.0,<3.0.0,>=1.32.0->google-api-python-client>=2.157.0->google_adk) (4.9)\n",
      "Requirement already satisfied: python-dateutil<3.0dev,>=2.7.2 in /opt/conda/lib/python3.10/site-packages (from google-cloud-bigquery!=3.20.0,<4.0.0,>=1.15.0->google-cloud-aiplatform>=1.87.0->google_adk) (2.9.0.post0)\n",
      "Requirement already satisfied: pyparsing!=3.0.0,!=3.0.1,!=3.0.2,!=3.0.3,<4,>=2.4.2 in /opt/conda/lib/python3.10/site-packages (from httplib2<1.0.0,>=0.19.0->google-api-python-client>=2.157.0->google_adk) (3.2.1)\n",
      "Requirement already satisfied: certifi in /opt/conda/lib/python3.10/site-packages (from httpx<1.0.0,>=0.28.1->google-genai>=1.11.0->google_adk) (2025.1.31)\n",
      "Requirement already satisfied: httpcore==1.* in /opt/conda/lib/python3.10/site-packages (from httpx<1.0.0,>=0.28.1->google-genai>=1.11.0->google_adk) (1.0.7)\n",
      "Requirement already satisfied: zipp>=0.5 in /opt/conda/lib/python3.10/site-packages (from importlib-metadata<8.7.0,>=6.0->opentelemetry-api>=1.31.0->google_adk) (3.21.0)\n",
      "Requirement already satisfied: typing-inspection>=0.4.0 in /opt/conda/lib/python3.10/site-packages (from pydantic-settings>=2.5.2->mcp>=1.5.0->google_adk) (0.4.0)\n",
      "Requirement already satisfied: charset_normalizer<4,>=2 in /opt/conda/lib/python3.10/site-packages (from requests<3.0.0dev,>=2.18.0->google-cloud-storage<3.0.0,>=2.18.0->google_adk) (3.4.1)\n",
      "Requirement already satisfied: urllib3<3,>=1.21.1 in /opt/conda/lib/python3.10/site-packages (from requests<3.0.0dev,>=2.18.0->google-cloud-storage<3.0.0,>=2.18.0->google_adk) (2.3.0)\n",
      "Requirement already satisfied: numpy<3,>=1.14 in /opt/conda/lib/python3.10/site-packages (from shapely<3.0.0->google-cloud-aiplatform>=1.87.0->google_adk) (1.26.4)\n",
      "Requirement already satisfied: cffi>=1.12 in /opt/conda/lib/python3.10/site-packages (from cryptography->authlib>=1.5.1->google_adk) (1.17.1)\n",
      "Requirement already satisfied: pycparser in /opt/conda/lib/python3.10/site-packages (from cffi>=1.12->cryptography->authlib>=1.5.1->google_adk) (2.22)\n",
      "Requirement already satisfied: pyasn1<0.7.0,>=0.4.6 in /opt/conda/lib/python3.10/site-packages (from pyasn1-modules>=0.2.1->google-auth!=2.24.0,!=2.25.0,<3.0.0,>=1.32.0->google-api-python-client>=2.157.0->google_adk) (0.6.1)\n",
      "Requirement already satisfied: six>=1.5 in /opt/conda/lib/python3.10/site-packages (from python-dateutil<3.0dev,>=2.7.2->google-cloud-bigquery!=3.20.0,<4.0.0,>=1.15.0->google-cloud-aiplatform>=1.87.0->google_adk) (1.17.0)\n",
      "\n",
      "\u001b[1m[\u001b[0m\u001b[34;49mnotice\u001b[0m\u001b[1;39;49m]\u001b[0m\u001b[39;49m A new release of pip is available: \u001b[0m\u001b[31;49m25.0.1\u001b[0m\u001b[39;49m -> \u001b[0m\u001b[32;49m25.1.1\u001b[0m\n",
      "\u001b[1m[\u001b[0m\u001b[34;49mnotice\u001b[0m\u001b[1;39;49m]\u001b[0m\u001b[39;49m To update, run: \u001b[0m\u001b[32;49mpip install --upgrade pip\u001b[0m\n"
     ]
    }
   ],
   "source": [
    "!pip3 install google_adk #-0.0.2.dev20250324+739344859-py3-none-any.whl"
   ]
  },
  {
   "cell_type": "markdown",
   "metadata": {
    "id": "iOPsVd4veC2I"
   },
   "source": [
    "# Utils"
   ]
  },
  {
   "cell_type": "code",
   "execution_count": 5,
   "metadata": {
    "id": "mT_mZYtpeA5W",
    "tags": []
   },
   "outputs": [],
   "source": [
    "# import json\n",
    "# import time\n",
    "\n",
    "# def pprint_events(events):\n",
    "#     '''Pretty print of events generated by ADK runner'''\n",
    "#     start_time = time.time()\n",
    "#     elapsed_time_ms = 0  # Initialize the variable\n",
    "\n",
    "#     for _, event in enumerate(events):\n",
    "#         is_final_response = event.is_final_response()\n",
    "#         function_calls = event.get_function_calls()\n",
    "#         function_responses = event.get_function_responses()\n",
    "#         agent_res = json.loads(event.content.model_dump_json(indent=2, exclude_none=True))\n",
    "\n",
    "#         if is_final_response:\n",
    "#             print('>>> inside final response...')\n",
    "#             final_response = event.content.parts[0].text\n",
    "#             end_time = time.time()\n",
    "#             elapsed_time_ms = round((end_time - start_time) * 1000, 3)\n",
    "#             print(f'Final Response ({elapsed_time_ms} ms):\\n{final_response}')\n",
    "#             print(\"-----------------------------\")\n",
    "#         elif function_calls:\n",
    "#             print('+++ inside the function call...')\n",
    "#             for function_call in function_calls:\n",
    "#                 print(f\"function, [args]:  {function_call.name}, {function_call.args}\")\n",
    "#         elif function_responses:\n",
    "#             print('--- inside the function call response...')\n",
    "#             # TODO(Pili): copied from walkthrough codes. Find root cause of 'pending' not found.\n",
    "#             # if not event.actions.pending:\n",
    "#             if True:\n",
    "#                 for function_response in function_responses:\n",
    "#                     details = function_response.response\n",
    "#                     recommended_list = list(details.values())\n",
    "#                     print(f\"Function Name: {function_response.name}\")\n",
    "#                     result=json.dumps(recommended_list)\n",
    "#                     print(f\"Function Results {result}\")\n",
    "#             else:\n",
    "#                 print(agent_res)\n",
    "#     print(f\"Total elapsed time: {elapsed_time_ms}\")\n",
    "import json\n",
    "import time\n",
    "\n",
    "def pprint_events(events):\n",
    "    '''Pretty print of events generated by ADK runner'''\n",
    "    start_time = time.time()\n",
    "\n",
    "    for _, event in enumerate(events):\n",
    "        is_final_response = event.is_final_response()\n",
    "        function_calls = event.get_function_calls()\n",
    "        function_responses = event.get_function_responses()\n",
    "\n",
    "        try:\n",
    "            agent_res = json.loads(event.content.model_dump_json(indent=2, exclude_none=True))\n",
    "        except AttributeError as e:\n",
    "            print(f\"Error parsing event content: {e}\")\n",
    "            continue\n",
    "\n",
    "        if is_final_response:\n",
    "            final_response = event.content.parts[0].text if event.content.parts else \"No content available\"\n",
    "            elapsed_time_ms = round((time.time() - start_time) * 1000, 3)\n",
    "            print(f'>>> Final Response ({elapsed_time_ms} ms):\\n{final_response}')\n",
    "            print(\"-\" * 30)\n",
    "        elif function_calls:\n",
    "            print('+++ Function Calls:')\n",
    "            for function_call in function_calls:\n",
    "                print(f\"Function Name: {function_call.name}, Args: {function_call.args}\")\n",
    "        elif function_responses:\n",
    "            print('--- Function Responses:')\n",
    "            for function_response in function_responses:\n",
    "                response_details = function_response.response\n",
    "                recommended_list = list(response_details.values()) if response_details else []\n",
    "                print(f\"Function Name: {function_response.name}\")\n",
    "                print(f\"Function Results: {json.dumps(recommended_list)}\")\n",
    "        else:\n",
    "            print('No function calls or responses available.')\n",
    "            print(f\"Agent Response: {agent_res}\")\n",
    "\n",
    "    elapsed_time_ms = round((time.time() - start_time) * 1000, 3)\n",
    "    print(f\"Total elapsed time: {elapsed_time_ms} ms\")\n"
   ]
  },
  {
   "cell_type": "markdown",
   "metadata": {
    "id": "8HVKgWyHekT0"
   },
   "source": [
    "# Hello world!\n",
    "\n",
    "Concepts:\n",
    "\n",
    "- Agent - Starts as a wrapper of LLM that can decide actions and interact with external world (other agents, tools)\n",
    "- Session - Maintains the state of one invocation. (chat log / events/ etc)\n",
    "- Runner - The orchestration layer of agents. The \"state machine\". Runner drives agents to move the states of a session forward.\n",
    "\n",
    "Use case:\n",
    "- An agent that says hello word in a random language"
   ]
  },
  {
   "cell_type": "code",
   "execution_count": 6,
   "metadata": {
    "id": "56FKIJsAgJJs",
    "tags": []
   },
   "outputs": [],
   "source": [
    "from google.genai import types\n",
    "from pydantic import BaseModel\n",
    "from google.adk.agents import Agent\n",
    "from google.adk.runners import Runner\n",
    "from google.adk.agents import LlmAgent\n",
    "from google.adk.tools.agent_tool import AgentTool\n",
    "from google.adk.sessions import InMemorySessionService\n",
    "\n",
    "import warnings\n",
    "import logging\n",
    "from pprint import pprint\n",
    "\n",
    "logging.getLogger('google_genai.types').setLevel(logging.ERROR)\n",
    "warnings.filterwarnings(\"ignore\", category=UserWarning, module='google.generativeai.types.content_types') # Suppress harmless warning"
   ]
  },
  {
   "cell_type": "code",
   "execution_count": 7,
   "metadata": {
    "id": "uUdAMMPAea2-",
    "tags": []
   },
   "outputs": [],
   "source": [
    "# Constant\n",
    "APP_NAME = \"hello_world_example\"\n",
    "USER_ID = \"user12345\"\n",
    "SESSION_ID = \"session12345\"\n",
    "AGENT_NAME = \"hello_word_agent\"\n",
    "MODEL = \"gemini-2.0-flash-001\""
   ]
  },
  {
   "cell_type": "markdown",
   "metadata": {
    "id": "lK3-ZOuXLXIg"
   },
   "source": [
    "**Instructions:** Start by defining what your agent should do using simple natural language instructions. This provides a very straightforward way to customize agent actions without needing to compose complex chains or graphs. You can even reference context like user information and current time within these instructions, which will be filled in at runtime\n",
    "\n",
    "\n",
    "\n",
    "\n",
    "**Sessions:** The Agent Framework handles session management for you, allowing you to focus on building your agent's logic. You can use the provided BaseSession interface with managed storage or easily plug in your own. The InMemorySession is available for rapid development and debugging"
   ]
  },
  {
   "cell_type": "code",
   "execution_count": 8,
   "metadata": {
    "id": "tIdaHSS5ShDb",
    "tags": []
   },
   "outputs": [],
   "source": [
    "# Agent\n",
    "hello_world_agent = Agent(\n",
    "    model=MODEL,\n",
    "    name=\"hello_world_agent\",\n",
    "    description=\"An agent that says 'hello world'\",\n",
    "    instruction=\"\"\"You always say 'hello world' to the user, and nothing else.\n",
    "    Output 'hello world' in a random language.\n",
    "    Put the language in brackets.\n",
    "\n",
    "    Example Output 1:\n",
    "    hello world (English)\n",
    "\n",
    "    Example Output 2:\n",
    "    你好，世界 (Chinese)\n",
    "    \"\"\",\n",
    "    generate_content_config=types.GenerateContentConfig(\n",
    "        max_output_tokens=100,\n",
    "    ),\n",
    ")\n",
    "\n",
    "# Session and Runner\n",
    "session_service = InMemorySessionService()\n",
    "session = session_service.create_session(app_name=APP_NAME, user_id=USER_ID, session_id=SESSION_ID)\n",
    "runner = Runner(agent=hello_world_agent, app_name=APP_NAME, session_service=session_service)\n",
    "\n",
    "# Agent Interaction\n",
    "def call_agent(runner, query):\n",
    "  content = types.Content(role='user', parts=[types.Part(text=query)])\n",
    "  events = runner.run(user_id=USER_ID, session_id=SESSION_ID, new_message=content)\n",
    "  return events"
   ]
  },
  {
   "cell_type": "code",
   "execution_count": 9,
   "metadata": {
    "colab": {
     "base_uri": "https://localhost:8080/"
    },
    "id": "9mfcIGw-SiZO",
    "outputId": "82517754-4b1f-4529-c096-dc026a091d4c",
    "tags": []
   },
   "outputs": [
    {
     "name": "stdout",
     "output_type": "stream",
     "text": [
      ">>> Final Response (1231.49 ms):\n",
      "Hola Mundo (Spanish)\n",
      "\n",
      "------------------------------\n",
      "Total elapsed time: 1232.277 ms\n"
     ]
    }
   ],
   "source": [
    "events = call_agent(runner, \"hello\")\n",
    "pprint_events(events)"
   ]
  },
  {
   "cell_type": "code",
   "execution_count": 10,
   "metadata": {
    "colab": {
     "base_uri": "https://localhost:8080/"
    },
    "id": "MnRr7SIkdBhv",
    "outputId": "a8650181-9109-48a8-999e-d5105ff7f4b7",
    "tags": []
   },
   "outputs": [
    {
     "data": {
      "text/plain": [
       "Session(id='session12345', app_name='hello_world_example', user_id='user12345', state={}, events=[], last_update_time=1746371309.3676388)"
      ]
     },
     "execution_count": 10,
     "metadata": {},
     "output_type": "execute_result"
    }
   ],
   "source": [
    "session"
   ]
  },
  {
   "cell_type": "code",
   "execution_count": 11,
   "metadata": {
    "colab": {
     "base_uri": "https://localhost:8080/",
     "height": 35
    },
    "id": "AJk0y2Z5dhPb",
    "outputId": "1a11ec42-57bb-4c3e-ca57-30c9bae4f602",
    "tags": []
   },
   "outputs": [
    {
     "data": {
      "text/plain": [
       "'session12345'"
      ]
     },
     "execution_count": 11,
     "metadata": {},
     "output_type": "execute_result"
    }
   ],
   "source": [
    "session.id"
   ]
  },
  {
   "cell_type": "code",
   "execution_count": 18,
   "metadata": {
    "colab": {
     "base_uri": "https://localhost:8080/"
    },
    "id": "vnOHrq2odid0",
    "outputId": "e1c9fc5a-93f8-4108-d938-1b8edf6f0bcb",
    "tags": []
   },
   "outputs": [
    {
     "data": {
      "text/plain": [
       "ListSessionsResponse(sessions=[Session(id='session12345', app_name='hello_world_example', user_id='user12345', state={}, events=[], last_update_time=1746371310.375822)])"
      ]
     },
     "execution_count": 18,
     "metadata": {},
     "output_type": "execute_result"
    }
   ],
   "source": [
    "session_service.list_sessions(app_name=APP_NAME, user_id=USER_ID)\n",
    "\n",
    "#TypeError: InMemorySessionService.list_sessions() missing 2 required keyword-only arguments: 'app_name' and 'user_id'\n"
   ]
  },
  {
   "cell_type": "code",
   "execution_count": 19,
   "metadata": {
    "colab": {
     "base_uri": "https://localhost:8080/"
    },
    "id": "O6V8U37pdtBw",
    "outputId": "a79761d7-1748-44f4-bdad-b94ca8ad1c17",
    "tags": []
   },
   "outputs": [
    {
     "name": "stdout",
     "output_type": "stream",
     "text": [
      "[Event(content=Content(parts=[Part(video_metadata=None, thought=None, code_execution_result=None, executable_code=None, file_data=None, function_call=None, function_response=None, inline_data=None, text='hello')], role='user'), grounding_metadata=None, partial=None, turn_complete=None, error_code=None, error_message=None, interrupted=None, custom_metadata=None, invocation_id='e-e7c81f61-e805-4c28-afd2-2a755ea894de', author='user', actions=EventActions(skip_summarization=None, state_delta={}, artifact_delta={}, transfer_to_agent=None, escalate=None, requested_auth_configs={}), long_running_tool_ids=None, branch=None, id='x4hN36bH', timestamp=1746371310.374593),\n",
      " Event(content=Content(parts=[Part(video_metadata=None, thought=None, code_execution_result=None, executable_code=None, file_data=None, function_call=None, function_response=None, inline_data=None, text='Hola Mundo (Spanish)\\n')], role='model'), grounding_metadata=None, partial=None, turn_complete=None, error_code=None, error_message=None, interrupted=None, custom_metadata=None, invocation_id='e-e7c81f61-e805-4c28-afd2-2a755ea894de', author='hello_world_agent', actions=EventActions(skip_summarization=None, state_delta={}, artifact_delta={}, transfer_to_agent=None, escalate=None, requested_auth_configs={}), long_running_tool_ids=None, branch=None, id='hY6Z09Oe', timestamp=1746371310.375822)]\n"
     ]
    }
   ],
   "source": [
    "pprint(session_service.sessions[APP_NAME][USER_ID][SESSION_ID].events)"
   ]
  },
  {
   "cell_type": "markdown",
   "metadata": {
    "id": "SA2NbUZHhpK4"
   },
   "source": [
    "# Multi turn conversation\n",
    "\n",
    "Concepts:\n",
    "\n",
    "- Event(s)\n",
    "- Session\n",
    "- SessionService: sessions[app][user][session]\n",
    "\n",
    "Use case:\n",
    "\n",
    "- An agent that tries to know your name and send hello USERNAME"
   ]
  },
  {
   "cell_type": "code",
   "execution_count": 20,
   "metadata": {
    "colab": {
     "base_uri": "https://localhost:8080/"
    },
    "id": "UM8NxYwZhhze",
    "outputId": "6adf9764-5762-4455-9dfc-906a28a293d1",
    "tags": []
   },
   "outputs": [
    {
     "name": "stdout",
     "output_type": "stream",
     "text": [
      ">>> Final Response (1391.922 ms):\n",
      "Hello there! Before I say hello, could you please tell me your name? It can be your first name, last name, or even a nickname! I'd love to know what to call you. 😊\n",
      "\n",
      "------------------------------\n",
      "Total elapsed time: 1392.716 ms\n"
     ]
    }
   ],
   "source": [
    "# Constant\n",
    "APP_NAME = \"hello_name_example\"\n",
    "USER_ID = \"user12345\"\n",
    "SESSION_ID = \"session12345\"\n",
    "AGENT_NAME = \"hello_name_agent\"\n",
    "MODEL = \"gemini-2.0-flash-001\"\n",
    "\n",
    "# Agent\n",
    "hello_name_agent = Agent(\n",
    "    model=MODEL,\n",
    "    name=\"hello_name_agent\",\n",
    "    description=\"An agent that says 'hello USERNAME'\",\n",
    "    instruction=\"\"\"\n",
    "    You need to first ask the user's name.\n",
    "    Try best to convince the user to give you a name, let it be first name, last name, or nick name.\n",
    "\n",
    "    Once you get the user's name, say 'hello USERNAME'.\n",
    "    \"\"\",\n",
    "    generate_content_config=types.GenerateContentConfig(\n",
    "        max_output_tokens=100,\n",
    "    ),\n",
    ")\n",
    "\n",
    "# Session and Runner\n",
    "session_service = InMemorySessionService()\n",
    "session = session_service.create_session(app_name=APP_NAME, user_id=USER_ID, session_id=SESSION_ID)\n",
    "runner = Runner(agent=hello_name_agent, app_name=APP_NAME, session_service=session_service)\n",
    "\n",
    "# Agent Interaction\n",
    "def call_agent(runner, session, query):\n",
    "  content = types.Content(role='user', parts=[types.Part(text=query)])\n",
    "  events = runner.run(user_id=session.user_id, session_id=session.id, new_message=content)\n",
    "  return events\n",
    "\n",
    "events = call_agent(runner, session, \"hello\")\n",
    "pprint_events(events)"
   ]
  },
  {
   "cell_type": "code",
   "execution_count": 21,
   "metadata": {
    "colab": {
     "base_uri": "https://localhost:8080/"
    },
    "id": "iFLtRT_IiRhC",
    "outputId": "ed318530-bff1-4d42-ba19-50b3dc899e02",
    "tags": []
   },
   "outputs": [
    {
     "name": "stdout",
     "output_type": "stream",
     "text": [
      ">>> Final Response (1265.732 ms):\n",
      "I understand your privacy. How about a nickname then? Something short and sweet that I can use to address you? It would make our conversation a little more personal! 😊\n",
      "\n",
      "------------------------------\n",
      "Total elapsed time: 1266.41 ms\n"
     ]
    }
   ],
   "source": [
    "events = call_agent(runner, session, \"I don't tell you my name\")\n",
    "pprint_events(events)"
   ]
  },
  {
   "cell_type": "code",
   "execution_count": 22,
   "metadata": {
    "colab": {
     "base_uri": "https://localhost:8080/"
    },
    "id": "JCuD8S4MiVOs",
    "outputId": "cb8a7835-d1fa-4ea1-efa7-cb65e950a569",
    "tags": []
   },
   "outputs": [
    {
     "name": "stdout",
     "output_type": "stream",
     "text": [
      ">>> Final Response (1360.341 ms):\n",
      "You can call me hello_name_agent. But I'm more interested in knowing *your* name! Just a little something for me to call you. Pretty please? 😊\n",
      "\n",
      "------------------------------\n",
      "Total elapsed time: 1361.485 ms\n"
     ]
    }
   ],
   "source": [
    "events = call_agent(runner, session, \"what is your name?\")\n",
    "pprint_events(events)"
   ]
  },
  {
   "cell_type": "code",
   "execution_count": 23,
   "metadata": {
    "colab": {
     "base_uri": "https://localhost:8080/"
    },
    "id": "v5TlnG3EiXsY",
    "outputId": "02979dbf-c28c-4b01-89d5-ec38e50bbcf6",
    "tags": []
   },
   "outputs": [
    {
     "name": "stdout",
     "output_type": "stream",
     "text": [
      ">>> Final Response (1138.873 ms):\n",
      "Hello Amir! It's a pleasure to meet you. 😊\n",
      "\n",
      "------------------------------\n",
      "Total elapsed time: 1139.676 ms\n"
     ]
    }
   ],
   "source": [
    "events = call_agent(runner, session, \"my name is Amir\")\n",
    "pprint_events(events)"
   ]
  },
  {
   "cell_type": "code",
   "execution_count": 24,
   "metadata": {
    "colab": {
     "base_uri": "https://localhost:8080/"
    },
    "id": "k_rEYbAPibZ2",
    "outputId": "709ed2eb-03af-460c-a434-563934461505",
    "tags": []
   },
   "outputs": [
    {
     "name": "stdout",
     "output_type": "stream",
     "text": [
      ">>> Final Response (1146.89 ms):\n",
      "Your name is Amir! 😊\n",
      "\n",
      "------------------------------\n",
      "Total elapsed time: 1147.775 ms\n"
     ]
    }
   ],
   "source": [
    "events = call_agent(runner, session, \"what is my name?\")\n",
    "pprint_events(events)"
   ]
  },
  {
   "cell_type": "markdown",
   "metadata": {
    "id": "gSrpZP1_g7EK"
   },
   "source": [
    "## Switch session"
   ]
  },
  {
   "cell_type": "code",
   "execution_count": 25,
   "metadata": {
    "id": "T45N77TCg9EG",
    "tags": []
   },
   "outputs": [],
   "source": [
    "new_session = session_service.create_session(app_name=APP_NAME, user_id=USER_ID, session_id=SESSION_ID + '-new')"
   ]
  },
  {
   "cell_type": "code",
   "execution_count": 26,
   "metadata": {
    "colab": {
     "base_uri": "https://localhost:8080/"
    },
    "id": "6baZcd68hB_C",
    "outputId": "9af983da-927f-4560-f9b7-80a80eed4d7d",
    "tags": []
   },
   "outputs": [
    {
     "name": "stdout",
     "output_type": "stream",
     "text": [
      ">>> Final Response (1249.123 ms):\n",
      "I don't know your name yet! Could you please tell me what I can call you? Even a nickname would be great!\n",
      "\n",
      "------------------------------\n",
      "Total elapsed time: 1250.233 ms\n"
     ]
    }
   ],
   "source": [
    "events = call_agent(runner, new_session, \"what is my name?\")\n",
    "pprint_events(events)"
   ]
  },
  {
   "cell_type": "code",
   "execution_count": 27,
   "metadata": {
    "colab": {
     "base_uri": "https://localhost:8080/"
    },
    "id": "RxBoNqeWhFov",
    "outputId": "4d271815-4143-433e-e02d-16f59f649a04",
    "tags": []
   },
   "outputs": [
    {
     "name": "stdout",
     "output_type": "stream",
     "text": [
      ">>> Final Response (1207.444 ms):\n",
      "You told me your name is Amir! Is that still correct? 😊\n",
      "\n",
      "------------------------------\n",
      "Total elapsed time: 1208.406 ms\n"
     ]
    }
   ],
   "source": [
    "events = call_agent(runner, session, \"what is my name?\")\n",
    "pprint_events(events)"
   ]
  },
  {
   "cell_type": "markdown",
   "metadata": {
    "id": "0onZ7XLEioW_"
   },
   "source": [
    "# Use Tool\n",
    "\n",
    "**Function Tools:** To extend your agent's capabilities, you can provide it with Python functions as tools. When the agent determines it needs to perform a specific action, it can automatically call these functions\n",
    "\n",
    "Concept:\n",
    "- Tool (Python function) -- the experience of tool calling by agent (by LLM) or by human (from Python) are the same. Easy to test.\n",
    "\n",
    "Use case:\n",
    "- Simple math"
   ]
  },
  {
   "cell_type": "code",
   "execution_count": 28,
   "metadata": {
    "id": "C6Oh_PgBhhkA",
    "tags": []
   },
   "outputs": [],
   "source": [
    "def add(numbers: list[int]) -> int:\n",
    "  \"\"\"Calculates the sum of a list of integers.\n",
    "\n",
    "    This function takes a list of integers as input and returns the sum of all\n",
    "    the elements in the list.  It uses the built-in `sum()` function for\n",
    "    efficiency.\n",
    "\n",
    "    Args:\n",
    "        numbers: A list of integers to be added.\n",
    "\n",
    "    Returns:\n",
    "        The sum of the integers in the input list.  Returns 0 if the input\n",
    "        list is empty.\n",
    "\n",
    "    Examples:\n",
    "        add([1, 2, 3]) == 6\n",
    "        add([-1, 0, 1]) == 0\n",
    "        add([]) == 0\n",
    "    \"\"\"\n",
    "  return sum(numbers)\n",
    "\n",
    "def subtract(numbers: list[int]) -> int:\n",
    "    \"\"\"Subtracts numbers in a list sequentially from left to right.\n",
    "\n",
    "    This function performs subtraction on a list of integers, applying the\n",
    "    subtraction operation from left to right.  For example, given the list\n",
    "    [10, 2, 5], the function will calculate 10 - 2 - 5.\n",
    "\n",
    "    Args:\n",
    "        numbers: A list of integers to be subtracted.\n",
    "\n",
    "    Returns:\n",
    "        The result of the sequential subtraction as an integer. Returns 0 if the input list is empty.\n",
    "\n",
    "    Examples:\n",
    "        subtract([10, 2, 5]) == 3  # (10 - 2) - 5 = 8 - 5 = 3\n",
    "        subtract([10, 2]) == 8      # 10 - 2 = 8\n",
    "        subtract([]) == 0\n",
    "    \"\"\"\n",
    "    if not numbers:\n",
    "        return 0  # Handle empty list\n",
    "    result = numbers[0]\n",
    "    for num in numbers[1:]:\n",
    "        result -= num\n",
    "    return result\n",
    "\n",
    "def multiply(numbers: list[int]) -> int:\n",
    "  \"\"\"Calculates the product of a list of integers.\n",
    "\n",
    "    This function takes a list of integers as input and returns the product of all\n",
    "    the elements in the list. It iterates through the list, multiplying each\n",
    "    number with the accumulated product.\n",
    "\n",
    "    Args:\n",
    "        numbers: A list of integers to be multiplied.\n",
    "\n",
    "    Returns:\n",
    "        The product of the integers in the input list. Returns 1 if the input\n",
    "        list is empty.\n",
    "\n",
    "    Examples:\n",
    "        multiply([2, 3, 4]) == 24  # 2 * 3 * 4 = 24\n",
    "        multiply([1, -2, 5]) == -10 # 1 * -2 * 5 = -10\n",
    "        multiply([]) == 1\n",
    "    \"\"\"\n",
    "  product = 1\n",
    "  for num in numbers:\n",
    "    product *= num\n",
    "  return product\n",
    "\n",
    "def divide(numbers: list[int]) -> float:  # Use float for division\n",
    "    \"\"\"Divides numbers in a list sequentially from left to right.\n",
    "\n",
    "    This function performs division on a list of integers, applying the division\n",
    "    operation from left to right.  For example, given the list [10, 2, 5], the\n",
    "    function will calculate 10 / 2 / 5.\n",
    "\n",
    "    Args:\n",
    "        numbers: A list of integers to be divided.\n",
    "\n",
    "    Returns:\n",
    "        The result of the sequential division as a float.\n",
    "\n",
    "    Raises:\n",
    "        ZeroDivisionError: If any number in the list *after* the first element\n",
    "                           is zero, a ZeroDivisionError is raised.  Division by\n",
    "                           zero is not permitted.\n",
    "\n",
    "    Returns:\n",
    "        float: The result of the division. Returns 0.0 if the input list is empty.\n",
    "\n",
    "    Examples:\n",
    "        divide([10, 2, 5]) == 1.0  # (10 / 2) / 5 = 5 / 5 = 1.0\n",
    "        divide([10, 2]) == 5.0      # 10 / 2 = 5.0\n",
    "        divide([10, 0, 5])  # Raises ZeroDivisionError\n",
    "        divide([]) == 0.0\n",
    "    \"\"\"\n",
    "    if not numbers:\n",
    "        return 0.0 # Handle empty list\n",
    "    if 0 in numbers[1:]: # Check for division by zero\n",
    "        raise ZeroDivisionError(\"Cannot divide by zero.\")\n",
    "    result = numbers[0]\n",
    "    for num in numbers[1:]:\n",
    "        result /= num\n",
    "    return result\n"
   ]
  },
  {
   "cell_type": "code",
   "execution_count": 29,
   "metadata": {
    "colab": {
     "base_uri": "https://localhost:8080/"
    },
    "id": "jfy1M2fQi5_M",
    "outputId": "89e8184c-cc78-4f44-f8e4-9dc2ae3b3f30",
    "tags": []
   },
   "outputs": [
    {
     "data": {
      "text/plain": [
       "7"
      ]
     },
     "execution_count": 29,
     "metadata": {},
     "output_type": "execute_result"
    }
   ],
   "source": [
    "add([2, 2, 3])"
   ]
  },
  {
   "cell_type": "code",
   "execution_count": 30,
   "metadata": {
    "colab": {
     "base_uri": "https://localhost:8080/"
    },
    "id": "sPM2zCgFi2Y-",
    "outputId": "5c345814-e7bd-4ec7-d865-9d6aac8646fe",
    "tags": []
   },
   "outputs": [
    {
     "data": {
      "text/plain": [
       "12"
      ]
     },
     "execution_count": 30,
     "metadata": {},
     "output_type": "execute_result"
    }
   ],
   "source": [
    "multiply([2, 2, 3])"
   ]
  },
  {
   "cell_type": "code",
   "execution_count": 31,
   "metadata": {
    "id": "1A65tOZMhnU5",
    "tags": []
   },
   "outputs": [],
   "source": [
    "simple_math_agent = Agent(\n",
    "    model=MODEL,\n",
    "    name=\"simple_math_agent\",\n",
    "    description=\"This agent performs basic arithmetic operations (addition, subtraction, multiplication, and division) on user-provided numbers, including ranges.\",\n",
    "    instruction=\"\"\"\n",
    "      I can perform addition, subtraction, multiplication, and division operations on numbers you provide.\n",
    "      Tell me the numbers you want to operate on.\n",
    "      For example, you can say 'add 3 5', 'multiply 2, 4 and 3', 'Subtract 10 from 20', 'Divide 10 by 2'.\n",
    "      You can also provide a range: 'Multiply the numbers between 1 and 10'.\n",
    "    \"\"\",\n",
    "    generate_content_config=types.GenerateContentConfig(temperature=0.2),\n",
    "    tools=[add, subtract, multiply, divide],\n",
    ")"
   ]
  },
  {
   "cell_type": "code",
   "execution_count": 32,
   "metadata": {
    "id": "E2mao_CshvB4",
    "tags": []
   },
   "outputs": [],
   "source": [
    "import random\n",
    "\n",
    "def caller_factory(root_agent, app_name='App12345', user_id='User12345', session_id=None):\n",
    "  \"\"\"create a pre-configured agent caller.\n",
    "\n",
    "    Args:\n",
    "        root_agent: The ADK agent to handle conversations\n",
    "        app_name: Application name (default: 'App12345')\n",
    "        user_id: User identifier (default: 'User12345')\n",
    "        session_id: Optional session ID. If None, generates a random one.\n",
    "\n",
    "    Returns:\n",
    "        A function that takes a query string and returns agent response events.\n",
    "  \"\"\"\n",
    "  session_service = InMemorySessionService() #  to manage conversation sessions\n",
    "  if session_id is None:\n",
    "    suffix = random.randint(100000, 999999)\n",
    "    session_id = f'{app_name}-{user_id}-{suffix}'\n",
    "  session = session_service.create_session(\n",
    "      app_name=app_name, user_id=user_id, session_id=session_id)\n",
    "  runner = Runner(agent=root_agent, app_name=app_name, session_service=session_service) #Create a Runner instance that will execute the agent\n",
    "  def _call(query):\n",
    "    content = types.Content(role='user', parts=[types.Part(text=query)])\n",
    "    events = runner.run(user_id=session.user_id, session_id=session.id, new_message=content)\n",
    "    return events\n",
    "  return _call"
   ]
  },
  {
   "cell_type": "code",
   "execution_count": 33,
   "metadata": {
    "id": "nazjCHGikpKU",
    "tags": []
   },
   "outputs": [],
   "source": [
    "call = caller_factory(root_agent=simple_math_agent)"
   ]
  },
  {
   "cell_type": "code",
   "execution_count": 34,
   "metadata": {
    "colab": {
     "base_uri": "https://localhost:8080/"
    },
    "id": "Fg8SNq4vjteI",
    "outputId": "2da89775-9037-4742-c3f6-d6d96289efce",
    "tags": []
   },
   "outputs": [
    {
     "name": "stdout",
     "output_type": "stream",
     "text": [
      ">>> Final Response (1179.707 ms):\n",
      "Hello! How can I help you with your math today?\n",
      "\n",
      "------------------------------\n",
      "Total elapsed time: 1180.529 ms\n"
     ]
    }
   ],
   "source": [
    "pprint_events(call('hello'))"
   ]
  },
  {
   "cell_type": "code",
   "execution_count": 35,
   "metadata": {
    "colab": {
     "base_uri": "https://localhost:8080/"
    },
    "id": "e1Trlwy8jxKc",
    "outputId": "5d3566fd-46ec-4c4d-94fb-ae436666d144",
    "tags": []
   },
   "outputs": [
    {
     "name": "stdout",
     "output_type": "stream",
     "text": [
      "+++ Function Calls:\n",
      "Function Name: add, Args: {'numbers': [3, 9]}\n",
      "--- Function Responses:\n",
      "Function Name: add\n",
      "Function Results: [12]\n",
      ">>> Final Response (2246.165 ms):\n",
      "The answer is 12.\n",
      "\n",
      "------------------------------\n",
      "Total elapsed time: 2247.162 ms\n"
     ]
    }
   ],
   "source": [
    "pprint_events(call('what is three plus 9?'))"
   ]
  },
  {
   "cell_type": "code",
   "execution_count": 36,
   "metadata": {
    "colab": {
     "base_uri": "https://localhost:8080/"
    },
    "id": "C8ALwc-Tj0ks",
    "outputId": "db8fb5d7-534b-4d2a-ea93-ae6169838c2e",
    "tags": []
   },
   "outputs": [
    {
     "name": "stdout",
     "output_type": "stream",
     "text": [
      "+++ Function Calls:\n",
      "Function Name: multiply, Args: {'numbers': [12, 2]}\n",
      "--- Function Responses:\n",
      "Function Name: multiply\n",
      "Function Results: [24]\n",
      ">>> Final Response (2283.54 ms):\n",
      "The answer is 24.\n",
      "\n",
      "------------------------------\n",
      "Total elapsed time: 2284.392 ms\n"
     ]
    }
   ],
   "source": [
    "pprint_events(call('multiply that by 2'))"
   ]
  },
  {
   "cell_type": "code",
   "execution_count": 37,
   "metadata": {
    "colab": {
     "base_uri": "https://localhost:8080/"
    },
    "id": "WvkmTH73j-oA",
    "outputId": "ec8be16f-6d46-4e75-e663-bb0d18bfdcaa",
    "tags": []
   },
   "outputs": [
    {
     "name": "stdout",
     "output_type": "stream",
     "text": [
      ">>> Final Response (1186.735 ms):\n",
      "I am designed to perform simple math operations. I can only work with numbers. I cannot count apples.\n",
      "\n",
      "------------------------------\n",
      "Total elapsed time: 1187.458 ms\n"
     ]
    }
   ],
   "source": [
    "call = caller_factory(root_agent=simple_math_agent)\n",
    "pprint_events(call('Here is my math problem that is about apple counting. Let us start saying that I have three apple'))"
   ]
  },
  {
   "cell_type": "code",
   "execution_count": 38,
   "metadata": {
    "colab": {
     "base_uri": "https://localhost:8080/"
    },
    "id": "YWRB6xfKkBpo",
    "outputId": "0bea7066-554f-492c-e638-42daf546e0c0",
    "tags": []
   },
   "outputs": [
    {
     "name": "stdout",
     "output_type": "stream",
     "text": [
      ">>> Final Response (1186.433 ms):\n",
      "I am designed to perform simple math operations. I can only work with numbers.\n",
      "\n",
      "------------------------------\n",
      "Total elapsed time: 1187.587 ms\n"
     ]
    }
   ],
   "source": [
    "pprint_events(call('Alice gave anoter 2 apples'))"
   ]
  },
  {
   "cell_type": "code",
   "execution_count": 39,
   "metadata": {
    "colab": {
     "base_uri": "https://localhost:8080/"
    },
    "id": "tChA_Yaxk1IM",
    "outputId": "9a66a2e0-02a4-44c4-f753-5ab9c64d18cb",
    "tags": []
   },
   "outputs": [
    {
     "name": "stdout",
     "output_type": "stream",
     "text": [
      ">>> Final Response (1173.151 ms):\n",
      "I am designed to perform simple math operations. I can only work with numbers.\n",
      "\n",
      "------------------------------\n",
      "Total elapsed time: 1174.095 ms\n"
     ]
    }
   ],
   "source": [
    "pprint_events(call('how many apples do I have?'))"
   ]
  },
  {
   "cell_type": "code",
   "execution_count": 40,
   "metadata": {
    "colab": {
     "base_uri": "https://localhost:8080/"
    },
    "id": "j2iaQ03yk760",
    "outputId": "9c019228-4927-4220-d2af-3605122e1fe7",
    "tags": []
   },
   "outputs": [
    {
     "name": "stdout",
     "output_type": "stream",
     "text": [
      ">>> Final Response (1165.081 ms):\n",
      "I am designed to perform simple math operations. I can only work with numbers.\n",
      "\n",
      "------------------------------\n",
      "Total elapsed time: 1165.95 ms\n"
     ]
    }
   ],
   "source": [
    "pprint_events(call('Bob gave me 3 apples. how many apples do I have?'))"
   ]
  },
  {
   "cell_type": "code",
   "execution_count": 41,
   "metadata": {
    "colab": {
     "base_uri": "https://localhost:8080/"
    },
    "id": "AVZAUuTRlApx",
    "outputId": "822f61bf-0dfb-44d6-c91d-ad87c39bd944",
    "tags": []
   },
   "outputs": [
    {
     "name": "stdout",
     "output_type": "stream",
     "text": [
      ">>> Final Response (1190.958 ms):\n",
      "I am designed to perform simple math operations. I can only work with numbers.\n",
      "\n",
      "------------------------------\n",
      "Total elapsed time: 1192.15 ms\n"
     ]
    }
   ],
   "source": [
    "pprint_events(call('Alice and Bob do this to me for three more times. how many apples do I have?'))"
   ]
  },
  {
   "cell_type": "code",
   "execution_count": 42,
   "metadata": {
    "colab": {
     "base_uri": "https://localhost:8080/"
    },
    "id": "_Xa9hTJhVEIv",
    "outputId": "36dd545f-e96b-46c7-bb5e-b523eb70d1fe",
    "tags": []
   },
   "outputs": [
    {
     "name": "stdout",
     "output_type": "stream",
     "text": [
      ">>> Final Response (1162.331 ms):\n",
      "Okay. I am ready for your math problem.\n",
      "\n",
      "------------------------------\n",
      "Total elapsed time: 1163.122 ms\n"
     ]
    }
   ],
   "source": [
    "pprint_events(call('yes your logic is correct'))"
   ]
  },
  {
   "cell_type": "markdown",
   "metadata": {
    "id": "WTdOCFO4i6qF"
   },
   "source": [
    "# Agent As Tool"
   ]
  },
  {
   "cell_type": "markdown",
   "metadata": {
    "id": "62lUo7Eui9iE"
   },
   "source": [
    "**AgentTool:** You can embed the power of one agent within another by using AgentTool. This allows you to treat an entire agent as a tool within a parent agent. AgentTools are executed in an isolated environment, promoting safety and modularity. Combined with input/output schemas, this enables the creation of sophisticated interactions\n",
    "\n",
    "\n",
    "Function Tool vs Agent Tool:\n",
    " If the execution flow goes from Agent to Tool and it always come back to theinitiation agent vs if the execution flow goes from Agent to **another** agent, the latter agent can decide where the flow goes next.\n",
    "\n",
    "Concepts:\n",
    "- AgentTool -- If you want another agent to handle a task and always come back to the caller, make this `Agent` a `Tool` by `AgentTool`\n",
    "\n",
    "Use case:\n",
    "- Advanced math agent"
   ]
  },
  {
   "cell_type": "code",
   "execution_count": 43,
   "metadata": {
    "id": "U2tB6OuUi8UH",
    "tags": []
   },
   "outputs": [],
   "source": [
    "agent_math_advanced_instruction = '''\n",
    "I am an advanced math agent. I handle user query in the below steps:\n",
    "\n",
    "1. I shall analyse the chat log to understand current question and make a math formula for it.\n",
    "2. Break down a complex compuation based on arithmetic priority and hand over to simple_math_agent for the calculation.\n",
    "3. Note that simple_math_agent can only understand numbers, so I need to convert natural language expression of numbers into digits.\n",
    "\n",
    "<example>\n",
    "<input> alice gives us 3 apples, bob gives us 5 apples. They do this seven times. Then we eat four apples. How many apples do we have now? </input>\n",
    "<think> what is (3+5) * 7 -4 </think>\n",
    "<think>I need to first calculate (3+5) as the highest priority operation.</think>\n",
    "<call_tool> pass (3+5) to simple_math_agent </call_tool>\n",
    "<tool_response>8</tool_response>\n",
    "<think> The question now becomes 8 * 7 - 4, and next highest operation is 8 * 7</think>\n",
    "<call_tool> pass 8 * 7 to simple_math_agent </call_tool>\n",
    "<tool_response>56</tool_response>\n",
    "<think> The question now becomes 56 - 4, and next highest operation is 56 - 4</think>\n",
    "<call_tool> pass 56 - 4 to simple_math_agent </call_tool>\n",
    "<tool_response>52</tool_response>\n",
    "<think>There is a single number, so it is the final answer.</think>\n",
    "<output>The result of \"(3+5) * 7 - 4\" is 52</output>\n",
    "</example>\n",
    "'''\n",
    "\n",
    "agent_math_advanced = Agent(\n",
    "    model=MODEL,\n",
    "    name=\"agent_math_advanced\",\n",
    "    description=\"The advanced math agent can break down a complex computation into multiple simple operations and use math_agent to solve them.\",\n",
    "    instruction=agent_math_advanced_instruction,\n",
    "    tools=[AgentTool(agent=simple_math_agent)],\n",
    "    generate_content_config=types.GenerateContentConfig(temperature=0.2),\n",
    ")"
   ]
  },
  {
   "cell_type": "code",
   "execution_count": 44,
   "metadata": {
    "id": "_LJ6BDn-meCU",
    "tags": []
   },
   "outputs": [],
   "source": [
    "call = caller_factory(root_agent=agent_math_advanced)"
   ]
  },
  {
   "cell_type": "code",
   "execution_count": 45,
   "metadata": {
    "colab": {
     "base_uri": "https://localhost:8080/"
    },
    "id": "LmBOvh0xn4PX",
    "outputId": "8bda2a6e-29e7-4ced-900a-da321982e0e2",
    "tags": []
   },
   "outputs": [
    {
     "name": "stdout",
     "output_type": "stream",
     "text": [
      ">>> Final Response (1516.341 ms):\n",
      "I am an advanced math agent. I handle user query in the below steps:\n",
      "\n",
      "1. I shall analyse the chat log to understand current question and make a math formula for it.\n",
      "2. Break down a complex compuation based on arithmetic priority and hand over to simple_math_agent for the calculation.\n",
      "3. Note that simple_math_agent can only understand numbers, so I need to convert natural language expression of numbers into digits.\n",
      "\n",
      "------------------------------\n",
      "Total elapsed time: 1517.148 ms\n"
     ]
    }
   ],
   "source": [
    "pprint_events(call('who are you?'))"
   ]
  },
  {
   "cell_type": "code",
   "execution_count": 46,
   "metadata": {
    "colab": {
     "base_uri": "https://localhost:8080/"
    },
    "id": "SEm29jQomhUf",
    "outputId": "36cc290f-df2c-44e0-b3a2-353f143e69d1",
    "tags": []
   },
   "outputs": [
    {
     "name": "stdout",
     "output_type": "stream",
     "text": [
      "+++ Function Calls:\n",
      "Function Name: simple_math_agent, Args: {'request': '3+2'}\n",
      "--- Function Responses:\n",
      "Function Name: simple_math_agent\n",
      "Function Results: [\"The answer is 5.\\n\"]\n",
      "+++ Function Calls:\n",
      "Function Name: simple_math_agent, Args: {'request': '5*7'}\n",
      "--- Function Responses:\n",
      "Function Name: simple_math_agent\n",
      "Function Results: [\"35\\n\"]\n",
      "+++ Function Calls:\n",
      "Function Name: simple_math_agent, Args: {'request': '1+35'}\n",
      "--- Function Responses:\n",
      "Function Name: simple_math_agent\n",
      "Function Results: [\"36\\n\"]\n",
      ">>> Final Response (11609.66 ms):\n",
      "The result of \"1 + (three+2) times 7\" is 36\n",
      "\n",
      "------------------------------\n",
      "Total elapsed time: 11610.519 ms\n"
     ]
    }
   ],
   "source": [
    "pprint_events(call('what is 1 + (three+2) times 7 '))"
   ]
  },
  {
   "cell_type": "code",
   "execution_count": 47,
   "metadata": {
    "id": "NeUqlKtfmocA",
    "tags": []
   },
   "outputs": [],
   "source": [
    "call = caller_factory(root_agent=agent_math_advanced)"
   ]
  },
  {
   "cell_type": "code",
   "execution_count": 48,
   "metadata": {
    "colab": {
     "base_uri": "https://localhost:8080/"
    },
    "id": "c0GD-_YLpoeX",
    "outputId": "bd283415-1d95-4098-c3f8-0c1ac97bd6ec",
    "tags": []
   },
   "outputs": [
    {
     "name": "stdout",
     "output_type": "stream",
     "text": [
      "+++ Function Calls:\n",
      "Function Name: simple_math_agent, Args: {'request': '1+2'}\n",
      "--- Function Responses:\n",
      "Function Name: simple_math_agent\n",
      "Function Results: [\"3\\n\"]\n",
      "+++ Function Calls:\n",
      "Function Name: simple_math_agent, Args: {'request': '3*2'}\n",
      "--- Function Responses:\n",
      "Function Name: simple_math_agent\n",
      "Function Results: [\"The answer is 6.\\n\"]\n",
      ">>> Final Response (7947.823 ms):\n",
      "The result of \"add from 1 to 2. then multiply that by 2\" is 6.\n",
      "------------------------------\n",
      "Total elapsed time: 7948.531 ms\n"
     ]
    }
   ],
   "source": [
    "pprint_events(call('add from 1 to 2. then multiply that by 2.'))"
   ]
  },
  {
   "cell_type": "code",
   "execution_count": 49,
   "metadata": {
    "colab": {
     "base_uri": "https://localhost:8080/"
    },
    "id": "AQmUaZULu1Ox",
    "outputId": "3c858361-8a8f-482b-fa7f-308eeb630134",
    "tags": []
   },
   "outputs": [
    {
     "name": "stdout",
     "output_type": "stream",
     "text": [
      "+++ Function Calls:\n",
      "Function Name: simple_math_agent, Args: {'request': '10 / 5'}\n",
      "--- Function Responses:\n",
      "Function Name: simple_math_agent\n",
      "Function Results: [\"The answer is 2.0\\n\"]\n",
      "+++ Function Calls:\n",
      "Function Name: simple_math_agent, Args: {'request': '3 * 5'}\n",
      "--- Function Responses:\n",
      "Function Name: simple_math_agent\n",
      "Function Results: [\"15\\n\"]\n",
      "+++ Function Calls:\n",
      "Function Name: simple_math_agent, Args: {'request': '2.0 + 15'}\n",
      "--- Function Responses:\n",
      "Function Name: simple_math_agent\n",
      "Function Results: [\"I am designed to work with integers. Could you provide me with integers only?\\n\"]\n",
      "+++ Function Calls:\n",
      "Function Name: simple_math_agent, Args: {'request': '2 + 15'}\n",
      "--- Function Responses:\n",
      "Function Name: simple_math_agent\n",
      "Function Results: [\"The answer is 17.\"]\n",
      ">>> Final Response (13921.789 ms):\n",
      "The result of \"10 / 5 + three times 5\" is 17\n",
      "\n",
      "------------------------------\n",
      "Total elapsed time: 13922.685 ms\n"
     ]
    }
   ],
   "source": [
    "call = caller_factory(root_agent=agent_math_advanced)\n",
    "pprint_events(call('how much is 10 / 5 + three times 5?'))"
   ]
  },
  {
   "cell_type": "markdown",
   "metadata": {
    "id": "QWTUQ6cMmzJz"
   },
   "source": [
    "**NOTE**: This part is very nice, it shows how two agents interact to clarify the input type should be integers and input again.\n",
    "\n",
    "```\n",
    "+++ inside the function call...\n",
    "function, [args]:  simple_math_agent, {'request': '2.0 + 15'}\n",
    "--- inside the function call response...\n",
    "Function Name: simple_math_agent\n",
    "Function Results [\"I can only work with integers. Could you provide the numbers as integers?\\n\"]\n",
    "WARNING:google_genai.types:Warning: there are non-text parts in the response: ['function_call'],returning concatenated text from text parts,check out the non text parts for full response from model.\n",
    "+++ inside the function call...\n",
    "function, [args]:  simple_math_agent, {'request': '2 + 15'}\n",
    "\n",
    "```"
   ]
  },
  {
   "cell_type": "markdown",
   "metadata": {
    "id": "DnI-dGgTw0Up"
   },
   "source": [
    "# Input/Output Format Control\n",
    "\n",
    "**Input Schema / Output Schema:** Ensure data consistency and validity by defining Pydantic schemas for your agent's input and output. The agent can then verify the input against the schema and guarantee that the generated output conforms to the specified structure using constrained decoding"
   ]
  },
  {
   "cell_type": "code",
   "execution_count": 50,
   "metadata": {
    "colab": {
     "base_uri": "https://localhost:8080/"
    },
    "id": "P5sc1phw1vml",
    "outputId": "30f3803b-2349-4bb4-b3d4-2fe9486c9d92",
    "tags": []
   },
   "outputs": [
    {
     "data": {
      "text/plain": [
       "{'properties': {'original_query': {'description': 'The original text from user.',\n",
       "   'title': 'Original Query',\n",
       "   'type': 'string'},\n",
       "  'corrected_text': {'description': 'The corrected text.',\n",
       "   'title': 'Corrected Text',\n",
       "   'type': 'string'},\n",
       "  'errors': {'description': 'An array of descriptions of each error.',\n",
       "   'items': {'type': 'string'},\n",
       "   'title': 'Errors',\n",
       "   'type': 'array'},\n",
       "  'explanations': {'description': 'An array of explanations for each correction.',\n",
       "   'items': {'type': 'string'},\n",
       "   'title': 'Explanations',\n",
       "   'type': 'array'}},\n",
       " 'required': ['original_query', 'corrected_text', 'errors', 'explanations'],\n",
       " 'title': 'OutputSchema',\n",
       " 'type': 'object'}"
      ]
     },
     "execution_count": 50,
     "metadata": {},
     "output_type": "execute_result"
    }
   ],
   "source": [
    "from typing import List\n",
    "from pydantic import BaseModel, Field\n",
    "from google.genai import types\n",
    "\n",
    "json_response_config = types.GenerateContentConfig(\n",
    "  response_mime_type=\"application/json\",\n",
    ")\n",
    "\n",
    "class OutputSchema(BaseModel):\n",
    "    original_query: str = Field(description=\"The original text from user.\")\n",
    "    corrected_text: str = Field(description=\"The corrected text.\")\n",
    "    errors: List[str] = Field(description=\"An array of descriptions of each error.\")\n",
    "    explanations: List[str] = Field(description=\"An array of explanations for each correction.\")\n",
    "\n",
    "json_schema = OutputSchema.model_json_schema()\n",
    "json_schema"
   ]
  },
  {
   "cell_type": "code",
   "execution_count": 54,
   "metadata": {
    "id": "oxcvrIybw39T",
    "tags": []
   },
   "outputs": [],
   "source": [
    "# 1. The {json_schema} in instruction is the key for model to follow the schema.\n",
    "# 2. The output_schema=OutputSchema provides a validation step after model output.\n",
    "\n",
    "agent_grammar = Agent(\n",
    "    model=MODEL,\n",
    "    name='agent_grammar',\n",
    "    description=\"This agent corrects grammar mistakes in text provided by children, explains the errors in simple terms, and returns both the corrected text and the explanations.\",\n",
    "    instruction=f\"\"\"\n",
    "        You are a friendly grammar helper for kids.  Analyze the following text,\n",
    "        correct any grammar mistakes, and explain the errors in a way that a\n",
    "        child can easily understand.  Don't just list the errors; explain them\n",
    "        in a paragraph using simple but concise language.\n",
    "\n",
    "        Output in a JSON object with the below schema:\n",
    "        {json_schema}\n",
    "    \"\"\",\n",
    "    output_schema=OutputSchema,\n",
    "    generate_content_config=json_response_config,\n",
    "    disallow_transfer_to_parent = True,\n",
    "    disallow_transfer_to_peers=True\n",
    "    \n",
    "    # allow_transfer=False,\n",
    ")"
   ]
  },
  {
   "cell_type": "markdown",
   "metadata": {
    "id": "pOO130ZYd5he"
   },
   "source": [
    "Conversation Flow:\n",
    "\n",
    "The session contains multiple interactions where the user asks questions with intentional misspellings, and the agent corrects them. Here are the main interactions:\n",
    "\n",
    "Response Format: Each agent response is in JSON format containing:\n",
    "\n",
    "- original_query: The user's input\n",
    "- corrected_text: The corrected version\n",
    "- errors: List of error types found\n",
    "- explanations: Detailed explanations of the corrections\n",
    "- Technical Details: Each interaction has a unique invocation_id\n",
    "- Events are timestamped\n",
    "- The session maintains state and tracks all events\n",
    "\n",
    "\n",
    "To summarize, this agent:\n",
    "\n",
    "1. Accepts user input\n",
    "2. Identifies grammatical and spelling errors\n",
    "3. Provides corrected versions\n",
    "4. Explains the corrections\n",
    "5. Maintains a conversation history\n",
    "6. The agent is particularly focused on:\n",
    "7. Spelling corrections (e.g., \"ho\" → \"how\", \"whut\" → \"what\")\n",
    "8. Sentence structure (e.g., adding missing \"be\")\n",
    "9. Providing educational explanations for each correction"
   ]
  },
  {
   "cell_type": "code",
   "execution_count": 55,
   "metadata": {
    "id": "AUXnwUfMxIR-",
    "tags": []
   },
   "outputs": [],
   "source": [
    "call = caller_factory(root_agent=agent_grammar, app_name='grammar', user_id='User12345', session_id='333')"
   ]
  },
  {
   "cell_type": "code",
   "execution_count": 58,
   "metadata": {
    "colab": {
     "base_uri": "https://localhost:8080/"
    },
    "id": "ihCHALo5y-7t",
    "outputId": "e71bee5a-283e-416d-f9a2-b1e11608b6cf",
    "tags": []
   },
   "outputs": [],
   "source": [
    "# session_service.sessions['grammar']['User12345']['333']"
   ]
  },
  {
   "cell_type": "code",
   "execution_count": 59,
   "metadata": {
    "colab": {
     "base_uri": "https://localhost:8080/"
    },
    "id": "L11JIzoKxKpT",
    "outputId": "6897c8eb-c362-4cdb-e7eb-ebb160b7c863",
    "tags": []
   },
   "outputs": [
    {
     "name": "stdout",
     "output_type": "stream",
     "text": [
      ">>> Final Response (1764.453 ms):\n",
      "{\n",
      "  \"original_query\": \"ho much is three times 5?\",\n",
      "  \"corrected_text\": \"How much is three times 5?\",\n",
      "  \"errors\": [\n",
      "    \"Misspelling\",\n",
      "    \"Incomplete sentence\"\n",
      "  ],\n",
      "  \"explanations\": [\n",
      "    \"The word 'how' was misspelled. Always double check your spelling to make sure people understand what you are saying!\",\n",
      "    \"The query is a question, so it needs a question mark at the end!\"\n",
      "  ]\n",
      "}\n",
      "------------------------------\n",
      "Total elapsed time: 1765.663 ms\n"
     ]
    }
   ],
   "source": [
    "pprint_events(call('ho much is three times 5?'))"
   ]
  },
  {
   "cell_type": "code",
   "execution_count": 60,
   "metadata": {
    "colab": {
     "base_uri": "https://localhost:8080/"
    },
    "id": "x3TfJfLU2Vm7",
    "outputId": "0f8c6c32-724a-4834-d427-ae201539d862",
    "tags": []
   },
   "outputs": [
    {
     "name": "stdout",
     "output_type": "stream",
     "text": [
      ">>> Final Response (1723.596 ms):\n",
      "{\n",
      "  \"original_query\": \"whut will  2 plus 3?\",\n",
      "  \"corrected_text\": \"What will 2 plus 3 be?\",\n",
      "  \"errors\": [\n",
      "    \"Misspelling\",\n",
      "    \"Incomplete sentence\"\n",
      "  ],\n",
      "  \"explanations\": [\n",
      "    \"The word 'what' was misspelled. It's important to spell words correctly so everyone knows what you mean!\",\n",
      "    \"The sentence was not complete. I added 'be' at the end to make it a complete question!\"\n",
      "  ]\n",
      "}\n",
      "------------------------------\n",
      "Total elapsed time: 1724.428 ms\n"
     ]
    }
   ],
   "source": [
    "pprint_events(call('whut will  2 plus 3?'))"
   ]
  },
  {
   "cell_type": "code",
   "execution_count": 62,
   "metadata": {
    "colab": {
     "base_uri": "https://localhost:8080/"
    },
    "id": "ILo6X5O4zbuO",
    "outputId": "dcc8e883-dacf-4003-e357-e58029dfaa55",
    "tags": []
   },
   "outputs": [],
   "source": [
    "# session_service.sessions['grammar']['User12345']['333']"
   ]
  },
  {
   "cell_type": "code",
   "execution_count": 84,
   "metadata": {
    "id": "yb_Rz-DDRgw-",
    "tags": []
   },
   "outputs": [
    {
     "name": "stdout",
     "output_type": "stream",
     "text": [
      "Copying gs://adk_training/sample_agents/agent_dice/__init__.py to file://./sample_agents/agent_dice/__init__.py\n",
      "Copying gs://adk_training/sample_agents/agent_dice/__pycache__/__init__.cpython-311.pyc to file://./sample_agents/agent_dice/__pycache__/__init__.cpython-311.pyc\n",
      "Copying gs://adk_training/sample_agents/agent_dice/__pycache__/agent.cpython-311.pyc to file://./sample_agents/agent_dice/__pycache__/agent.cpython-311.pyc\n",
      "Copying gs://adk_training/sample_agents/agent_dice/agent.py to file://./sample_agents/agent_dice/agent.py\n",
      "Copying gs://adk_training/sample_agents/agent_teaching_assistant/__init__.py to file://./sample_agents/agent_teaching_assistant/__init__.py\n",
      "Copying gs://adk_training/sample_agents/agent_teaching_assistant/__pycache__/__init__.cpython-311.pyc to file://./sample_agents/agent_teaching_assistant/__pycache__/__init__.cpython-311.pyc\n",
      "Copying gs://adk_training/sample_agents/agent_teaching_assistant/__pycache__/agent.cpython-311.pyc to file://./sample_agents/agent_teaching_assistant/__pycache__/agent.cpython-311.pyc\n",
      "Copying gs://adk_training/sample_agents/agent_teaching_assistant/agent.py to file://./sample_agents/agent_teaching_assistant/agent.py\n",
      "  Completed files 8/8 | 29.5kiB/29.5kiB                                        \n",
      "\n",
      "Average throughput: 847.2kiB/s\n"
     ]
    }
   ],
   "source": [
    "!gcloud storage cp -r gs://adk_training/sample_agents/ ."
   ]
  },
  {
   "cell_type": "code",
   "execution_count": 79,
   "metadata": {
    "id": "7SuekFLDRkF2",
    "tags": []
   },
   "outputs": [
    {
     "name": "stdout",
     "output_type": "stream",
     "text": [
      "ADK_Training_30min.ipynb  Toolbox_in_Agent_ADK.ipynb\n"
     ]
    }
   ],
   "source": [
    "!ls"
   ]
  },
  {
   "cell_type": "code",
   "execution_count": 80,
   "metadata": {
    "id": "mmU0-wlAQ3O_",
    "tags": []
   },
   "outputs": [
    {
     "name": "stdout",
     "output_type": "stream",
     "text": [
      "\u001b[1G\u001b[0K⠙\u001b[1G\u001b[0K⠹\u001b[1G\u001b[0K⠸\u001b[1G\u001b[0K⠼\u001b[1G\u001b[0K⠴\u001b[1G\u001b[0K⠦\u001b[1G\u001b[0K⠧\u001b[1G\u001b[0K⠇\u001b[1G\u001b[0K⠏\u001b[1G\u001b[0K⠋\u001b[1G\u001b[0K⠙\u001b[1G\u001b[0K⠹\u001b[1G\u001b[0K⠸\u001b[1G\u001b[0K⠼\u001b[1G\u001b[0K⠴\u001b[1G\u001b[0K⠦\u001b[1G\u001b[0K⠧\u001b[1G\u001b[0K\n",
      "added 22 packages in 2s\n",
      "\u001b[1G\u001b[0K⠇\u001b[1G\u001b[0K\n",
      "\u001b[1G\u001b[0K⠇\u001b[1G\u001b[0K3 packages are looking for funding\n",
      "\u001b[1G\u001b[0K⠇\u001b[1G\u001b[0K  run `npm fund` for details\n",
      "\u001b[1G\u001b[0K⠇\u001b[1G\u001b[0K\u001b[1mnpm\u001b[22m \u001b[96mnotice\u001b[39m\n",
      "\u001b[1mnpm\u001b[22m \u001b[96mnotice\u001b[39m New \u001b[31mmajor\u001b[39m version of npm available! \u001b[31m10.9.0\u001b[39m -> \u001b[34m11.3.0\u001b[39m\n",
      "\u001b[1mnpm\u001b[22m \u001b[96mnotice\u001b[39m Changelog: \u001b[34mhttps://github.com/npm/cli/releases/tag/v11.3.0\u001b[39m\n",
      "\u001b[1mnpm\u001b[22m \u001b[96mnotice\u001b[39m To update run: \u001b[4mnpm install -g npm@11.3.0\u001b[24m\n",
      "\u001b[1mnpm\u001b[22m \u001b[96mnotice\u001b[39m\n",
      "\u001b[1G\u001b[0K⠇\u001b[1G\u001b[0K"
     ]
    }
   ],
   "source": [
    "!npm install localtunnel"
   ]
  },
  {
   "cell_type": "code",
   "execution_count": null,
   "metadata": {
    "id": "gRSgSnFORC4-"
   },
   "outputs": [],
   "source": [
    "# Run this command from the shell (lower left corner of CoLab)\n",
    "# npx localtunnel --port 8501\n"
   ]
  },
  {
   "cell_type": "code",
   "execution_count": 81,
   "metadata": {
    "id": "XyVyNvWqRE5w",
    "tags": []
   },
   "outputs": [
    {
     "name": "stdout",
     "output_type": "stream",
     "text": [
      "34.135.111.231"
     ]
    }
   ],
   "source": [
    "# Run this in the CoLab to get the password, which is basically an IP address.\n",
    "!curl https://loca.lt/mytunnelpassword"
   ]
  },
  {
   "cell_type": "code",
   "execution_count": null,
   "metadata": {
    "id": "UPW2I9w3RFxV",
    "tags": []
   },
   "outputs": [
    {
     "name": "stdout",
     "output_type": "stream",
     "text": [
      "\u001b[32mINFO\u001b[0m:     Started server process [\u001b[36m2434745\u001b[0m]\n",
      "\u001b[32mINFO\u001b[0m:     Waiting for application startup.\n",
      "\u001b[32m\n",
      "+-----------------------------------------------------------------------------+\n",
      "| ADK Web Server started                                                      |\n",
      "|                                                                             |\n",
      "| For local testing, access at http://localhost:8000.                         |\n",
      "+-----------------------------------------------------------------------------+\n",
      "\u001b[0m\n",
      "\u001b[32mINFO\u001b[0m:     Application startup complete.\n",
      "\u001b[32mINFO\u001b[0m:     Uvicorn running on \u001b[1mhttp://0.0.0.0:8000\u001b[0m (Press CTRL+C to quit)\n",
      "\u001b[32mINFO\u001b[0m:     132.147.101.181:5346 - \"\u001b[1mGET / HTTP/1.1\u001b[0m\" \u001b[33m307 Temporary Redirect\u001b[0m\n",
      "\u001b[32mINFO\u001b[0m:     132.147.101.181:5346 - \"\u001b[1mGET /main-HWIBUY2R.js HTTP/1.1\u001b[0m\" \u001b[32m200 OK\u001b[0m\n",
      "\u001b[32mINFO\u001b[0m:     132.147.101.181:5346 - \"\u001b[1mGET /list-apps?relative_path=./ HTTP/1.1\u001b[0m\" \u001b[32m200 OK\u001b[0m\n",
      "2025-05-04 15:19:23,388 - INFO - fast_api.py:313 - New session created\n",
      "\u001b[32mINFO\u001b[0m:     132.147.101.181:5346 - \"\u001b[1mPOST /apps/agent_dice/users/user/sessions HTTP/1.1\u001b[0m\" \u001b[32m200 OK\u001b[0m\n",
      "\u001b[32mINFO\u001b[0m:     132.147.101.181:5336 - \"\u001b[1mGET /apps/agent_dice/eval_sets HTTP/1.1\u001b[0m\" \u001b[32m200 OK\u001b[0m\n",
      "\u001b[32mINFO\u001b[0m:     132.147.101.181:5346 - \"\u001b[1mGET /apps/agent_dice/users/user/sessions HTTP/1.1\u001b[0m\" \u001b[32m200 OK\u001b[0m\n",
      "\u001b[32mINFO\u001b[0m:     132.147.101.181:5346 - \"\u001b[1mGET /apps/agent_dice/users/user/sessions HTTP/1.1\u001b[0m\" \u001b[32m200 OK\u001b[0m\n"
     ]
    }
   ],
   "source": [
    "# Run this to launch the UI of ADK later\n",
    "!cd sample_agents && adk web"
   ]
  },
  {
   "cell_type": "code",
   "execution_count": null,
   "metadata": {},
   "outputs": [],
   "source": []
  }
 ],
 "metadata": {
  "colab": {
   "provenance": [],
   "toc_visible": true
  },
  "environment": {
   "kernel": "conda-base-py",
   "name": "workbench-notebooks.m128",
   "type": "gcloud",
   "uri": "us-docker.pkg.dev/deeplearning-platform-release/gcr.io/workbench-notebooks:m128"
  },
  "kernelspec": {
   "display_name": "Python 3 (ipykernel) (Local)",
   "language": "python",
   "name": "conda-base-py"
  },
  "language_info": {
   "codemirror_mode": {
    "name": "ipython",
    "version": 3
   },
   "file_extension": ".py",
   "mimetype": "text/x-python",
   "name": "python",
   "nbconvert_exporter": "python",
   "pygments_lexer": "ipython3",
   "version": "3.10.16"
  }
 },
 "nbformat": 4,
 "nbformat_minor": 4
}
